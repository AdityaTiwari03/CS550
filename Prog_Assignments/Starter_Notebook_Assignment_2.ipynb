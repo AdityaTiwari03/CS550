{
  "nbformat": 4,
  "nbformat_minor": 0,
  "metadata": {
    "colab": {
      "name": "Starter_Notebook_Assignment_2.ipynb",
      "provenance": []
    },
    "kernelspec": {
      "name": "python3",
      "display_name": "Python 3"
    },
    "language_info": {
      "name": "python"
    }
  },
  "cells": [
    {
      "cell_type": "markdown",
      "source": [
        "# Assignment 02\n",
        "\n",
        "Name:\n",
        "\n",
        "Roll Number:\n",
        "\n",
        "References Used to Complete the Assignment\n",
        "\n",
        "1.   \n",
        "2.   \n",
        "3. \n",
        "\n"
      ],
      "metadata": {
        "id": "rgugb71cgFEQ"
      }
    },
    {
      "cell_type": "markdown",
      "source": [
        "## Part A: Multi-Class Classification\n",
        "\n",
        "Captchas were invented to prevent bots from attacking websites. But the ML models are breaking captchas. Thus, stronger captchas are being invented. In this part, we will train a ML model to break hcaptcha (https://www.hcaptcha.com/ )!!\n",
        "\n",
        "Please download the following dataset: https://github.com/sarang-iitb/H-captcha-dataset"
      ],
      "metadata": {
        "id": "2uCmvBktgMT-"
      }
    },
    {
      "cell_type": "markdown",
      "source": [
        "### 0. Load the dataset"
      ],
      "metadata": {
        "id": "S5EmRPca9cqZ"
      }
    },
    {
      "cell_type": "code",
      "source": [
        "# cloning\n",
        "!git clone https://github.com/sarang-iitb/H-captcha-dataset"
      ],
      "metadata": {
        "colab": {
          "base_uri": "https://localhost:8080/"
        },
        "id": "QCSuSnvCAXyd",
        "outputId": "d833a683-4909-4f61-d603-4e56cf590d0e"
      },
      "execution_count": 17,
      "outputs": [
        {
          "output_type": "stream",
          "name": "stdout",
          "text": [
            "Cloning into 'H-captcha-dataset'...\n",
            "remote: Enumerating objects: 3, done.\u001b[K\n",
            "remote: Counting objects: 100% (3/3), done.\u001b[K\n",
            "remote: Compressing objects: 100% (2/2), done.\u001b[K\n",
            "remote: Total 3 (delta 0), reused 0 (delta 0), pack-reused 0\u001b[K\n",
            "Unpacking objects: 100% (3/3), done.\n"
          ]
        }
      ]
    },
    {
      "cell_type": "code",
      "source": [
        "import zipfile\n",
        "def unzip_data(filename):\n",
        "  \"\"\"\n",
        "  Unzips filename into the current working directory.\n",
        "\n",
        "  Args:\n",
        "    filename (str): a filepath to a target zip folder to be unzipped.\n",
        "  \"\"\"\n",
        "  zip_ref = zipfile.ZipFile(filename, \"r\")\n",
        "  zip_ref.extractall()\n",
        "  zip_ref.close()"
      ],
      "metadata": {
        "id": "iznH0goi-Ccw"
      },
      "execution_count": 11,
      "outputs": []
    },
    {
      "cell_type": "code",
      "source": [
        "unzip_data('/content/H-captcha-dataset/hcaptcha_dataset.zip')"
      ],
      "metadata": {
        "id": "EIjlbj27-ylp"
      },
      "execution_count": 18,
      "outputs": []
    },
    {
      "cell_type": "markdown",
      "source": [
        "### 1. Data Cleaning and Visualization"
      ],
      "metadata": {
        "id": "x70cI2sgmhB-"
      }
    },
    {
      "cell_type": "markdown",
      "source": [
        "a) Check out the labels in the dataset. How many images belong to each class?"
      ],
      "metadata": {
        "id": "QYeAFy1BnCkt"
      }
    },
    {
      "cell_type": "code",
      "source": [
        ""
      ],
      "metadata": {
        "id": "qBnVzQl48d8h"
      },
      "execution_count": null,
      "outputs": []
    },
    {
      "cell_type": "markdown",
      "source": [
        "b) How many train and test images are present in your dataset? "
      ],
      "metadata": {
        "id": "x4gcuHWqnULF"
      }
    },
    {
      "cell_type": "code",
      "source": [
        ""
      ],
      "metadata": {
        "id": "FQMa2ZRu8edp"
      },
      "execution_count": null,
      "outputs": []
    },
    {
      "cell_type": "markdown",
      "source": [
        "c) Write a function to display a random image and its shape. Find out whether\n",
        "the shape of each image is the same or not. If not then make all images of the\n",
        "same shape."
      ],
      "metadata": {
        "id": "cEBrdgZ_nYxV"
      }
    },
    {
      "cell_type": "code",
      "source": [
        ""
      ],
      "metadata": {
        "id": "9cQC_A5w8fUR"
      },
      "execution_count": null,
      "outputs": []
    },
    {
      "cell_type": "markdown",
      "source": [
        "d) Do you think removing color channels (R, G, B) from images would lead to\n",
        "poor modeling? How can you justify converting each image to greyscale? What\n",
        "will be the effect of using a colored 3-channel image over a grayscale one on the\n",
        "classification model’s performance?"
      ],
      "metadata": {
        "id": "NCVg0MfYnaDu"
      }
    },
    {
      "cell_type": "code",
      "source": [
        ""
      ],
      "metadata": {
        "id": "A6T-xXEq8f9h"
      },
      "execution_count": null,
      "outputs": []
    },
    {
      "cell_type": "markdown",
      "source": [
        "e) Should you normalize your color channel values? Based on your answers do\n",
        "the steps you think will be best for your model."
      ],
      "metadata": {
        "id": "utXKbsdZnaqt"
      }
    },
    {
      "cell_type": "code",
      "source": [
        ""
      ],
      "metadata": {
        "id": "u1NVnNhM8gvZ"
      },
      "execution_count": null,
      "outputs": []
    },
    {
      "cell_type": "markdown",
      "source": [
        "f) Visualize 3 random training images along with the labels for each class. The\n",
        "dataset was manually labeled, do you spot any errors in the labels?"
      ],
      "metadata": {
        "id": "216f5gvSnblN"
      }
    },
    {
      "cell_type": "code",
      "source": [
        ""
      ],
      "metadata": {
        "id": "UNz3HLbD8hep"
      },
      "execution_count": null,
      "outputs": []
    },
    {
      "cell_type": "markdown",
      "source": [
        "### 2. Preparing Balanced Samples for Training using only the Training set provided to you."
      ],
      "metadata": {
        "id": "uSgTvRWundIt"
      }
    },
    {
      "cell_type": "markdown",
      "source": [
        "a) Do you think if you apply cross-validation to the dataset then all the crossvalidation folds will be similar? Why or why not?"
      ],
      "metadata": {
        "id": "nx0SHb-2oSMu"
      }
    },
    {
      "cell_type": "code",
      "source": [
        ""
      ],
      "metadata": {
        "id": "osaz2xH_8iU5"
      },
      "execution_count": null,
      "outputs": []
    },
    {
      "cell_type": "markdown",
      "source": [
        "b) What can you do to ensure that every fold contains images from each class and no duplicates? Do the needful on your dataset that will ensure similar crossvalidation folds."
      ],
      "metadata": {
        "id": "79JXBoyjoZnd"
      }
    },
    {
      "cell_type": "code",
      "source": [
        ""
      ],
      "metadata": {
        "id": "gopIA8LO8i0Z"
      },
      "execution_count": null,
      "outputs": []
    },
    {
      "cell_type": "markdown",
      "source": [
        "### 3. Is Logistic regression a good algorithm for your dataset? Why or why not Based on the classification algorithms taught in class, which algorithms can be used to solve this problem?"
      ],
      "metadata": {
        "id": "Sld8UoDJohpt"
      }
    },
    {
      "cell_type": "code",
      "source": [
        ""
      ],
      "metadata": {
        "id": "e7fnJ31r8jhp"
      },
      "execution_count": null,
      "outputs": []
    },
    {
      "cell_type": "markdown",
      "source": [
        "### 4. Train the KNN classifier algorithm on the training dataset. Don’t use the test set at this time. "
      ],
      "metadata": {
        "id": "43nz5h7Bo0jc"
      }
    },
    {
      "cell_type": "markdown",
      "source": [
        "a) What distance/similarity function should we use for comparing images?\n",
        "Compare at least 3 different metrics on a few random samples to get some\n",
        "understanding of how they work."
      ],
      "metadata": {
        "id": "NB7mCSEgpUYV"
      }
    },
    {
      "cell_type": "code",
      "source": [
        ""
      ],
      "metadata": {
        "id": "VqWxuEI98oHJ"
      },
      "execution_count": null,
      "outputs": []
    },
    {
      "cell_type": "markdown",
      "source": [
        "b) What is the impact of increasing K on the speed and accuracy of the\n",
        "algorithm? "
      ],
      "metadata": {
        "id": "HWr5cASXpTFl"
      }
    },
    {
      "cell_type": "code",
      "source": [
        ""
      ],
      "metadata": {
        "id": "UdhMTCoX8oZR"
      },
      "execution_count": null,
      "outputs": []
    },
    {
      "cell_type": "markdown",
      "source": [
        "c) Choose a good value of K and the distance metric based on cross-validation."
      ],
      "metadata": {
        "id": "3ZvqV2PJpbZt"
      }
    },
    {
      "cell_type": "code",
      "source": [
        ""
      ],
      "metadata": {
        "id": "PUeyICb68pOJ"
      },
      "execution_count": null,
      "outputs": []
    },
    {
      "cell_type": "markdown",
      "source": [
        "### 5. Train SVM classifiers on the dataset. Don’t use the test set at this time."
      ],
      "metadata": {
        "id": "i_oc8vhkpvgU"
      }
    },
    {
      "cell_type": "markdown",
      "source": [
        "a) Which kernel functions can be used for this dataset? Why?"
      ],
      "metadata": {
        "id": "_1GXNxOhpxZz"
      }
    },
    {
      "cell_type": "code",
      "source": [
        ""
      ],
      "metadata": {
        "id": "FRsT787z8qHJ"
      },
      "execution_count": null,
      "outputs": []
    },
    {
      "cell_type": "markdown",
      "source": [
        "b) Which of the SVM implementations (SVC, SGDClassifier, NuSVC and LinearSVC)\n",
        "is the best for this dataset? Why?\n"
      ],
      "metadata": {
        "id": "c4jL57v7p2JN"
      }
    },
    {
      "cell_type": "code",
      "source": [
        ""
      ],
      "metadata": {
        "id": "OeIcmWz68qqR"
      },
      "execution_count": null,
      "outputs": []
    },
    {
      "cell_type": "markdown",
      "source": [
        "c) Finalize your SVM model based on cross-validation\n"
      ],
      "metadata": {
        "id": "NFeWHGqXp6Q8"
      }
    },
    {
      "cell_type": "code",
      "source": [
        ""
      ],
      "metadata": {
        "id": "XyAqlHYV8rGp"
      },
      "execution_count": null,
      "outputs": []
    },
    {
      "cell_type": "markdown",
      "source": [
        "### 6. Evaluate and compare the classification models on the test set provided to you"
      ],
      "metadata": {
        "id": "D4t1gaEKp90k"
      }
    },
    {
      "cell_type": "markdown",
      "source": [
        "a) Calculate the classification accuracy of both the models and compare"
      ],
      "metadata": {
        "id": "zOAthu8rqKN8"
      }
    },
    {
      "cell_type": "code",
      "source": [
        ""
      ],
      "metadata": {
        "id": "vXJ_hdiF8smB"
      },
      "execution_count": null,
      "outputs": []
    },
    {
      "cell_type": "markdown",
      "source": [
        "b) Which are the two classes that were most confused by your model? What\n",
        "classification evaluation metric can be used to best visualize it? Plot the\n",
        "visualization for both models"
      ],
      "metadata": {
        "id": "eQHQ469MqRqs"
      }
    },
    {
      "cell_type": "code",
      "source": [
        ""
      ],
      "metadata": {
        "id": "58JewE7j8tD6"
      },
      "execution_count": null,
      "outputs": []
    },
    {
      "cell_type": "markdown",
      "source": [
        "c) Do you think you can maximize both Precision and Recall for a model? What\n",
        "do you think will be a better metric to judge a model? "
      ],
      "metadata": {
        "id": "X4nSL3LCqZ_M"
      }
    },
    {
      "cell_type": "code",
      "source": [
        ""
      ],
      "metadata": {
        "id": "w1TSBbe-8tbh"
      },
      "execution_count": null,
      "outputs": []
    },
    {
      "cell_type": "markdown",
      "source": [
        "d) A bridge in Raipur is unstable and we want to avoid fatalities. Trucks and\n",
        "Buses should be stopped while motorbikes and bicycles can be allowed. Which\n",
        "of your 2 models do you think will be better for this task? Explain with the help of\n",
        "Precision/Recall, ROC curve and AUC."
      ],
      "metadata": {
        "id": "BozZpu-1qj6E"
      }
    },
    {
      "cell_type": "code",
      "source": [
        ""
      ],
      "metadata": {
        "id": "O0iNyvYQ8tvq"
      },
      "execution_count": null,
      "outputs": []
    },
    {
      "cell_type": "markdown",
      "source": [
        "e) Find the Micro and Macro F1 Score of both of your models and comment on\n",
        "which is better and why.\n"
      ],
      "metadata": {
        "id": "F1P8jG-yqoic"
      }
    },
    {
      "cell_type": "code",
      "source": [
        ""
      ],
      "metadata": {
        "id": "-1f2gJCR8uUR"
      },
      "execution_count": null,
      "outputs": []
    },
    {
      "cell_type": "markdown",
      "source": [
        "### 7. Write a function to create a random 3x3 captcha matrix and ask the user to label the class with maximum number of examples. Estimate how often your best model will be able to solve the captcha problem correctly.\n"
      ],
      "metadata": {
        "id": "UUawl4xPrMwM"
      }
    },
    {
      "cell_type": "code",
      "source": [
        ""
      ],
      "metadata": {
        "id": "NeUYH0dJ8viJ"
      },
      "execution_count": null,
      "outputs": []
    },
    {
      "cell_type": "markdown",
      "source": [
        "## Part B: Ensemble Models\n",
        "\n",
        "You started a Car Selling business and you are giving recommendations to people for buying cars.\n",
        "\n",
        "We have provided a dataset to help you start your business.\n",
        "\n",
        "\n",
        "Dataset: https://github.com/sarang-iitb/Car_Condition_evaluation_dataset\n",
        "\n",
        "\n",
        "Now, your job is to train a robust model and we will test how good you are on the test set. "
      ],
      "metadata": {
        "id": "gD7R5tgFrS2s"
      }
    },
    {
      "cell_type": "code",
      "source": [
        "# get the dataset\n",
        "!wget 'paste_link_here'"
      ],
      "metadata": {
        "id": "kpU_rFjRDWJv"
      },
      "execution_count": null,
      "outputs": []
    },
    {
      "cell_type": "markdown",
      "source": [
        "### Data Preparation: Perform necessary transformations on the input dataset to prepare it for ML model training."
      ],
      "metadata": {
        "id": "Z7MB46WCremd"
      }
    },
    {
      "cell_type": "code",
      "source": [
        ""
      ],
      "metadata": {
        "id": "cURlHCXm7hmK"
      },
      "execution_count": null,
      "outputs": []
    },
    {
      "cell_type": "markdown",
      "source": [
        "### Ensemble Model: Train any ensemble model of your choice combining your favorite models. In particular, we would like you to try both bagging and boosting.\n",
        "* Bag of models of your choice\n",
        "* Adaboost or XGBoost\n"
      ],
      "metadata": {
        "id": "Y1zTSdQ47jqZ"
      }
    },
    {
      "cell_type": "code",
      "source": [
        ""
      ],
      "metadata": {
        "id": "pHJipm7y8GMe"
      },
      "execution_count": null,
      "outputs": []
    }
  ]
}
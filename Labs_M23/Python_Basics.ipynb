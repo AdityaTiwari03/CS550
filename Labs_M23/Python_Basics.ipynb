{
 "cells": [
  {
   "cell_type": "markdown",
   "metadata": {
    "id": "966jn26KchHo"
   },
   "source": [
    "- Binary Operators\n",
    "- Lists\n",
    "- Tuples\n",
    "- Dictionaries\n",
    "- if-else\n",
    "- Loops\n",
    "- Functions\n",
    "- Strings\n",
    "- Set\n",
    "- Bitwise Operators"
   ]
  },
  {
   "cell_type": "markdown",
   "metadata": {
    "id": "3jWLej4NcqKM"
   },
   "source": [
    "### 1. Binary Operators"
   ]
  },
  {
   "cell_type": "code",
   "execution_count": null,
   "metadata": {
    "colab": {
     "base_uri": "https://localhost:8080/"
    },
    "executionInfo": {
     "elapsed": 17,
     "status": "ok",
     "timestamp": 1691385811123,
     "user": {
      "displayName": "PARUL DIWAKAR",
      "userId": "06075155684481979092"
     },
     "user_tz": -330
    },
    "id": "O0h2AGgocI10",
    "outputId": "669e3c03-c22b-45b5-a9c5-ae01d4ae1b05"
   },
   "outputs": [
    {
     "name": "stdout",
     "output_type": "stream",
     "text": [
      "3 + 5 =  8\n",
      "3 / 5 =  0.6\n",
      "3 ^ 5 =  243\n",
      "5 % 3 =  2\n",
      "3 // 5 =  0\n",
      "5 // 3 =  1\n"
     ]
    }
   ],
   "source": [
    "print(\"3 + 5 = \", 3+5)\n",
    "print(\"3 / 5 = \", 3/5)\n",
    "print(\"3 ^ 5 = \", 3**5)\n",
    "print(\"5 % 3 = \", 5%3)\n",
    "print(\"3 // 5 = \", 3//5)\n",
    "print(\"5 // 3 = \", 5//3)"
   ]
  },
  {
   "cell_type": "markdown",
   "metadata": {
    "id": "C-5xewRIc6A3"
   },
   "source": [
    "### 2. Printing Strings"
   ]
  },
  {
   "cell_type": "code",
   "execution_count": null,
   "metadata": {
    "colab": {
     "base_uri": "https://localhost:8080/"
    },
    "executionInfo": {
     "elapsed": 515,
     "status": "ok",
     "timestamp": 1691386142070,
     "user": {
      "displayName": "PARUL DIWAKAR",
      "userId": "06075155684481979092"
     },
     "user_tz": -330
    },
    "id": "Qa2UEk4Nc0uT",
    "outputId": "9d22302b-69ca-49bf-e3e6-4c601866a3db"
   },
   "outputs": [
    {
     "name": "stdout",
     "output_type": "stream",
     "text": [
      "A wants to learn Python & B is 21.50 years old.\n",
      "A is a dog of age 3.\n",
      "A is a cat of age 7.\n",
      "7 is a cat of age A.\n",
      "A is a cat of age 7.\n"
     ]
    }
   ],
   "source": [
    "a = \"A\"\n",
    "print(\"%s wants to learn Python & \"%(a), end=\"\")\n",
    "\n",
    "age = 21.5\n",
    "print(\"B is %0.2f years old.\"%(age))\n",
    "\n",
    "print(\"%s is a dog of age %d.\"%(a, age/7))\n",
    "\n",
    "#Using format() method\n",
    "print(\"{} is a cat of age {}.\".format(a, int(age/3)))\n",
    "\n",
    "#By default 1st {} -> 0 & 2nd {} -> 1\n",
    "print(\"{1} is a cat of age {0}.\".format(a, int(age/3)))\n",
    "\n",
    "#f string\n",
    "print(f\"{a} is a cat of age {int(age/3)}.\")"
   ]
  },
  {
   "cell_type": "code",
   "execution_count": null,
   "metadata": {
    "colab": {
     "base_uri": "https://localhost:8080/"
    },
    "executionInfo": {
     "elapsed": 9,
     "status": "ok",
     "timestamp": 1691386526478,
     "user": {
      "displayName": "PARUL DIWAKAR",
      "userId": "06075155684481979092"
     },
     "user_tz": -330
    },
    "id": "Qnwm6f9mdl_h",
    "outputId": "c3bf020d-6ef9-4139-9ac1-2a1a29c910ad"
   },
   "outputs": [
    {
     "name": "stdout",
     "output_type": "stream",
     "text": [
      "Apple Orange Mango\n",
      "Apple Orange Mango\n",
      "Apple Orange Mango\n",
      "Apple Orange Mango\n",
      "\n"
     ]
    }
   ],
   "source": [
    "print(\"Apple Orange Mango\\n\" *4)"
   ]
  },
  {
   "cell_type": "markdown",
   "metadata": {
    "id": "2xRuUg_xfmAa"
   },
   "source": [
    "### 3. Lists -> [ ]"
   ]
  },
  {
   "cell_type": "code",
   "execution_count": null,
   "metadata": {
    "colab": {
     "base_uri": "https://localhost:8080/"
    },
    "executionInfo": {
     "elapsed": 632,
     "status": "ok",
     "timestamp": 1691386945441,
     "user": {
      "displayName": "PARUL DIWAKAR",
      "userId": "06075155684481979092"
     },
     "user_tz": -330
    },
    "id": "QIkt5G1qgxnI",
    "outputId": "6ef10e0d-add2-4e75-b36c-bf790294f62c"
   },
   "outputs": [
    {
     "name": "stdout",
     "output_type": "stream",
     "text": [
      "['apple', 'banana', 'mango', 'cherries', 'blue berries', 'cantaloupe', 'melon']\n",
      "apple\n",
      "a\n",
      "melon\n",
      "['apple', 'banana', 'mango', 'cherries', 'blue berries', 'cantaloupe', 'melon', 'pear']\n",
      "['apple', 'banana', 'mango', 'cherry', 'blue berries', 'cantaloupe', 'melon', 'pear']\n"
     ]
    }
   ],
   "source": [
    "fruits = [\"apple\", \"banana\", \"mango\", \"cherries\", \"blue berries\", \"cantaloupe\", \"melon\"]\n",
    "\n",
    "print(fruits)\n",
    "print(fruits[0])\n",
    "print(fruits[0][0])\n",
    "print(fruits[-1])\n",
    "\n",
    "fruits.append(\"pear\")\n",
    "print(fruits)\n",
    "\n",
    "fruits[3] = \"cherry\"\n",
    "print(fruits)"
   ]
  },
  {
   "cell_type": "markdown",
   "metadata": {
    "id": "XK-L8LqmhRG9"
   },
   "source": [
    "#### 3.1 List Slicing\n",
    "- Syntax: [start : stop : step]"
   ]
  },
  {
   "cell_type": "code",
   "execution_count": null,
   "metadata": {
    "colab": {
     "base_uri": "https://localhost:8080/"
    },
    "executionInfo": {
     "elapsed": 486,
     "status": "ok",
     "timestamp": 1691387029785,
     "user": {
      "displayName": "PARUL DIWAKAR",
      "userId": "06075155684481979092"
     },
     "user_tz": -330
    },
    "id": "ExL8n8-DhLIj",
    "outputId": "656875a9-eb5f-473f-a63e-3321433d4df6"
   },
   "outputs": [
    {
     "name": "stdout",
     "output_type": "stream",
     "text": [
      "['banana', 'mango', 'cherry', 'blue berries', 'cantaloupe', 'melon', 'pear']\n",
      "['mango', 'cherry', 'blue berries', 'cantaloupe']\n",
      "['banana', 'mango']\n",
      "['apple', 'banana', 'mango', 'watermelon', 'cherry', 'cantaloupe', 'melon', 'pear']\n"
     ]
    }
   ],
   "source": [
    "print(fruits[1:])\n",
    "print(fruits[2:-2])\n",
    "print(fruits[1:3])\n",
    "\n",
    "fruits.insert(3, \"watermelon\")\n",
    "fruits.remove(\"blue berries\")\n",
    "print(fruits)"
   ]
  },
  {
   "cell_type": "markdown",
   "metadata": {
    "id": "rKFzasI5hvcM"
   },
   "source": [
    "#### 3.2 Reversing a List"
   ]
  },
  {
   "cell_type": "code",
   "execution_count": null,
   "metadata": {
    "colab": {
     "base_uri": "https://localhost:8080/"
    },
    "executionInfo": {
     "elapsed": 17,
     "status": "ok",
     "timestamp": 1691387147472,
     "user": {
      "displayName": "PARUL DIWAKAR",
      "userId": "06075155684481979092"
     },
     "user_tz": -330
    },
    "id": "tUFDUXK7h4BW",
    "outputId": "bfbdf958-b252-4ef2-c967-947a876ce242"
   },
   "outputs": [
    {
     "name": "stdout",
     "output_type": "stream",
     "text": [
      "['pear', 'melon', 'cantaloupe', 'cherry', 'watermelon', 'mango', 'banana', 'apple']\n"
     ]
    }
   ],
   "source": [
    "fruits.reverse()\n",
    "print(fruits)"
   ]
  },
  {
   "cell_type": "markdown",
   "metadata": {
    "id": "tQICndmjhnYb"
   },
   "source": [
    "#### 3.3 Concatenating two Lists"
   ]
  },
  {
   "cell_type": "code",
   "execution_count": null,
   "metadata": {
    "colab": {
     "base_uri": "https://localhost:8080/"
    },
    "executionInfo": {
     "elapsed": 567,
     "status": "ok",
     "timestamp": 1691387445089,
     "user": {
      "displayName": "PARUL DIWAKAR",
      "userId": "06075155684481979092"
     },
     "user_tz": -330
    },
    "id": "hMR0IO7_iAPW",
    "outputId": "e3a9ffe5-07f9-4724-b72c-78196b1f66d8"
   },
   "outputs": [
    {
     "name": "stdout",
     "output_type": "stream",
     "text": [
      "['cantaloupe', 'cherry', 'watermelon', 'potato', 'cucumber', 'radish']\n"
     ]
    }
   ],
   "source": [
    "veggies = [\"potato\", \"cucumber\", \"radish\"]\n",
    "print(fruits[2:5] + veggies)"
   ]
  },
  {
   "cell_type": "markdown",
   "metadata": {
    "id": "AgKuW-ZVjPf5"
   },
   "source": [
    "#### 3.4 List Comprehension"
   ]
  },
  {
   "cell_type": "code",
   "execution_count": null,
   "metadata": {
    "colab": {
     "base_uri": "https://localhost:8080/"
    },
    "executionInfo": {
     "elapsed": 832,
     "status": "ok",
     "timestamp": 1691387582456,
     "user": {
      "displayName": "PARUL DIWAKAR",
      "userId": "06075155684481979092"
     },
     "user_tz": -330
    },
    "id": "84Yc0QKXjNeq",
    "outputId": "1c172fbd-1ee6-4677-d21d-05f6b58264a6"
   },
   "outputs": [
    {
     "name": "stdout",
     "output_type": "stream",
     "text": [
      "[0, 1, 4, 9, 16]\n"
     ]
    }
   ],
   "source": [
    "squares = [x**2 for x in range(5)]\n",
    "print(squares)"
   ]
  },
  {
   "cell_type": "markdown",
   "metadata": {
    "id": "dAYF0ZTGfrA3"
   },
   "source": [
    "### 4.Tuples -> ( )"
   ]
  },
  {
   "cell_type": "code",
   "execution_count": null,
   "metadata": {
    "colab": {
     "base_uri": "https://localhost:8080/"
    },
    "executionInfo": {
     "elapsed": 415,
     "status": "ok",
     "timestamp": 1691387481711,
     "user": {
      "displayName": "PARUL DIWAKAR",
      "userId": "06075155684481979092"
     },
     "user_tz": -330
    },
    "id": "4ZXnUIvxgyIg",
    "outputId": "c2717c3e-41eb-45d0-c03e-91f063c40270"
   },
   "outputs": [
    {
     "name": "stdout",
     "output_type": "stream",
     "text": [
      "((1, 1), (2, 4), (3, 9))\n",
      "((2, 4), (3, 9))\n",
      "(1, 1)\n",
      "9\n"
     ]
    }
   ],
   "source": [
    "squares = ((1,1), (2,4), (3,9))\n",
    "print(squares)\n",
    "print(squares[1:])\n",
    "print(squares[0])\n",
    "print(squares[2][1])"
   ]
  },
  {
   "cell_type": "markdown",
   "metadata": {
    "id": "i7KrJhOPf-CO"
   },
   "source": [
    "### 5. Dictionaries -> { : }"
   ]
  },
  {
   "cell_type": "code",
   "execution_count": 1,
   "metadata": {
    "id": "bKf355a3gyzd"
   },
   "outputs": [],
   "source": [
    "ascii_code = { 'a' : ord('a'),\n",
    "               'b' : ord('b'),\n",
    "               'c' : ord('c'),\n",
    "               'd' : ord('d')}"
   ]
  },
  {
   "cell_type": "code",
   "execution_count": 2,
   "metadata": {
    "colab": {
     "base_uri": "https://localhost:8080/"
    },
    "executionInfo": {
     "elapsed": 528,
     "status": "ok",
     "timestamp": 1691387628113,
     "user": {
      "displayName": "PARUL DIWAKAR",
      "userId": "06075155684481979092"
     },
     "user_tz": -330
    },
    "id": "oKg4uGKzjreo",
    "outputId": "fa5dc191-4144-4d6a-b985-a87d371a7946"
   },
   "outputs": [
    {
     "name": "stdout",
     "output_type": "stream",
     "text": [
      "98\n",
      "97\n",
      "dict_keys(['a', 'b', 'c', 'd'])\n",
      "dict_values([97, 98, 99, 100])\n"
     ]
    },
    {
     "data": {
      "text/plain": [
       "dict_keys"
      ]
     },
     "execution_count": 2,
     "metadata": {},
     "output_type": "execute_result"
    }
   ],
   "source": [
    "print(ascii_code['b'])\n",
    "print(ascii_code.get('a'))\n",
    "print(ascii_code.keys())\n",
    "print(ascii_code.values())\n",
    "\n",
    "type(ascii_code.keys())"
   ]
  },
  {
   "cell_type": "code",
   "execution_count": 5,
   "metadata": {},
   "outputs": [
    {
     "data": {
      "text/plain": [
       "[97, 98, 99, 100]"
      ]
     },
     "execution_count": 5,
     "metadata": {},
     "output_type": "execute_result"
    }
   ],
   "source": [
    "list(ascii_code.values())"
   ]
  },
  {
   "cell_type": "code",
   "execution_count": null,
   "metadata": {
    "id": "TowDv4bzj7qa"
   },
   "outputs": [],
   "source": [
    "sounds = {\n",
    "            'cat' : 'meow',\n",
    "            'dog' : 'bark',\n",
    "            'snake' : 'hiss',\n",
    "            'lion' : 'roar'\n",
    "           }"
   ]
  },
  {
   "cell_type": "code",
   "execution_count": null,
   "metadata": {
    "colab": {
     "base_uri": "https://localhost:8080/",
     "height": 35
    },
    "executionInfo": {
     "elapsed": 346,
     "status": "ok",
     "timestamp": 1691403469378,
     "user": {
      "displayName": "PARUL DIWAKAR",
      "userId": "06075155684481979092"
     },
     "user_tz": -330
    },
    "id": "DBasftftkDvt",
    "outputId": "169080d9-7ce7-4cd6-a125-9b2bbdec7965"
   },
   "outputs": [
    {
     "data": {
      "application/vnd.google.colaboratory.intrinsic+json": {
       "type": "string"
      },
      "text/plain": [
       "'bark'"
      ]
     },
     "execution_count": 5,
     "metadata": {},
     "output_type": "execute_result"
    }
   ],
   "source": [
    "sounds['snake'] = 'ss'\n",
    "sounds.pop('dog')"
   ]
  },
  {
   "cell_type": "code",
   "execution_count": null,
   "metadata": {
    "colab": {
     "base_uri": "https://localhost:8080/"
    },
    "executionInfo": {
     "elapsed": 16,
     "status": "ok",
     "timestamp": 1691403469998,
     "user": {
      "displayName": "PARUL DIWAKAR",
      "userId": "06075155684481979092"
     },
     "user_tz": -330
    },
    "id": "H2eoYSWLkRWa",
    "outputId": "ee841367-2192-44c2-91dd-375bb3666de8"
   },
   "outputs": [
    {
     "data": {
      "text/plain": [
       "{'cat': 'meow', 'snake': 'ss', 'lion': 'roar'}"
      ]
     },
     "execution_count": 6,
     "metadata": {},
     "output_type": "execute_result"
    }
   ],
   "source": [
    "sounds"
   ]
  },
  {
   "cell_type": "code",
   "execution_count": null,
   "metadata": {
    "id": "LNfjttllkVJN"
   },
   "outputs": [],
   "source": [
    "sounds.update({'snake' : 'hiss'})"
   ]
  },
  {
   "cell_type": "code",
   "execution_count": null,
   "metadata": {
    "colab": {
     "base_uri": "https://localhost:8080/"
    },
    "executionInfo": {
     "elapsed": 6,
     "status": "ok",
     "timestamp": 1691403471136,
     "user": {
      "displayName": "PARUL DIWAKAR",
      "userId": "06075155684481979092"
     },
     "user_tz": -330
    },
    "id": "Rwrka6xdkZw8",
    "outputId": "dd8efa51-9a6e-4588-f14a-6a3c14fe83b2"
   },
   "outputs": [
    {
     "data": {
      "text/plain": [
       "{'cat': 'meow', 'snake': 'hiss', 'lion': 'roar'}"
      ]
     },
     "execution_count": 8,
     "metadata": {},
     "output_type": "execute_result"
    }
   ],
   "source": [
    "sounds"
   ]
  },
  {
   "cell_type": "markdown",
   "metadata": {
    "id": "GUhBbmrQf-El"
   },
   "source": [
    "### 6. if-else and User Input"
   ]
  },
  {
   "cell_type": "code",
   "execution_count": null,
   "metadata": {
    "colab": {
     "base_uri": "https://localhost:8080/"
    },
    "executionInfo": {
     "elapsed": 22214,
     "status": "ok",
     "timestamp": 1691403495624,
     "user": {
      "displayName": "PARUL DIWAKAR",
      "userId": "06075155684481979092"
     },
     "user_tz": -330
    },
    "id": "x2s4Nt_OgzYv",
    "outputId": "cd038b9e-f6bc-446e-c2c3-190fab8827af"
   },
   "outputs": [
    {
     "name": "stdout",
     "output_type": "stream",
     "text": [
      "Enter your name: parul\n",
      "Enter your age: 23\n",
      "Enter your marks: 82\n",
      "Grade : B\n"
     ]
    }
   ],
   "source": [
    "name = input(\"Enter your name: \")\n",
    "age = int(input(\"Enter your age: \"))\n",
    "marks = int(input(\"Enter your marks: \"))\n",
    "\n",
    "if (marks >= 90):\n",
    "    print(\"Grade : A\")\n",
    "\n",
    "elif (marks>=80 and marks<90):\n",
    "    print(\"Grade : B\")\n",
    "\n",
    "elif (marks>=70 and marks<80):\n",
    "    print(\"Grade : C\")\n",
    "\n",
    "else:\n",
    "    print(\"Grade : D\")"
   ]
  },
  {
   "cell_type": "markdown",
   "metadata": {
    "id": "zZ1jLlRFf-G-"
   },
   "source": [
    "### 7. Loops"
   ]
  },
  {
   "cell_type": "code",
   "execution_count": null,
   "metadata": {
    "colab": {
     "base_uri": "https://localhost:8080/"
    },
    "executionInfo": {
     "elapsed": 552,
     "status": "ok",
     "timestamp": 1691388131652,
     "user": {
      "displayName": "PARUL DIWAKAR",
      "userId": "06075155684481979092"
     },
     "user_tz": -330
    },
    "id": "8tdP3dMRg0AS",
    "outputId": "fcaad150-80dd-43a2-bf68-a9cb52146bab"
   },
   "outputs": [
    {
     "name": "stdout",
     "output_type": "stream",
     "text": [
      "2\n",
      "3\n",
      "4\n",
      "5\n",
      "6\n",
      "7\n",
      "8\n",
      "9\n"
     ]
    }
   ],
   "source": [
    "#for loop\n",
    "for i in range(2,10):\n",
    "    print(i)"
   ]
  },
  {
   "cell_type": "code",
   "execution_count": null,
   "metadata": {
    "colab": {
     "base_uri": "https://localhost:8080/"
    },
    "executionInfo": {
     "elapsed": 23,
     "status": "ok",
     "timestamp": 1691387951662,
     "user": {
      "displayName": "PARUL DIWAKAR",
      "userId": "06075155684481979092"
     },
     "user_tz": -330
    },
    "id": "Ik4g2GQhk2u7",
    "outputId": "54a2f5ef-76b8-4a87-fb9a-742e5494b44e"
   },
   "outputs": [
    {
     "name": "stdout",
     "output_type": "stream",
     "text": [
      "a 97\n",
      "b 98\n",
      "c 99\n",
      "d 100\n"
     ]
    }
   ],
   "source": [
    "for key, value in ascii_code.items():\n",
    "    print(key, value)"
   ]
  },
  {
   "cell_type": "code",
   "execution_count": null,
   "metadata": {
    "id": "7wNgym_3k6UP"
   },
   "outputs": [],
   "source": [
    "list1 = [[23,34,11],\n",
    "         [55,32,12],\n",
    "         [59,40,61]]\n",
    "\n",
    "list2 = [21,33,54,64,12]"
   ]
  },
  {
   "cell_type": "code",
   "execution_count": null,
   "metadata": {
    "colab": {
     "base_uri": "https://localhost:8080/"
    },
    "executionInfo": {
     "elapsed": 425,
     "status": "ok",
     "timestamp": 1691388076758,
     "user": {
      "displayName": "PARUL DIWAKAR",
      "userId": "06075155684481979092"
     },
     "user_tz": -330
    },
    "id": "Jyak_SfslQ9G",
    "outputId": "3a4bbc06-f60d-4710-b9e2-1b53fc47ddb0"
   },
   "outputs": [
    {
     "name": "stdout",
     "output_type": "stream",
     "text": [
      "23 34 11 \n",
      "55 32 12 \n",
      "59 40 61 \n"
     ]
    }
   ],
   "source": [
    "for row in list1:\n",
    "   for col in row:\n",
    "    print(col, end=\" \")\n",
    "  print()"
   ]
  },
  {
   "cell_type": "code",
   "execution_count": 7,
   "metadata": {
    "colab": {
     "base_uri": "https://localhost:8080/"
    },
    "executionInfo": {
     "elapsed": 14043,
     "status": "ok",
     "timestamp": 1691388228025,
     "user": {
      "displayName": "PARUL DIWAKAR",
      "userId": "06075155684481979092"
     },
     "user_tz": -330
    },
    "id": "If07lLzMlfXz",
    "outputId": "a2414053-7ba7-4720-ec27-1c3f9a1ac9f0"
   },
   "outputs": [
    {
     "name": "stdout",
     "output_type": "stream",
     "text": [
      "Enter a number: 6\n",
      "number greater than 4\n",
      " enter again: 7\n",
      "number greater than 4\n",
      " enter again: 2\n"
     ]
    }
   ],
   "source": [
    "#while loop\n",
    "number = int(input(\"Enter a number: \"))\n",
    "\n",
    "while (number > 4):\n",
    "    number = int(input(\"number greater than 4\\n enter again: \"))"
   ]
  },
  {
   "cell_type": "markdown",
   "metadata": {
    "id": "MEvtE9EFgS17"
   },
   "source": [
    "### 8. Functions"
   ]
  },
  {
   "cell_type": "code",
   "execution_count": null,
   "metadata": {
    "colab": {
     "base_uri": "https://localhost:8080/"
    },
    "executionInfo": {
     "elapsed": 725,
     "status": "ok",
     "timestamp": 1691388631370,
     "user": {
      "displayName": "PARUL DIWAKAR",
      "userId": "06075155684481979092"
     },
     "user_tz": -330
    },
    "id": "Xa7rwSlVg0eU",
    "outputId": "75ad5535-690b-4106-d233-7239193731b4"
   },
   "outputs": [
    {
     "name": "stdout",
     "output_type": "stream",
     "text": [
      "4.0\n"
     ]
    }
   ],
   "source": [
    "def avg(num1, num2):\n",
    "    average = (num1+num2)/2\n",
    "    return average\n",
    "\n",
    "print(avg(3,5))"
   ]
  },
  {
   "cell_type": "markdown",
   "metadata": {
    "id": "uDGSR-zGnn6Y"
   },
   "source": [
    "#### 8.1 Lambda Functions\n",
    "- A lambda function is a small anonymous function.\n",
    "- A lambda function can take any number of arguments, but can only have one expression.\n",
    "\n"
   ]
  },
  {
   "cell_type": "code",
   "execution_count": null,
   "metadata": {
    "colab": {
     "base_uri": "https://localhost:8080/"
    },
    "executionInfo": {
     "elapsed": 725,
     "status": "ok",
     "timestamp": 1691388800532,
     "user": {
      "displayName": "PARUL DIWAKAR",
      "userId": "06075155684481979092"
     },
     "user_tz": -330
    },
    "id": "hW2FcUq0nsl3",
    "outputId": "fea65323-1bfa-402d-f26a-b851548fa596"
   },
   "outputs": [
    {
     "name": "stdout",
     "output_type": "stream",
     "text": [
      "8\n"
     ]
    }
   ],
   "source": [
    "a = 2\n",
    "x = lambda a : a ** 3\n",
    "\n",
    "print(x(2))"
   ]
  },
  {
   "cell_type": "code",
   "execution_count": null,
   "metadata": {
    "colab": {
     "base_uri": "https://localhost:8080/"
    },
    "executionInfo": {
     "elapsed": 490,
     "status": "ok",
     "timestamp": 1691389228001,
     "user": {
      "displayName": "PARUL DIWAKAR",
      "userId": "06075155684481979092"
     },
     "user_tz": -330
    },
    "id": "9ZtU2INsoO4n",
    "outputId": "ae08cafb-715a-47c2-fc8e-67e6b19c2036"
   },
   "outputs": [
    {
     "name": "stdout",
     "output_type": "stream",
     "text": [
      "4.0\n"
     ]
    }
   ],
   "source": [
    "def avg():\n",
    "  return lambda a, b: (a+b) / 2\n",
    "average = avg() #returns the object\n",
    "print(average(3,5))"
   ]
  },
  {
   "cell_type": "markdown",
   "metadata": {
    "id": "ffZ2Z2eggS4L"
   },
   "source": [
    "### 9. File Handling\n"
   ]
  },
  {
   "cell_type": "code",
   "execution_count": null,
   "metadata": {
    "colab": {
     "base_uri": "https://localhost:8080/"
    },
    "executionInfo": {
     "elapsed": 424,
     "status": "ok",
     "timestamp": 1691389892739,
     "user": {
      "displayName": "PARUL DIWAKAR",
      "userId": "06075155684481979092"
     },
     "user_tz": -330
    },
    "id": "TFI00Qqpg1Fd",
    "outputId": "7a7e4a27-020a-46de-9398-4ecf5aa25c07"
   },
   "outputs": [
    {
     "name": "stdout",
     "output_type": "stream",
     "text": [
      "practice1.txt\n",
      "wb\n"
     ]
    }
   ],
   "source": [
    "#Writing in a file\n",
    "\n",
    "file1 = open(\"practice1.txt\", \"wb\")\n",
    "\n",
    "print(file1.name)\n",
    "print(file1.mode)\n",
    "\n",
    "file1.write(bytes(\"Text was added to this file.\", \"UTF-8\"))\n",
    "file1.close()"
   ]
  },
  {
   "cell_type": "code",
   "execution_count": null,
   "metadata": {
    "colab": {
     "base_uri": "https://localhost:8080/"
    },
    "executionInfo": {
     "elapsed": 13,
     "status": "ok",
     "timestamp": 1691389893426,
     "user": {
      "displayName": "PARUL DIWAKAR",
      "userId": "06075155684481979092"
     },
     "user_tz": -330
    },
    "id": "LFX_1-V_rKfh",
    "outputId": "f7d09861-8841-423e-ca63-fffb8a9c47e2"
   },
   "outputs": [
    {
     "name": "stdout",
     "output_type": "stream",
     "text": [
      "Text was added to this file.\n"
     ]
    }
   ],
   "source": [
    "file2 = open(\"practice1.txt\", \"r+\")\n",
    "print(file2.read())\n",
    "file2.close()"
   ]
  },
  {
   "cell_type": "markdown",
   "metadata": {
    "id": "_9NltPuBgS6c"
   },
   "source": [
    "### 10. Strings"
   ]
  },
  {
   "cell_type": "code",
   "execution_count": null,
   "metadata": {
    "colab": {
     "base_uri": "https://localhost:8080/"
    },
    "executionInfo": {
     "elapsed": 16,
     "status": "ok",
     "timestamp": 1691389345786,
     "user": {
      "displayName": "PARUL DIWAKAR",
      "userId": "06075155684481979092"
     },
     "user_tz": -330
    },
    "id": "yqPLiCWdg10r",
    "outputId": "4a0654be-c15a-4877-9391-8ca870a1be3c"
   },
   "outputs": [
    {
     "name": "stdout",
     "output_type": "stream",
     "text": [
      "-1\n",
      "Machine learning class .\n",
      "Machine Learning Clas\n",
      "['Machine', 'Learning', 'Class', '.']\n",
      "M#a#c#h#i#n#e# #L#e#a#r#n#i#n#g# #C#l#a#s#s# #.\n",
      "MACHINE LEARNING CLASS .\n",
      "machine learning class .\n"
     ]
    }
   ],
   "source": [
    "string = \"Machine Learning Class .\"\n",
    "\n",
    "print(string.find(\"is\"))\n",
    "print(string.capitalize())\n",
    "print(string[:-3])\n",
    "print(string.split(\" \"))\n",
    "print((\"#\").join(string))\n",
    "print(string.upper())\n",
    "print(string.lower())"
   ]
  },
  {
   "cell_type": "code",
   "execution_count": null,
   "metadata": {
    "colab": {
     "base_uri": "https://localhost:8080/"
    },
    "executionInfo": {
     "elapsed": 10,
     "status": "ok",
     "timestamp": 1691389332000,
     "user": {
      "displayName": "PARUL DIWAKAR",
      "userId": "06075155684481979092"
     },
     "user_tz": -330
    },
    "id": "c5_wCQ4eqERi",
    "outputId": "38b25384-3653-4d0b-8a50-c4fd4579fab2"
   },
   "outputs": [
    {
     "name": "stdout",
     "output_type": "stream",
     "text": [
      "      extra space   \n",
      "extra space\n"
     ]
    }
   ],
   "source": [
    "string2 = \"      extra space   \"\n",
    "\n",
    "print(string2)\n",
    "print(string2.strip())"
   ]
  },
  {
   "cell_type": "code",
   "execution_count": null,
   "metadata": {
    "colab": {
     "base_uri": "https://localhost:8080/"
    },
    "executionInfo": {
     "elapsed": 474,
     "status": "ok",
     "timestamp": 1691389370029,
     "user": {
      "displayName": "PARUL DIWAKAR",
      "userId": "06075155684481979092"
     },
     "user_tz": -330
    },
    "id": "uVSB9SUAqKgR",
    "outputId": "ec85822d-1a1a-463d-da61-8b45b3b55c90"
   },
   "outputs": [
    {
     "name": "stdout",
     "output_type": "stream",
     "text": [
      "Asia America Europe\n"
     ]
    }
   ],
   "source": [
    "string3 = \"Asia, America, Europe\"\n",
    "print(string3.replace(\",\", \"\"))"
   ]
  },
  {
   "cell_type": "markdown",
   "metadata": {
    "id": "AGD8WWXSgo4k"
   },
   "source": [
    "### 11. Sets"
   ]
  },
  {
   "cell_type": "code",
   "execution_count": null,
   "metadata": {
    "colab": {
     "base_uri": "https://localhost:8080/"
    },
    "executionInfo": {
     "elapsed": 26,
     "status": "ok",
     "timestamp": 1691389916434,
     "user": {
      "displayName": "PARUL DIWAKAR",
      "userId": "06075155684481979092"
     },
     "user_tz": -330
    },
    "id": "CAAjSKIQfjUF",
    "outputId": "677ae318-f9ee-461f-ee94-cfdaf9800961"
   },
   "outputs": [
    {
     "name": "stdout",
     "output_type": "stream",
     "text": [
      "{1, 2, 3, 4, 5, 6}\n"
     ]
    }
   ],
   "source": [
    "set_list = { 1,3,2,1,3,1,4,5,2,4,2,4,6,6,5}\n",
    "print(set_list)"
   ]
  },
  {
   "cell_type": "code",
   "execution_count": null,
   "metadata": {
    "colab": {
     "base_uri": "https://localhost:8080/"
    },
    "executionInfo": {
     "elapsed": 1017,
     "status": "ok",
     "timestamp": 1691389949700,
     "user": {
      "displayName": "PARUL DIWAKAR",
      "userId": "06075155684481979092"
     },
     "user_tz": -330
    },
    "id": "wRufJo9Esew1",
    "outputId": "754a38db-f246-4078-9427-be4c2f94f464"
   },
   "outputs": [
    {
     "name": "stdout",
     "output_type": "stream",
     "text": [
      "{1, 2, 3, 4, 5, 6, 12, 13, 21, 23, 5343, 32, 545}\n"
     ]
    }
   ],
   "source": [
    "set_list.add(23) #to add one no.\n",
    "set_list.update([32,5343,12,545,21,12,21,21,13,4]) #to append multiple no.s\n",
    "print(set_list)"
   ]
  },
  {
   "cell_type": "code",
   "execution_count": null,
   "metadata": {
    "colab": {
     "base_uri": "https://localhost:8080/"
    },
    "executionInfo": {
     "elapsed": 445,
     "status": "ok",
     "timestamp": 1691389982127,
     "user": {
      "displayName": "PARUL DIWAKAR",
      "userId": "06075155684481979092"
     },
     "user_tz": -330
    },
    "id": "lTBncZTxsm9c",
    "outputId": "a276df87-5294-4992-a4dd-28ba0714029d"
   },
   "outputs": [
    {
     "name": "stdout",
     "output_type": "stream",
     "text": [
      "{1, 2, 3, 4, 5, 6, 13, 21, 23, 5343, 32, 545}\n"
     ]
    }
   ],
   "source": [
    "set_list.remove(12)    #if the no. is present then removes it otherwise gives an error\n",
    "set_list.discard(333)  #if the no. is present then removes it otherwise no action\n",
    "print(set_list)"
   ]
  },
  {
   "cell_type": "code",
   "execution_count": null,
   "metadata": {
    "colab": {
     "base_uri": "https://localhost:8080/"
    },
    "executionInfo": {
     "elapsed": 729,
     "status": "ok",
     "timestamp": 1691389999308,
     "user": {
      "displayName": "PARUL DIWAKAR",
      "userId": "06075155684481979092"
     },
     "user_tz": -330
    },
    "id": "y2dFkE80svFP",
    "outputId": "2c2a0def-1fee-4d1c-c46d-8052f8209d39"
   },
   "outputs": [
    {
     "name": "stdout",
     "output_type": "stream",
     "text": [
      "{2, 3, 4, 5, 6, 13, 21, 23, 5343, 32, 545}\n",
      "set()\n"
     ]
    }
   ],
   "source": [
    "set_list.pop()\n",
    "print(set_list)\n",
    "\n",
    "set_list.clear()\n",
    "print(set_list)"
   ]
  },
  {
   "cell_type": "markdown",
   "metadata": {
    "id": "WET3jH_SSaqP"
   },
   "source": [
    "### 12. Bitwise Operators"
   ]
  },
  {
   "cell_type": "code",
   "execution_count": null,
   "metadata": {
    "colab": {
     "base_uri": "https://localhost:8080/"
    },
    "executionInfo": {
     "elapsed": 755,
     "status": "ok",
     "timestamp": 1691400665602,
     "user": {
      "displayName": "PARUL DIWAKAR",
      "userId": "06075155684481979092"
     },
     "user_tz": -330
    },
    "id": "exgRxM6hSxpJ",
    "outputId": "c300e0f4-2ee0-43e7-df3f-a8b80989140a"
   },
   "outputs": [
    {
     "name": "stdout",
     "output_type": "stream",
     "text": [
      "3 and 5 =  1\n",
      "3 or 5 =  7\n",
      "3 xor 5 =  6\n",
      "not 3 =  -4\n",
      "5 left shift by 1  10\n",
      "5 right shift 1 =  2\n"
     ]
    }
   ],
   "source": [
    "# Binary representation of 3-> 0011 and 5-> 0101\n",
    "\n",
    "print(\"3 and 5 = \", 3 & 5)          # 0011 and 0101 = 0001 -> 1\n",
    "print(\"3 or 5 = \", 3 | 5)           # 0011 or 0101 = 0111 -> 7\n",
    "print(\"3 xor 5 = \", 3 ^ 5)          # 0011 xor 0101 = 0110 -> 6\n",
    "print(\"not 3 = \", ~3)               # (0011)' = 0100 -> 4\n",
    "print(\"5 left shift by 1 \", 5 << 1) # 0101 << 1 = 1010 -> 10\n",
    "print(\"5 right shift 1 = \", 5 >> 1) # 0101 >> 1 = 0010 -> 2 (last bit is lost)"
   ]
  },
  {
   "cell_type": "markdown",
   "metadata": {
    "id": "k0YIDjUftACy"
   },
   "source": [
    "# Exercices"
   ]
  },
  {
   "cell_type": "markdown",
   "metadata": {
    "id": "To-Y8jPGtFZW"
   },
   "source": [
    "\n",
    "```\n",
    "1. A company insures its drivers in the following cases:\n",
    "- If the driver is unmarried.\n",
    "- If the driver is married, above 45 years of age and has at least two children. - If the driver is married, above 35 years of age and has at least one child.\n",
    "In all the other cases, the driver is not insured.\n",
    "If the marital status, age and number of children of the driver are the inputs, Write a program to determine whether the driver is insured or not.\n",
    "\n",
    "```\n",
    "\n"
   ]
  },
  {
   "cell_type": "markdown",
   "metadata": {
    "id": "tGF7myUr0Ik8"
   },
   "source": [
    "\n",
    "\n",
    "```\n",
    "2. Write a program to check whether a given number is odd or even using bitwise operators.\n",
    "```\n",
    "\n"
   ]
  },
  {
   "cell_type": "markdown",
   "metadata": {
    "id": "SzWxUZPL0L5J"
   },
   "source": [
    "\n",
    "\n",
    "```\n",
    "3. Given a string, find the character coming the maximum number of times in it, irrespective of the case of the character.\n",
    "Example\n",
    "Input: Pineapple\n",
    "Output: P\n",
    "```\n",
    "\n"
   ]
  },
  {
   "cell_type": "markdown",
   "metadata": {
    "id": "esopA1d90ZK4"
   },
   "source": [
    "\n",
    "\n",
    "```\n",
    "4. Write a program to print the following pascal triangle pattern given its height as input -\n",
    "     1\n",
    "    1 1\n",
    "  1  2  1\n",
    " 1  3  3  1\n",
    "1  4  6  4  1\n",
    "```\n",
    "\n"
   ]
  },
  {
   "cell_type": "code",
   "execution_count": null,
   "metadata": {
    "id": "GKL5W3D20Sf9"
   },
   "outputs": [],
   "source": []
  }
 ],
 "metadata": {
  "colab": {
   "authorship_tag": "ABX9TyPX6xN+yc+IobAUbp7NGLTu",
   "provenance": []
  },
  "kernelspec": {
   "display_name": "Python 3 (ipykernel)",
   "language": "python",
   "name": "python3"
  },
  "language_info": {
   "codemirror_mode": {
    "name": "ipython",
    "version": 3
   },
   "file_extension": ".py",
   "mimetype": "text/x-python",
   "name": "python",
   "nbconvert_exporter": "python",
   "pygments_lexer": "ipython3",
   "version": "3.9.12"
  }
 },
 "nbformat": 4,
 "nbformat_minor": 1
}

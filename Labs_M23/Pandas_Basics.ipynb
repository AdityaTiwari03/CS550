{
 "cells": [
  {
   "cell_type": "markdown",
   "metadata": {
    "id": "UMfK4zAgZMVs"
   },
   "source": [
    "# Pandas Overview\n",
    "- Adds high-performance, easy-to-use data structures and tools designed to work with table-like data.\n",
    "- Provides tools for data manipulation: reshaping, merging, sorting, slicing, aggregation etc.\n",
    "- Allows handling missing data"
   ]
  },
  {
   "cell_type": "code",
   "execution_count": null,
   "metadata": {},
   "outputs": [],
   "source": [
    "pip install pandas #install pandas"
   ]
  },
  {
   "cell_type": "code",
   "execution_count": 3,
   "metadata": {
    "id": "VDPuM5eGZFOL"
   },
   "outputs": [],
   "source": [
    "import pandas as pd"
   ]
  },
  {
   "cell_type": "markdown",
   "metadata": {
    "id": "lirYPpxWbN8L"
   },
   "source": [
    "### 1. Creating a Dataframe"
   ]
  },
  {
   "cell_type": "code",
   "execution_count": 4,
   "metadata": {
    "id": "AvbgwoqgZIXW"
   },
   "outputs": [
    {
     "data": {
      "text/html": [
       "<div>\n",
       "<style scoped>\n",
       "    .dataframe tbody tr th:only-of-type {\n",
       "        vertical-align: middle;\n",
       "    }\n",
       "\n",
       "    .dataframe tbody tr th {\n",
       "        vertical-align: top;\n",
       "    }\n",
       "\n",
       "    .dataframe thead th {\n",
       "        text-align: right;\n",
       "    }\n",
       "</style>\n",
       "<table border=\"1\" class=\"dataframe\">\n",
       "  <thead>\n",
       "    <tr style=\"text-align: right;\">\n",
       "      <th></th>\n",
       "      <th>Name</th>\n",
       "      <th>Age</th>\n",
       "      <th>Sex</th>\n",
       "    </tr>\n",
       "  </thead>\n",
       "  <tbody>\n",
       "    <tr>\n",
       "      <th>0</th>\n",
       "      <td>Mr. Owen Harris</td>\n",
       "      <td>22</td>\n",
       "      <td>male</td>\n",
       "    </tr>\n",
       "    <tr>\n",
       "      <th>1</th>\n",
       "      <td>William Henry</td>\n",
       "      <td>35</td>\n",
       "      <td>male</td>\n",
       "    </tr>\n",
       "    <tr>\n",
       "      <th>2</th>\n",
       "      <td>Miss. Elizabeth</td>\n",
       "      <td>58</td>\n",
       "      <td>female</td>\n",
       "    </tr>\n",
       "  </tbody>\n",
       "</table>\n",
       "</div>"
      ],
      "text/plain": [
       "              Name  Age     Sex\n",
       "0  Mr. Owen Harris   22    male\n",
       "1    William Henry   35    male\n",
       "2  Miss. Elizabeth   58  female"
      ]
     },
     "execution_count": 4,
     "metadata": {},
     "output_type": "execute_result"
    }
   ],
   "source": [
    "# Creating a pandas dataframe using python dictionaries\n",
    "data = {\n",
    "        \"Name\": [ \"Mr. Owen Harris\",\n",
    "                  \"William Henry\",\n",
    "                  \"Miss. Elizabeth\",\n",
    "        ],\n",
    "        \"Age\": [22, 35, 58],\n",
    "        \"Sex\": [\"male\", \"male\", \"female\"],\n",
    "    }\n",
    "dataframe = pd.DataFrame(data)\n",
    "dataframe"
   ]
  },
  {
   "cell_type": "code",
   "execution_count": 5,
   "metadata": {
    "id": "PZDoStqzbp5f"
   },
   "outputs": [
    {
     "data": {
      "text/plain": [
       "pandas.core.series.Series"
      ]
     },
     "execution_count": 5,
     "metadata": {},
     "output_type": "execute_result"
    }
   ],
   "source": [
    "# Each column in a DataFrame is a Series\n",
    "type(dataframe['Age'])"
   ]
  },
  {
   "cell_type": "markdown",
   "metadata": {
    "id": "3pVREybLcvlx"
   },
   "source": [
    "### 2. Reading data using Pandas\n",
    "- We will be using iris dataset for data analysis using pandas\n",
    "\n",
    "#### Iris Dataset\n",
    "- The iris data are a data frame of 150 measurements of iris petal and sepal lengths and widths, with 50 measurements for each species of “setosa,” “versicolor,” and “virginica.”"
   ]
  },
  {
   "cell_type": "code",
   "execution_count": 6,
   "metadata": {
    "id": "UWWcV1UtcFyh"
   },
   "outputs": [
    {
     "data": {
      "text/html": [
       "<div>\n",
       "<style scoped>\n",
       "    .dataframe tbody tr th:only-of-type {\n",
       "        vertical-align: middle;\n",
       "    }\n",
       "\n",
       "    .dataframe tbody tr th {\n",
       "        vertical-align: top;\n",
       "    }\n",
       "\n",
       "    .dataframe thead th {\n",
       "        text-align: right;\n",
       "    }\n",
       "</style>\n",
       "<table border=\"1\" class=\"dataframe\">\n",
       "  <thead>\n",
       "    <tr style=\"text-align: right;\">\n",
       "      <th></th>\n",
       "      <th>0</th>\n",
       "      <th>1</th>\n",
       "      <th>2</th>\n",
       "      <th>3</th>\n",
       "      <th>4</th>\n",
       "    </tr>\n",
       "  </thead>\n",
       "  <tbody>\n",
       "    <tr>\n",
       "      <th>0</th>\n",
       "      <td>5.1</td>\n",
       "      <td>3.5</td>\n",
       "      <td>1.4</td>\n",
       "      <td>0.2</td>\n",
       "      <td>Iris-setosa</td>\n",
       "    </tr>\n",
       "    <tr>\n",
       "      <th>1</th>\n",
       "      <td>4.9</td>\n",
       "      <td>3.0</td>\n",
       "      <td>1.4</td>\n",
       "      <td>0.2</td>\n",
       "      <td>Iris-setosa</td>\n",
       "    </tr>\n",
       "    <tr>\n",
       "      <th>2</th>\n",
       "      <td>4.7</td>\n",
       "      <td>3.2</td>\n",
       "      <td>1.3</td>\n",
       "      <td>0.2</td>\n",
       "      <td>Iris-setosa</td>\n",
       "    </tr>\n",
       "    <tr>\n",
       "      <th>3</th>\n",
       "      <td>4.6</td>\n",
       "      <td>3.1</td>\n",
       "      <td>1.5</td>\n",
       "      <td>0.2</td>\n",
       "      <td>Iris-setosa</td>\n",
       "    </tr>\n",
       "    <tr>\n",
       "      <th>4</th>\n",
       "      <td>5.0</td>\n",
       "      <td>3.6</td>\n",
       "      <td>1.4</td>\n",
       "      <td>0.2</td>\n",
       "      <td>Iris-setosa</td>\n",
       "    </tr>\n",
       "    <tr>\n",
       "      <th>...</th>\n",
       "      <td>...</td>\n",
       "      <td>...</td>\n",
       "      <td>...</td>\n",
       "      <td>...</td>\n",
       "      <td>...</td>\n",
       "    </tr>\n",
       "    <tr>\n",
       "      <th>145</th>\n",
       "      <td>6.7</td>\n",
       "      <td>3.0</td>\n",
       "      <td>5.2</td>\n",
       "      <td>2.3</td>\n",
       "      <td>Iris-virginica</td>\n",
       "    </tr>\n",
       "    <tr>\n",
       "      <th>146</th>\n",
       "      <td>6.3</td>\n",
       "      <td>2.5</td>\n",
       "      <td>5.0</td>\n",
       "      <td>1.9</td>\n",
       "      <td>Iris-virginica</td>\n",
       "    </tr>\n",
       "    <tr>\n",
       "      <th>147</th>\n",
       "      <td>6.5</td>\n",
       "      <td>3.0</td>\n",
       "      <td>5.2</td>\n",
       "      <td>2.0</td>\n",
       "      <td>Iris-virginica</td>\n",
       "    </tr>\n",
       "    <tr>\n",
       "      <th>148</th>\n",
       "      <td>6.2</td>\n",
       "      <td>3.4</td>\n",
       "      <td>5.4</td>\n",
       "      <td>2.3</td>\n",
       "      <td>Iris-virginica</td>\n",
       "    </tr>\n",
       "    <tr>\n",
       "      <th>149</th>\n",
       "      <td>5.9</td>\n",
       "      <td>3.0</td>\n",
       "      <td>5.1</td>\n",
       "      <td>1.8</td>\n",
       "      <td>Iris-virginica</td>\n",
       "    </tr>\n",
       "  </tbody>\n",
       "</table>\n",
       "<p>150 rows × 5 columns</p>\n",
       "</div>"
      ],
      "text/plain": [
       "       0    1    2    3               4\n",
       "0    5.1  3.5  1.4  0.2     Iris-setosa\n",
       "1    4.9  3.0  1.4  0.2     Iris-setosa\n",
       "2    4.7  3.2  1.3  0.2     Iris-setosa\n",
       "3    4.6  3.1  1.5  0.2     Iris-setosa\n",
       "4    5.0  3.6  1.4  0.2     Iris-setosa\n",
       "..   ...  ...  ...  ...             ...\n",
       "145  6.7  3.0  5.2  2.3  Iris-virginica\n",
       "146  6.3  2.5  5.0  1.9  Iris-virginica\n",
       "147  6.5  3.0  5.2  2.0  Iris-virginica\n",
       "148  6.2  3.4  5.4  2.3  Iris-virginica\n",
       "149  5.9  3.0  5.1  1.8  Iris-virginica\n",
       "\n",
       "[150 rows x 5 columns]"
      ]
     },
     "execution_count": 6,
     "metadata": {},
     "output_type": "execute_result"
    }
   ],
   "source": [
    "csv_url = 'https://archive.ics.uci.edu/ml/machine-learning-databases/iris/iris.data'\n",
    "iris = pd.read_csv(csv_url, header = None)\n",
    "iris"
   ]
  },
  {
   "cell_type": "markdown",
   "metadata": {
    "id": "mSMyfB3HgG9E"
   },
   "source": [
    "### 3. Exploring the Dataset"
   ]
  },
  {
   "cell_type": "code",
   "execution_count": 7,
   "metadata": {
    "id": "PxMHBEN-fGKW"
   },
   "outputs": [
    {
     "data": {
      "text/html": [
       "<div>\n",
       "<style scoped>\n",
       "    .dataframe tbody tr th:only-of-type {\n",
       "        vertical-align: middle;\n",
       "    }\n",
       "\n",
       "    .dataframe tbody tr th {\n",
       "        vertical-align: top;\n",
       "    }\n",
       "\n",
       "    .dataframe thead th {\n",
       "        text-align: right;\n",
       "    }\n",
       "</style>\n",
       "<table border=\"1\" class=\"dataframe\">\n",
       "  <thead>\n",
       "    <tr style=\"text-align: right;\">\n",
       "      <th></th>\n",
       "      <th>0</th>\n",
       "      <th>1</th>\n",
       "      <th>2</th>\n",
       "      <th>3</th>\n",
       "      <th>4</th>\n",
       "    </tr>\n",
       "  </thead>\n",
       "  <tbody>\n",
       "    <tr>\n",
       "      <th>0</th>\n",
       "      <td>5.1</td>\n",
       "      <td>3.5</td>\n",
       "      <td>1.4</td>\n",
       "      <td>0.2</td>\n",
       "      <td>Iris-setosa</td>\n",
       "    </tr>\n",
       "    <tr>\n",
       "      <th>1</th>\n",
       "      <td>4.9</td>\n",
       "      <td>3.0</td>\n",
       "      <td>1.4</td>\n",
       "      <td>0.2</td>\n",
       "      <td>Iris-setosa</td>\n",
       "    </tr>\n",
       "    <tr>\n",
       "      <th>2</th>\n",
       "      <td>4.7</td>\n",
       "      <td>3.2</td>\n",
       "      <td>1.3</td>\n",
       "      <td>0.2</td>\n",
       "      <td>Iris-setosa</td>\n",
       "    </tr>\n",
       "    <tr>\n",
       "      <th>3</th>\n",
       "      <td>4.6</td>\n",
       "      <td>3.1</td>\n",
       "      <td>1.5</td>\n",
       "      <td>0.2</td>\n",
       "      <td>Iris-setosa</td>\n",
       "    </tr>\n",
       "    <tr>\n",
       "      <th>4</th>\n",
       "      <td>5.0</td>\n",
       "      <td>3.6</td>\n",
       "      <td>1.4</td>\n",
       "      <td>0.2</td>\n",
       "      <td>Iris-setosa</td>\n",
       "    </tr>\n",
       "  </tbody>\n",
       "</table>\n",
       "</div>"
      ],
      "text/plain": [
       "     0    1    2    3            4\n",
       "0  5.1  3.5  1.4  0.2  Iris-setosa\n",
       "1  4.9  3.0  1.4  0.2  Iris-setosa\n",
       "2  4.7  3.2  1.3  0.2  Iris-setosa\n",
       "3  4.6  3.1  1.5  0.2  Iris-setosa\n",
       "4  5.0  3.6  1.4  0.2  Iris-setosa"
      ]
     },
     "execution_count": 7,
     "metadata": {},
     "output_type": "execute_result"
    }
   ],
   "source": [
    "iris.head() #returns the top 5 rows of the dataframe"
   ]
  },
  {
   "cell_type": "code",
   "execution_count": 8,
   "metadata": {
    "id": "MyTxsT9UgNLf"
   },
   "outputs": [
    {
     "data": {
      "text/html": [
       "<div>\n",
       "<style scoped>\n",
       "    .dataframe tbody tr th:only-of-type {\n",
       "        vertical-align: middle;\n",
       "    }\n",
       "\n",
       "    .dataframe tbody tr th {\n",
       "        vertical-align: top;\n",
       "    }\n",
       "\n",
       "    .dataframe thead th {\n",
       "        text-align: right;\n",
       "    }\n",
       "</style>\n",
       "<table border=\"1\" class=\"dataframe\">\n",
       "  <thead>\n",
       "    <tr style=\"text-align: right;\">\n",
       "      <th></th>\n",
       "      <th>0</th>\n",
       "      <th>1</th>\n",
       "      <th>2</th>\n",
       "      <th>3</th>\n",
       "      <th>4</th>\n",
       "    </tr>\n",
       "  </thead>\n",
       "  <tbody>\n",
       "    <tr>\n",
       "      <th>145</th>\n",
       "      <td>6.7</td>\n",
       "      <td>3.0</td>\n",
       "      <td>5.2</td>\n",
       "      <td>2.3</td>\n",
       "      <td>Iris-virginica</td>\n",
       "    </tr>\n",
       "    <tr>\n",
       "      <th>146</th>\n",
       "      <td>6.3</td>\n",
       "      <td>2.5</td>\n",
       "      <td>5.0</td>\n",
       "      <td>1.9</td>\n",
       "      <td>Iris-virginica</td>\n",
       "    </tr>\n",
       "    <tr>\n",
       "      <th>147</th>\n",
       "      <td>6.5</td>\n",
       "      <td>3.0</td>\n",
       "      <td>5.2</td>\n",
       "      <td>2.0</td>\n",
       "      <td>Iris-virginica</td>\n",
       "    </tr>\n",
       "    <tr>\n",
       "      <th>148</th>\n",
       "      <td>6.2</td>\n",
       "      <td>3.4</td>\n",
       "      <td>5.4</td>\n",
       "      <td>2.3</td>\n",
       "      <td>Iris-virginica</td>\n",
       "    </tr>\n",
       "    <tr>\n",
       "      <th>149</th>\n",
       "      <td>5.9</td>\n",
       "      <td>3.0</td>\n",
       "      <td>5.1</td>\n",
       "      <td>1.8</td>\n",
       "      <td>Iris-virginica</td>\n",
       "    </tr>\n",
       "  </tbody>\n",
       "</table>\n",
       "</div>"
      ],
      "text/plain": [
       "       0    1    2    3               4\n",
       "145  6.7  3.0  5.2  2.3  Iris-virginica\n",
       "146  6.3  2.5  5.0  1.9  Iris-virginica\n",
       "147  6.5  3.0  5.2  2.0  Iris-virginica\n",
       "148  6.2  3.4  5.4  2.3  Iris-virginica\n",
       "149  5.9  3.0  5.1  1.8  Iris-virginica"
      ]
     },
     "execution_count": 8,
     "metadata": {},
     "output_type": "execute_result"
    }
   ],
   "source": [
    "iris.tail() #returns bottom 5 rows of the dataframe"
   ]
  },
  {
   "cell_type": "code",
   "execution_count": 9,
   "metadata": {
    "id": "YgA4QuuvgaQM"
   },
   "outputs": [
    {
     "data": {
      "text/plain": [
       "(150, 5)"
      ]
     },
     "execution_count": 9,
     "metadata": {},
     "output_type": "execute_result"
    }
   ],
   "source": [
    "iris.shape #150 rows and 5 columns"
   ]
  },
  {
   "cell_type": "markdown",
   "metadata": {
    "id": "PwQ98WpobGdB"
   },
   "source": [
    "### 4.Data Frame data types"
   ]
  },
  {
   "cell_type": "code",
   "execution_count": 11,
   "metadata": {
    "id": "vYLA8gPYbTJA"
   },
   "outputs": [
    {
     "data": {
      "text/plain": [
       "dtype('float64')"
      ]
     },
     "execution_count": 11,
     "metadata": {},
     "output_type": "execute_result"
    }
   ],
   "source": [
    "# Check a particular column type\n",
    "iris[0].dtype"
   ]
  },
  {
   "cell_type": "code",
   "execution_count": 12,
   "metadata": {
    "id": "ShjMjijmbg8r"
   },
   "outputs": [
    {
     "data": {
      "text/plain": [
       "0    float64\n",
       "1    float64\n",
       "2    float64\n",
       "3    float64\n",
       "4     object\n",
       "dtype: object"
      ]
     },
     "execution_count": 12,
     "metadata": {},
     "output_type": "execute_result"
    }
   ],
   "source": [
    "# Check types for all the columns\n",
    "iris.dtypes"
   ]
  },
  {
   "cell_type": "markdown",
   "metadata": {
    "id": "f42Cl_jTmH0a"
   },
   "source": [
    "### 5.Python objects have attributes and methods"
   ]
  },
  {
   "cell_type": "markdown",
   "metadata": {
    "id": "q7RrNRlLmMra"
   },
   "source": [
    "Data Frames attributes"
   ]
  },
  {
   "cell_type": "code",
   "execution_count": 13,
   "metadata": {
    "id": "VqebSO1wmJrI"
   },
   "outputs": [
    {
     "data": {
      "text/plain": [
       "Int64Index([0, 1, 2, 3, 4], dtype='int64')"
      ]
     },
     "execution_count": 13,
     "metadata": {},
     "output_type": "execute_result"
    }
   ],
   "source": [
    "iris.columns #list the column names"
   ]
  },
  {
   "cell_type": "code",
   "execution_count": 14,
   "metadata": {
    "id": "2F5wvHELmV7a"
   },
   "outputs": [
    {
     "data": {
      "text/plain": [
       "2"
      ]
     },
     "execution_count": 14,
     "metadata": {},
     "output_type": "execute_result"
    }
   ],
   "source": [
    "iris.ndim #number of dimensions"
   ]
  },
  {
   "cell_type": "code",
   "execution_count": 15,
   "metadata": {
    "id": "3UZtkOCemaF0"
   },
   "outputs": [
    {
     "data": {
      "text/plain": [
       "750"
      ]
     },
     "execution_count": 15,
     "metadata": {},
     "output_type": "execute_result"
    }
   ],
   "source": [
    "iris.size #number of elements"
   ]
  },
  {
   "cell_type": "code",
   "execution_count": 16,
   "metadata": {
    "id": "ZiDKhF8nmeqj"
   },
   "outputs": [
    {
     "data": {
      "text/plain": [
       "array([[5.1, 3.5, 1.4, 0.2, 'Iris-setosa'],\n",
       "       [4.9, 3.0, 1.4, 0.2, 'Iris-setosa'],\n",
       "       [4.7, 3.2, 1.3, 0.2, 'Iris-setosa'],\n",
       "       [4.6, 3.1, 1.5, 0.2, 'Iris-setosa'],\n",
       "       [5.0, 3.6, 1.4, 0.2, 'Iris-setosa'],\n",
       "       [5.4, 3.9, 1.7, 0.4, 'Iris-setosa'],\n",
       "       [4.6, 3.4, 1.4, 0.3, 'Iris-setosa'],\n",
       "       [5.0, 3.4, 1.5, 0.2, 'Iris-setosa'],\n",
       "       [4.4, 2.9, 1.4, 0.2, 'Iris-setosa'],\n",
       "       [4.9, 3.1, 1.5, 0.1, 'Iris-setosa'],\n",
       "       [5.4, 3.7, 1.5, 0.2, 'Iris-setosa'],\n",
       "       [4.8, 3.4, 1.6, 0.2, 'Iris-setosa'],\n",
       "       [4.8, 3.0, 1.4, 0.1, 'Iris-setosa'],\n",
       "       [4.3, 3.0, 1.1, 0.1, 'Iris-setosa'],\n",
       "       [5.8, 4.0, 1.2, 0.2, 'Iris-setosa'],\n",
       "       [5.7, 4.4, 1.5, 0.4, 'Iris-setosa'],\n",
       "       [5.4, 3.9, 1.3, 0.4, 'Iris-setosa'],\n",
       "       [5.1, 3.5, 1.4, 0.3, 'Iris-setosa'],\n",
       "       [5.7, 3.8, 1.7, 0.3, 'Iris-setosa'],\n",
       "       [5.1, 3.8, 1.5, 0.3, 'Iris-setosa'],\n",
       "       [5.4, 3.4, 1.7, 0.2, 'Iris-setosa'],\n",
       "       [5.1, 3.7, 1.5, 0.4, 'Iris-setosa'],\n",
       "       [4.6, 3.6, 1.0, 0.2, 'Iris-setosa'],\n",
       "       [5.1, 3.3, 1.7, 0.5, 'Iris-setosa'],\n",
       "       [4.8, 3.4, 1.9, 0.2, 'Iris-setosa'],\n",
       "       [5.0, 3.0, 1.6, 0.2, 'Iris-setosa'],\n",
       "       [5.0, 3.4, 1.6, 0.4, 'Iris-setosa'],\n",
       "       [5.2, 3.5, 1.5, 0.2, 'Iris-setosa'],\n",
       "       [5.2, 3.4, 1.4, 0.2, 'Iris-setosa'],\n",
       "       [4.7, 3.2, 1.6, 0.2, 'Iris-setosa'],\n",
       "       [4.8, 3.1, 1.6, 0.2, 'Iris-setosa'],\n",
       "       [5.4, 3.4, 1.5, 0.4, 'Iris-setosa'],\n",
       "       [5.2, 4.1, 1.5, 0.1, 'Iris-setosa'],\n",
       "       [5.5, 4.2, 1.4, 0.2, 'Iris-setosa'],\n",
       "       [4.9, 3.1, 1.5, 0.1, 'Iris-setosa'],\n",
       "       [5.0, 3.2, 1.2, 0.2, 'Iris-setosa'],\n",
       "       [5.5, 3.5, 1.3, 0.2, 'Iris-setosa'],\n",
       "       [4.9, 3.1, 1.5, 0.1, 'Iris-setosa'],\n",
       "       [4.4, 3.0, 1.3, 0.2, 'Iris-setosa'],\n",
       "       [5.1, 3.4, 1.5, 0.2, 'Iris-setosa'],\n",
       "       [5.0, 3.5, 1.3, 0.3, 'Iris-setosa'],\n",
       "       [4.5, 2.3, 1.3, 0.3, 'Iris-setosa'],\n",
       "       [4.4, 3.2, 1.3, 0.2, 'Iris-setosa'],\n",
       "       [5.0, 3.5, 1.6, 0.6, 'Iris-setosa'],\n",
       "       [5.1, 3.8, 1.9, 0.4, 'Iris-setosa'],\n",
       "       [4.8, 3.0, 1.4, 0.3, 'Iris-setosa'],\n",
       "       [5.1, 3.8, 1.6, 0.2, 'Iris-setosa'],\n",
       "       [4.6, 3.2, 1.4, 0.2, 'Iris-setosa'],\n",
       "       [5.3, 3.7, 1.5, 0.2, 'Iris-setosa'],\n",
       "       [5.0, 3.3, 1.4, 0.2, 'Iris-setosa'],\n",
       "       [7.0, 3.2, 4.7, 1.4, 'Iris-versicolor'],\n",
       "       [6.4, 3.2, 4.5, 1.5, 'Iris-versicolor'],\n",
       "       [6.9, 3.1, 4.9, 1.5, 'Iris-versicolor'],\n",
       "       [5.5, 2.3, 4.0, 1.3, 'Iris-versicolor'],\n",
       "       [6.5, 2.8, 4.6, 1.5, 'Iris-versicolor'],\n",
       "       [5.7, 2.8, 4.5, 1.3, 'Iris-versicolor'],\n",
       "       [6.3, 3.3, 4.7, 1.6, 'Iris-versicolor'],\n",
       "       [4.9, 2.4, 3.3, 1.0, 'Iris-versicolor'],\n",
       "       [6.6, 2.9, 4.6, 1.3, 'Iris-versicolor'],\n",
       "       [5.2, 2.7, 3.9, 1.4, 'Iris-versicolor'],\n",
       "       [5.0, 2.0, 3.5, 1.0, 'Iris-versicolor'],\n",
       "       [5.9, 3.0, 4.2, 1.5, 'Iris-versicolor'],\n",
       "       [6.0, 2.2, 4.0, 1.0, 'Iris-versicolor'],\n",
       "       [6.1, 2.9, 4.7, 1.4, 'Iris-versicolor'],\n",
       "       [5.6, 2.9, 3.6, 1.3, 'Iris-versicolor'],\n",
       "       [6.7, 3.1, 4.4, 1.4, 'Iris-versicolor'],\n",
       "       [5.6, 3.0, 4.5, 1.5, 'Iris-versicolor'],\n",
       "       [5.8, 2.7, 4.1, 1.0, 'Iris-versicolor'],\n",
       "       [6.2, 2.2, 4.5, 1.5, 'Iris-versicolor'],\n",
       "       [5.6, 2.5, 3.9, 1.1, 'Iris-versicolor'],\n",
       "       [5.9, 3.2, 4.8, 1.8, 'Iris-versicolor'],\n",
       "       [6.1, 2.8, 4.0, 1.3, 'Iris-versicolor'],\n",
       "       [6.3, 2.5, 4.9, 1.5, 'Iris-versicolor'],\n",
       "       [6.1, 2.8, 4.7, 1.2, 'Iris-versicolor'],\n",
       "       [6.4, 2.9, 4.3, 1.3, 'Iris-versicolor'],\n",
       "       [6.6, 3.0, 4.4, 1.4, 'Iris-versicolor'],\n",
       "       [6.8, 2.8, 4.8, 1.4, 'Iris-versicolor'],\n",
       "       [6.7, 3.0, 5.0, 1.7, 'Iris-versicolor'],\n",
       "       [6.0, 2.9, 4.5, 1.5, 'Iris-versicolor'],\n",
       "       [5.7, 2.6, 3.5, 1.0, 'Iris-versicolor'],\n",
       "       [5.5, 2.4, 3.8, 1.1, 'Iris-versicolor'],\n",
       "       [5.5, 2.4, 3.7, 1.0, 'Iris-versicolor'],\n",
       "       [5.8, 2.7, 3.9, 1.2, 'Iris-versicolor'],\n",
       "       [6.0, 2.7, 5.1, 1.6, 'Iris-versicolor'],\n",
       "       [5.4, 3.0, 4.5, 1.5, 'Iris-versicolor'],\n",
       "       [6.0, 3.4, 4.5, 1.6, 'Iris-versicolor'],\n",
       "       [6.7, 3.1, 4.7, 1.5, 'Iris-versicolor'],\n",
       "       [6.3, 2.3, 4.4, 1.3, 'Iris-versicolor'],\n",
       "       [5.6, 3.0, 4.1, 1.3, 'Iris-versicolor'],\n",
       "       [5.5, 2.5, 4.0, 1.3, 'Iris-versicolor'],\n",
       "       [5.5, 2.6, 4.4, 1.2, 'Iris-versicolor'],\n",
       "       [6.1, 3.0, 4.6, 1.4, 'Iris-versicolor'],\n",
       "       [5.8, 2.6, 4.0, 1.2, 'Iris-versicolor'],\n",
       "       [5.0, 2.3, 3.3, 1.0, 'Iris-versicolor'],\n",
       "       [5.6, 2.7, 4.2, 1.3, 'Iris-versicolor'],\n",
       "       [5.7, 3.0, 4.2, 1.2, 'Iris-versicolor'],\n",
       "       [5.7, 2.9, 4.2, 1.3, 'Iris-versicolor'],\n",
       "       [6.2, 2.9, 4.3, 1.3, 'Iris-versicolor'],\n",
       "       [5.1, 2.5, 3.0, 1.1, 'Iris-versicolor'],\n",
       "       [5.7, 2.8, 4.1, 1.3, 'Iris-versicolor'],\n",
       "       [6.3, 3.3, 6.0, 2.5, 'Iris-virginica'],\n",
       "       [5.8, 2.7, 5.1, 1.9, 'Iris-virginica'],\n",
       "       [7.1, 3.0, 5.9, 2.1, 'Iris-virginica'],\n",
       "       [6.3, 2.9, 5.6, 1.8, 'Iris-virginica'],\n",
       "       [6.5, 3.0, 5.8, 2.2, 'Iris-virginica'],\n",
       "       [7.6, 3.0, 6.6, 2.1, 'Iris-virginica'],\n",
       "       [4.9, 2.5, 4.5, 1.7, 'Iris-virginica'],\n",
       "       [7.3, 2.9, 6.3, 1.8, 'Iris-virginica'],\n",
       "       [6.7, 2.5, 5.8, 1.8, 'Iris-virginica'],\n",
       "       [7.2, 3.6, 6.1, 2.5, 'Iris-virginica'],\n",
       "       [6.5, 3.2, 5.1, 2.0, 'Iris-virginica'],\n",
       "       [6.4, 2.7, 5.3, 1.9, 'Iris-virginica'],\n",
       "       [6.8, 3.0, 5.5, 2.1, 'Iris-virginica'],\n",
       "       [5.7, 2.5, 5.0, 2.0, 'Iris-virginica'],\n",
       "       [5.8, 2.8, 5.1, 2.4, 'Iris-virginica'],\n",
       "       [6.4, 3.2, 5.3, 2.3, 'Iris-virginica'],\n",
       "       [6.5, 3.0, 5.5, 1.8, 'Iris-virginica'],\n",
       "       [7.7, 3.8, 6.7, 2.2, 'Iris-virginica'],\n",
       "       [7.7, 2.6, 6.9, 2.3, 'Iris-virginica'],\n",
       "       [6.0, 2.2, 5.0, 1.5, 'Iris-virginica'],\n",
       "       [6.9, 3.2, 5.7, 2.3, 'Iris-virginica'],\n",
       "       [5.6, 2.8, 4.9, 2.0, 'Iris-virginica'],\n",
       "       [7.7, 2.8, 6.7, 2.0, 'Iris-virginica'],\n",
       "       [6.3, 2.7, 4.9, 1.8, 'Iris-virginica'],\n",
       "       [6.7, 3.3, 5.7, 2.1, 'Iris-virginica'],\n",
       "       [7.2, 3.2, 6.0, 1.8, 'Iris-virginica'],\n",
       "       [6.2, 2.8, 4.8, 1.8, 'Iris-virginica'],\n",
       "       [6.1, 3.0, 4.9, 1.8, 'Iris-virginica'],\n",
       "       [6.4, 2.8, 5.6, 2.1, 'Iris-virginica'],\n",
       "       [7.2, 3.0, 5.8, 1.6, 'Iris-virginica'],\n",
       "       [7.4, 2.8, 6.1, 1.9, 'Iris-virginica'],\n",
       "       [7.9, 3.8, 6.4, 2.0, 'Iris-virginica'],\n",
       "       [6.4, 2.8, 5.6, 2.2, 'Iris-virginica'],\n",
       "       [6.3, 2.8, 5.1, 1.5, 'Iris-virginica'],\n",
       "       [6.1, 2.6, 5.6, 1.4, 'Iris-virginica'],\n",
       "       [7.7, 3.0, 6.1, 2.3, 'Iris-virginica'],\n",
       "       [6.3, 3.4, 5.6, 2.4, 'Iris-virginica'],\n",
       "       [6.4, 3.1, 5.5, 1.8, 'Iris-virginica'],\n",
       "       [6.0, 3.0, 4.8, 1.8, 'Iris-virginica'],\n",
       "       [6.9, 3.1, 5.4, 2.1, 'Iris-virginica'],\n",
       "       [6.7, 3.1, 5.6, 2.4, 'Iris-virginica'],\n",
       "       [6.9, 3.1, 5.1, 2.3, 'Iris-virginica'],\n",
       "       [5.8, 2.7, 5.1, 1.9, 'Iris-virginica'],\n",
       "       [6.8, 3.2, 5.9, 2.3, 'Iris-virginica'],\n",
       "       [6.7, 3.3, 5.7, 2.5, 'Iris-virginica'],\n",
       "       [6.7, 3.0, 5.2, 2.3, 'Iris-virginica'],\n",
       "       [6.3, 2.5, 5.0, 1.9, 'Iris-virginica'],\n",
       "       [6.5, 3.0, 5.2, 2.0, 'Iris-virginica'],\n",
       "       [6.2, 3.4, 5.4, 2.3, 'Iris-virginica'],\n",
       "       [5.9, 3.0, 5.1, 1.8, 'Iris-virginica']], dtype=object)"
      ]
     },
     "execution_count": 16,
     "metadata": {},
     "output_type": "execute_result"
    }
   ],
   "source": [
    "iris.values #numpy representation of the data"
   ]
  },
  {
   "cell_type": "markdown",
   "metadata": {
    "id": "MheLOsxymp8x"
   },
   "source": [
    "Data Frames methods"
   ]
  },
  {
   "cell_type": "code",
   "execution_count": 17,
   "metadata": {
    "id": "31vu4ilimkEg"
   },
   "outputs": [
    {
     "data": {
      "text/html": [
       "<div>\n",
       "<style scoped>\n",
       "    .dataframe tbody tr th:only-of-type {\n",
       "        vertical-align: middle;\n",
       "    }\n",
       "\n",
       "    .dataframe tbody tr th {\n",
       "        vertical-align: top;\n",
       "    }\n",
       "\n",
       "    .dataframe thead th {\n",
       "        text-align: right;\n",
       "    }\n",
       "</style>\n",
       "<table border=\"1\" class=\"dataframe\">\n",
       "  <thead>\n",
       "    <tr style=\"text-align: right;\">\n",
       "      <th></th>\n",
       "      <th>0</th>\n",
       "      <th>1</th>\n",
       "      <th>2</th>\n",
       "      <th>3</th>\n",
       "      <th>4</th>\n",
       "    </tr>\n",
       "  </thead>\n",
       "  <tbody>\n",
       "    <tr>\n",
       "      <th>0</th>\n",
       "      <td>5.1</td>\n",
       "      <td>3.5</td>\n",
       "      <td>1.4</td>\n",
       "      <td>0.2</td>\n",
       "      <td>Iris-setosa</td>\n",
       "    </tr>\n",
       "    <tr>\n",
       "      <th>1</th>\n",
       "      <td>4.9</td>\n",
       "      <td>3.0</td>\n",
       "      <td>1.4</td>\n",
       "      <td>0.2</td>\n",
       "      <td>Iris-setosa</td>\n",
       "    </tr>\n",
       "    <tr>\n",
       "      <th>2</th>\n",
       "      <td>4.7</td>\n",
       "      <td>3.2</td>\n",
       "      <td>1.3</td>\n",
       "      <td>0.2</td>\n",
       "      <td>Iris-setosa</td>\n",
       "    </tr>\n",
       "    <tr>\n",
       "      <th>3</th>\n",
       "      <td>4.6</td>\n",
       "      <td>3.1</td>\n",
       "      <td>1.5</td>\n",
       "      <td>0.2</td>\n",
       "      <td>Iris-setosa</td>\n",
       "    </tr>\n",
       "    <tr>\n",
       "      <th>4</th>\n",
       "      <td>5.0</td>\n",
       "      <td>3.6</td>\n",
       "      <td>1.4</td>\n",
       "      <td>0.2</td>\n",
       "      <td>Iris-setosa</td>\n",
       "    </tr>\n",
       "    <tr>\n",
       "      <th>5</th>\n",
       "      <td>5.4</td>\n",
       "      <td>3.9</td>\n",
       "      <td>1.7</td>\n",
       "      <td>0.4</td>\n",
       "      <td>Iris-setosa</td>\n",
       "    </tr>\n",
       "    <tr>\n",
       "      <th>6</th>\n",
       "      <td>4.6</td>\n",
       "      <td>3.4</td>\n",
       "      <td>1.4</td>\n",
       "      <td>0.3</td>\n",
       "      <td>Iris-setosa</td>\n",
       "    </tr>\n",
       "    <tr>\n",
       "      <th>7</th>\n",
       "      <td>5.0</td>\n",
       "      <td>3.4</td>\n",
       "      <td>1.5</td>\n",
       "      <td>0.2</td>\n",
       "      <td>Iris-setosa</td>\n",
       "    </tr>\n",
       "    <tr>\n",
       "      <th>8</th>\n",
       "      <td>4.4</td>\n",
       "      <td>2.9</td>\n",
       "      <td>1.4</td>\n",
       "      <td>0.2</td>\n",
       "      <td>Iris-setosa</td>\n",
       "    </tr>\n",
       "    <tr>\n",
       "      <th>9</th>\n",
       "      <td>4.9</td>\n",
       "      <td>3.1</td>\n",
       "      <td>1.5</td>\n",
       "      <td>0.1</td>\n",
       "      <td>Iris-setosa</td>\n",
       "    </tr>\n",
       "  </tbody>\n",
       "</table>\n",
       "</div>"
      ],
      "text/plain": [
       "     0    1    2    3            4\n",
       "0  5.1  3.5  1.4  0.2  Iris-setosa\n",
       "1  4.9  3.0  1.4  0.2  Iris-setosa\n",
       "2  4.7  3.2  1.3  0.2  Iris-setosa\n",
       "3  4.6  3.1  1.5  0.2  Iris-setosa\n",
       "4  5.0  3.6  1.4  0.2  Iris-setosa\n",
       "5  5.4  3.9  1.7  0.4  Iris-setosa\n",
       "6  4.6  3.4  1.4  0.3  Iris-setosa\n",
       "7  5.0  3.4  1.5  0.2  Iris-setosa\n",
       "8  4.4  2.9  1.4  0.2  Iris-setosa\n",
       "9  4.9  3.1  1.5  0.1  Iris-setosa"
      ]
     },
     "execution_count": 17,
     "metadata": {},
     "output_type": "execute_result"
    }
   ],
   "source": [
    "iris.head(10) #first n rows"
   ]
  },
  {
   "cell_type": "code",
   "execution_count": 18,
   "metadata": {
    "id": "r2_tg_EJmu-Q"
   },
   "outputs": [
    {
     "data": {
      "text/html": [
       "<div>\n",
       "<style scoped>\n",
       "    .dataframe tbody tr th:only-of-type {\n",
       "        vertical-align: middle;\n",
       "    }\n",
       "\n",
       "    .dataframe tbody tr th {\n",
       "        vertical-align: top;\n",
       "    }\n",
       "\n",
       "    .dataframe thead th {\n",
       "        text-align: right;\n",
       "    }\n",
       "</style>\n",
       "<table border=\"1\" class=\"dataframe\">\n",
       "  <thead>\n",
       "    <tr style=\"text-align: right;\">\n",
       "      <th></th>\n",
       "      <th>0</th>\n",
       "      <th>1</th>\n",
       "      <th>2</th>\n",
       "      <th>3</th>\n",
       "      <th>4</th>\n",
       "    </tr>\n",
       "  </thead>\n",
       "  <tbody>\n",
       "    <tr>\n",
       "      <th>140</th>\n",
       "      <td>6.7</td>\n",
       "      <td>3.1</td>\n",
       "      <td>5.6</td>\n",
       "      <td>2.4</td>\n",
       "      <td>Iris-virginica</td>\n",
       "    </tr>\n",
       "    <tr>\n",
       "      <th>141</th>\n",
       "      <td>6.9</td>\n",
       "      <td>3.1</td>\n",
       "      <td>5.1</td>\n",
       "      <td>2.3</td>\n",
       "      <td>Iris-virginica</td>\n",
       "    </tr>\n",
       "    <tr>\n",
       "      <th>142</th>\n",
       "      <td>5.8</td>\n",
       "      <td>2.7</td>\n",
       "      <td>5.1</td>\n",
       "      <td>1.9</td>\n",
       "      <td>Iris-virginica</td>\n",
       "    </tr>\n",
       "    <tr>\n",
       "      <th>143</th>\n",
       "      <td>6.8</td>\n",
       "      <td>3.2</td>\n",
       "      <td>5.9</td>\n",
       "      <td>2.3</td>\n",
       "      <td>Iris-virginica</td>\n",
       "    </tr>\n",
       "    <tr>\n",
       "      <th>144</th>\n",
       "      <td>6.7</td>\n",
       "      <td>3.3</td>\n",
       "      <td>5.7</td>\n",
       "      <td>2.5</td>\n",
       "      <td>Iris-virginica</td>\n",
       "    </tr>\n",
       "    <tr>\n",
       "      <th>145</th>\n",
       "      <td>6.7</td>\n",
       "      <td>3.0</td>\n",
       "      <td>5.2</td>\n",
       "      <td>2.3</td>\n",
       "      <td>Iris-virginica</td>\n",
       "    </tr>\n",
       "    <tr>\n",
       "      <th>146</th>\n",
       "      <td>6.3</td>\n",
       "      <td>2.5</td>\n",
       "      <td>5.0</td>\n",
       "      <td>1.9</td>\n",
       "      <td>Iris-virginica</td>\n",
       "    </tr>\n",
       "    <tr>\n",
       "      <th>147</th>\n",
       "      <td>6.5</td>\n",
       "      <td>3.0</td>\n",
       "      <td>5.2</td>\n",
       "      <td>2.0</td>\n",
       "      <td>Iris-virginica</td>\n",
       "    </tr>\n",
       "    <tr>\n",
       "      <th>148</th>\n",
       "      <td>6.2</td>\n",
       "      <td>3.4</td>\n",
       "      <td>5.4</td>\n",
       "      <td>2.3</td>\n",
       "      <td>Iris-virginica</td>\n",
       "    </tr>\n",
       "    <tr>\n",
       "      <th>149</th>\n",
       "      <td>5.9</td>\n",
       "      <td>3.0</td>\n",
       "      <td>5.1</td>\n",
       "      <td>1.8</td>\n",
       "      <td>Iris-virginica</td>\n",
       "    </tr>\n",
       "  </tbody>\n",
       "</table>\n",
       "</div>"
      ],
      "text/plain": [
       "       0    1    2    3               4\n",
       "140  6.7  3.1  5.6  2.4  Iris-virginica\n",
       "141  6.9  3.1  5.1  2.3  Iris-virginica\n",
       "142  5.8  2.7  5.1  1.9  Iris-virginica\n",
       "143  6.8  3.2  5.9  2.3  Iris-virginica\n",
       "144  6.7  3.3  5.7  2.5  Iris-virginica\n",
       "145  6.7  3.0  5.2  2.3  Iris-virginica\n",
       "146  6.3  2.5  5.0  1.9  Iris-virginica\n",
       "147  6.5  3.0  5.2  2.0  Iris-virginica\n",
       "148  6.2  3.4  5.4  2.3  Iris-virginica\n",
       "149  5.9  3.0  5.1  1.8  Iris-virginica"
      ]
     },
     "execution_count": 18,
     "metadata": {},
     "output_type": "execute_result"
    }
   ],
   "source": [
    "iris.tail(10) #last n rows"
   ]
  },
  {
   "cell_type": "code",
   "execution_count": 19,
   "metadata": {
    "id": "um2DQEOKm6xy"
   },
   "outputs": [
    {
     "data": {
      "text/html": [
       "<div>\n",
       "<style scoped>\n",
       "    .dataframe tbody tr th:only-of-type {\n",
       "        vertical-align: middle;\n",
       "    }\n",
       "\n",
       "    .dataframe tbody tr th {\n",
       "        vertical-align: top;\n",
       "    }\n",
       "\n",
       "    .dataframe thead th {\n",
       "        text-align: right;\n",
       "    }\n",
       "</style>\n",
       "<table border=\"1\" class=\"dataframe\">\n",
       "  <thead>\n",
       "    <tr style=\"text-align: right;\">\n",
       "      <th></th>\n",
       "      <th>0</th>\n",
       "      <th>1</th>\n",
       "      <th>2</th>\n",
       "      <th>3</th>\n",
       "    </tr>\n",
       "  </thead>\n",
       "  <tbody>\n",
       "    <tr>\n",
       "      <th>count</th>\n",
       "      <td>150.000000</td>\n",
       "      <td>150.000000</td>\n",
       "      <td>150.000000</td>\n",
       "      <td>150.000000</td>\n",
       "    </tr>\n",
       "    <tr>\n",
       "      <th>mean</th>\n",
       "      <td>5.843333</td>\n",
       "      <td>3.054000</td>\n",
       "      <td>3.758667</td>\n",
       "      <td>1.198667</td>\n",
       "    </tr>\n",
       "    <tr>\n",
       "      <th>std</th>\n",
       "      <td>0.828066</td>\n",
       "      <td>0.433594</td>\n",
       "      <td>1.764420</td>\n",
       "      <td>0.763161</td>\n",
       "    </tr>\n",
       "    <tr>\n",
       "      <th>min</th>\n",
       "      <td>4.300000</td>\n",
       "      <td>2.000000</td>\n",
       "      <td>1.000000</td>\n",
       "      <td>0.100000</td>\n",
       "    </tr>\n",
       "    <tr>\n",
       "      <th>25%</th>\n",
       "      <td>5.100000</td>\n",
       "      <td>2.800000</td>\n",
       "      <td>1.600000</td>\n",
       "      <td>0.300000</td>\n",
       "    </tr>\n",
       "    <tr>\n",
       "      <th>50%</th>\n",
       "      <td>5.800000</td>\n",
       "      <td>3.000000</td>\n",
       "      <td>4.350000</td>\n",
       "      <td>1.300000</td>\n",
       "    </tr>\n",
       "    <tr>\n",
       "      <th>75%</th>\n",
       "      <td>6.400000</td>\n",
       "      <td>3.300000</td>\n",
       "      <td>5.100000</td>\n",
       "      <td>1.800000</td>\n",
       "    </tr>\n",
       "    <tr>\n",
       "      <th>max</th>\n",
       "      <td>7.900000</td>\n",
       "      <td>4.400000</td>\n",
       "      <td>6.900000</td>\n",
       "      <td>2.500000</td>\n",
       "    </tr>\n",
       "  </tbody>\n",
       "</table>\n",
       "</div>"
      ],
      "text/plain": [
       "                0           1           2           3\n",
       "count  150.000000  150.000000  150.000000  150.000000\n",
       "mean     5.843333    3.054000    3.758667    1.198667\n",
       "std      0.828066    0.433594    1.764420    0.763161\n",
       "min      4.300000    2.000000    1.000000    0.100000\n",
       "25%      5.100000    2.800000    1.600000    0.300000\n",
       "50%      5.800000    3.000000    4.350000    1.300000\n",
       "75%      6.400000    3.300000    5.100000    1.800000\n",
       "max      7.900000    4.400000    6.900000    2.500000"
      ]
     },
     "execution_count": 19,
     "metadata": {},
     "output_type": "execute_result"
    }
   ],
   "source": [
    "iris.describe() #generate descriptive statistics (for numeric columns only)"
   ]
  },
  {
   "cell_type": "code",
   "execution_count": 20,
   "metadata": {
    "id": "F7pS7UoinB6h"
   },
   "outputs": [
    {
     "data": {
      "text/plain": [
       "0               7.9\n",
       "1               4.4\n",
       "2               6.9\n",
       "3               2.5\n",
       "4    Iris-virginica\n",
       "dtype: object"
      ]
     },
     "execution_count": 20,
     "metadata": {},
     "output_type": "execute_result"
    }
   ],
   "source": [
    "iris.max() #return max values for all numeric columns"
   ]
  },
  {
   "cell_type": "code",
   "execution_count": 21,
   "metadata": {
    "id": "MqGwhhLlnGJb"
   },
   "outputs": [
    {
     "data": {
      "text/plain": [
       "0            4.3\n",
       "1            2.0\n",
       "2            1.0\n",
       "3            0.1\n",
       "4    Iris-setosa\n",
       "dtype: object"
      ]
     },
     "execution_count": 21,
     "metadata": {},
     "output_type": "execute_result"
    }
   ],
   "source": [
    "iris.min() #return min values for all numeric columns"
   ]
  },
  {
   "cell_type": "code",
   "execution_count": 48,
   "metadata": {
    "id": "QUKszMPmnNGo"
   },
   "outputs": [
    {
     "name": "stderr",
     "output_type": "stream",
     "text": [
      "C:\\Users\\shubh\\AppData\\Local\\Temp\\ipykernel_33892\\2292852885.py:1: FutureWarning: Dropping of nuisance columns in DataFrame reductions (with 'numeric_only=None') is deprecated; in a future version this will raise TypeError.  Select only valid columns before calling the reduction.\n",
      "  iris.mean() #return mean values for all numeric columns\n"
     ]
    },
    {
     "data": {
      "text/plain": [
       "0    5.843333\n",
       "1    3.054000\n",
       "2    3.758667\n",
       "3    1.198667\n",
       "dtype: float64"
      ]
     },
     "execution_count": 48,
     "metadata": {},
     "output_type": "execute_result"
    }
   ],
   "source": [
    "iris.mean() #return mean values for all numeric columns"
   ]
  },
  {
   "cell_type": "code",
   "execution_count": 23,
   "metadata": {
    "id": "DRvqz1ejnNL0"
   },
   "outputs": [
    {
     "name": "stderr",
     "output_type": "stream",
     "text": [
      "C:\\Users\\shubh\\AppData\\Local\\Temp\\ipykernel_33892\\1514253677.py:1: FutureWarning: Dropping of nuisance columns in DataFrame reductions (with 'numeric_only=None') is deprecated; in a future version this will raise TypeError.  Select only valid columns before calling the reduction.\n",
      "  iris.median() #return median values for all numeric columns\n"
     ]
    },
    {
     "data": {
      "text/plain": [
       "0    5.80\n",
       "1    3.00\n",
       "2    4.35\n",
       "3    1.30\n",
       "dtype: float64"
      ]
     },
     "execution_count": 23,
     "metadata": {},
     "output_type": "execute_result"
    }
   ],
   "source": [
    "iris.median() #return median values for all numeric columns"
   ]
  },
  {
   "cell_type": "code",
   "execution_count": 24,
   "metadata": {
    "id": "97WUig3BnaQc"
   },
   "outputs": [
    {
     "data": {
      "text/plain": [
       "<bound method NDFrame._add_numeric_operations.<locals>.std of        0    1    2    3               4\n",
       "0    5.1  3.5  1.4  0.2     Iris-setosa\n",
       "1    4.9  3.0  1.4  0.2     Iris-setosa\n",
       "2    4.7  3.2  1.3  0.2     Iris-setosa\n",
       "3    4.6  3.1  1.5  0.2     Iris-setosa\n",
       "4    5.0  3.6  1.4  0.2     Iris-setosa\n",
       "..   ...  ...  ...  ...             ...\n",
       "145  6.7  3.0  5.2  2.3  Iris-virginica\n",
       "146  6.3  2.5  5.0  1.9  Iris-virginica\n",
       "147  6.5  3.0  5.2  2.0  Iris-virginica\n",
       "148  6.2  3.4  5.4  2.3  Iris-virginica\n",
       "149  5.9  3.0  5.1  1.8  Iris-virginica\n",
       "\n",
       "[150 rows x 5 columns]>"
      ]
     },
     "execution_count": 24,
     "metadata": {},
     "output_type": "execute_result"
    }
   ],
   "source": [
    "iris.std #standard deviation"
   ]
  },
  {
   "cell_type": "markdown",
   "metadata": {
    "id": "iS4db59ynexj"
   },
   "source": [
    "### 6.Selecting a column in a Data Frame"
   ]
  },
  {
   "cell_type": "markdown",
   "metadata": {
    "id": "nbRi2IoynpU5"
   },
   "source": [
    "Subset the data frame using column name:"
   ]
  },
  {
   "cell_type": "code",
   "execution_count": 26,
   "metadata": {
    "id": "5phflE19ni_B"
   },
   "outputs": [
    {
     "data": {
      "text/plain": [
       "0      1.4\n",
       "1      1.4\n",
       "2      1.3\n",
       "3      1.5\n",
       "4      1.4\n",
       "      ... \n",
       "145    5.2\n",
       "146    5.0\n",
       "147    5.2\n",
       "148    5.4\n",
       "149    5.1\n",
       "Name: 2, Length: 150, dtype: float64"
      ]
     },
     "execution_count": 26,
     "metadata": {},
     "output_type": "execute_result"
    }
   ],
   "source": [
    "iris[2]"
   ]
  },
  {
   "cell_type": "markdown",
   "metadata": {
    "id": "9aUE7jyznzF2"
   },
   "source": [
    "### 7.Data Frames groupby method\n",
    "Using \"group by\" method we can:\n",
    "- Split the data into groups based on some criteria\n",
    "- Calculate statistics (or apply a function) to each group"
   ]
  },
  {
   "cell_type": "code",
   "execution_count": 27,
   "metadata": {
    "id": "UYN37aoEnygt"
   },
   "outputs": [],
   "source": [
    "# Group data using column 4\n",
    "df_rank = iris.groupby([4])"
   ]
  },
  {
   "cell_type": "code",
   "execution_count": 28,
   "metadata": {
    "id": "71iYQTkBnykJ"
   },
   "outputs": [
    {
     "data": {
      "text/plain": [
       "<pandas.core.groupby.generic.DataFrameGroupBy object at 0x00000199BFF23100>"
      ]
     },
     "execution_count": 28,
     "metadata": {},
     "output_type": "execute_result"
    }
   ],
   "source": [
    "df_rank"
   ]
  },
  {
   "cell_type": "code",
   "execution_count": 29,
   "metadata": {
    "id": "a-w8BY72oMBZ"
   },
   "outputs": [
    {
     "data": {
      "text/html": [
       "<div>\n",
       "<style scoped>\n",
       "    .dataframe tbody tr th:only-of-type {\n",
       "        vertical-align: middle;\n",
       "    }\n",
       "\n",
       "    .dataframe tbody tr th {\n",
       "        vertical-align: top;\n",
       "    }\n",
       "\n",
       "    .dataframe thead th {\n",
       "        text-align: right;\n",
       "    }\n",
       "</style>\n",
       "<table border=\"1\" class=\"dataframe\">\n",
       "  <thead>\n",
       "    <tr style=\"text-align: right;\">\n",
       "      <th></th>\n",
       "      <th>0</th>\n",
       "      <th>1</th>\n",
       "      <th>2</th>\n",
       "      <th>3</th>\n",
       "    </tr>\n",
       "    <tr>\n",
       "      <th>4</th>\n",
       "      <th></th>\n",
       "      <th></th>\n",
       "      <th></th>\n",
       "      <th></th>\n",
       "    </tr>\n",
       "  </thead>\n",
       "  <tbody>\n",
       "    <tr>\n",
       "      <th>Iris-setosa</th>\n",
       "      <td>5.006</td>\n",
       "      <td>3.418</td>\n",
       "      <td>1.464</td>\n",
       "      <td>0.244</td>\n",
       "    </tr>\n",
       "    <tr>\n",
       "      <th>Iris-versicolor</th>\n",
       "      <td>5.936</td>\n",
       "      <td>2.770</td>\n",
       "      <td>4.260</td>\n",
       "      <td>1.326</td>\n",
       "    </tr>\n",
       "    <tr>\n",
       "      <th>Iris-virginica</th>\n",
       "      <td>6.588</td>\n",
       "      <td>2.974</td>\n",
       "      <td>5.552</td>\n",
       "      <td>2.026</td>\n",
       "    </tr>\n",
       "  </tbody>\n",
       "</table>\n",
       "</div>"
      ],
      "text/plain": [
       "                     0      1      2      3\n",
       "4                                          \n",
       "Iris-setosa      5.006  3.418  1.464  0.244\n",
       "Iris-versicolor  5.936  2.770  4.260  1.326\n",
       "Iris-virginica   6.588  2.974  5.552  2.026"
      ]
     },
     "execution_count": 29,
     "metadata": {},
     "output_type": "execute_result"
    }
   ],
   "source": [
    "# Calculate mean value for each numeric column per each group\n",
    "df_rank.mean()"
   ]
  },
  {
   "cell_type": "markdown",
   "metadata": {
    "id": "MjKJGEYXoZy5"
   },
   "source": [
    "### 8.Data Frame: filtering\n"
   ]
  },
  {
   "cell_type": "markdown",
   "metadata": {
    "id": "CSns3vmiog_z"
   },
   "source": [
    "To subset the data we can apply Boolean indexing. This indexing is\n",
    "commonly known as a filter. For example if we want to subset the\n",
    "rows in which the 0th column is greater than 5.5:"
   ]
  },
  {
   "cell_type": "code",
   "execution_count": 30,
   "metadata": {
    "id": "wOHz_8d4oYmb"
   },
   "outputs": [
    {
     "data": {
      "text/html": [
       "<div>\n",
       "<style scoped>\n",
       "    .dataframe tbody tr th:only-of-type {\n",
       "        vertical-align: middle;\n",
       "    }\n",
       "\n",
       "    .dataframe tbody tr th {\n",
       "        vertical-align: top;\n",
       "    }\n",
       "\n",
       "    .dataframe thead th {\n",
       "        text-align: right;\n",
       "    }\n",
       "</style>\n",
       "<table border=\"1\" class=\"dataframe\">\n",
       "  <thead>\n",
       "    <tr style=\"text-align: right;\">\n",
       "      <th></th>\n",
       "      <th>0</th>\n",
       "      <th>1</th>\n",
       "      <th>2</th>\n",
       "      <th>3</th>\n",
       "      <th>4</th>\n",
       "    </tr>\n",
       "  </thead>\n",
       "  <tbody>\n",
       "    <tr>\n",
       "      <th>14</th>\n",
       "      <td>5.8</td>\n",
       "      <td>4.0</td>\n",
       "      <td>1.2</td>\n",
       "      <td>0.2</td>\n",
       "      <td>Iris-setosa</td>\n",
       "    </tr>\n",
       "    <tr>\n",
       "      <th>15</th>\n",
       "      <td>5.7</td>\n",
       "      <td>4.4</td>\n",
       "      <td>1.5</td>\n",
       "      <td>0.4</td>\n",
       "      <td>Iris-setosa</td>\n",
       "    </tr>\n",
       "    <tr>\n",
       "      <th>18</th>\n",
       "      <td>5.7</td>\n",
       "      <td>3.8</td>\n",
       "      <td>1.7</td>\n",
       "      <td>0.3</td>\n",
       "      <td>Iris-setosa</td>\n",
       "    </tr>\n",
       "    <tr>\n",
       "      <th>50</th>\n",
       "      <td>7.0</td>\n",
       "      <td>3.2</td>\n",
       "      <td>4.7</td>\n",
       "      <td>1.4</td>\n",
       "      <td>Iris-versicolor</td>\n",
       "    </tr>\n",
       "    <tr>\n",
       "      <th>51</th>\n",
       "      <td>6.4</td>\n",
       "      <td>3.2</td>\n",
       "      <td>4.5</td>\n",
       "      <td>1.5</td>\n",
       "      <td>Iris-versicolor</td>\n",
       "    </tr>\n",
       "    <tr>\n",
       "      <th>...</th>\n",
       "      <td>...</td>\n",
       "      <td>...</td>\n",
       "      <td>...</td>\n",
       "      <td>...</td>\n",
       "      <td>...</td>\n",
       "    </tr>\n",
       "    <tr>\n",
       "      <th>145</th>\n",
       "      <td>6.7</td>\n",
       "      <td>3.0</td>\n",
       "      <td>5.2</td>\n",
       "      <td>2.3</td>\n",
       "      <td>Iris-virginica</td>\n",
       "    </tr>\n",
       "    <tr>\n",
       "      <th>146</th>\n",
       "      <td>6.3</td>\n",
       "      <td>2.5</td>\n",
       "      <td>5.0</td>\n",
       "      <td>1.9</td>\n",
       "      <td>Iris-virginica</td>\n",
       "    </tr>\n",
       "    <tr>\n",
       "      <th>147</th>\n",
       "      <td>6.5</td>\n",
       "      <td>3.0</td>\n",
       "      <td>5.2</td>\n",
       "      <td>2.0</td>\n",
       "      <td>Iris-virginica</td>\n",
       "    </tr>\n",
       "    <tr>\n",
       "      <th>148</th>\n",
       "      <td>6.2</td>\n",
       "      <td>3.4</td>\n",
       "      <td>5.4</td>\n",
       "      <td>2.3</td>\n",
       "      <td>Iris-virginica</td>\n",
       "    </tr>\n",
       "    <tr>\n",
       "      <th>149</th>\n",
       "      <td>5.9</td>\n",
       "      <td>3.0</td>\n",
       "      <td>5.1</td>\n",
       "      <td>1.8</td>\n",
       "      <td>Iris-virginica</td>\n",
       "    </tr>\n",
       "  </tbody>\n",
       "</table>\n",
       "<p>91 rows × 5 columns</p>\n",
       "</div>"
      ],
      "text/plain": [
       "       0    1    2    3                4\n",
       "14   5.8  4.0  1.2  0.2      Iris-setosa\n",
       "15   5.7  4.4  1.5  0.4      Iris-setosa\n",
       "18   5.7  3.8  1.7  0.3      Iris-setosa\n",
       "50   7.0  3.2  4.7  1.4  Iris-versicolor\n",
       "51   6.4  3.2  4.5  1.5  Iris-versicolor\n",
       "..   ...  ...  ...  ...              ...\n",
       "145  6.7  3.0  5.2  2.3   Iris-virginica\n",
       "146  6.3  2.5  5.0  1.9   Iris-virginica\n",
       "147  6.5  3.0  5.2  2.0   Iris-virginica\n",
       "148  6.2  3.4  5.4  2.3   Iris-virginica\n",
       "149  5.9  3.0  5.1  1.8   Iris-virginica\n",
       "\n",
       "[91 rows x 5 columns]"
      ]
     },
     "execution_count": 30,
     "metadata": {},
     "output_type": "execute_result"
    }
   ],
   "source": [
    "iris[ iris[0] > 5.5]"
   ]
  },
  {
   "cell_type": "markdown",
   "metadata": {
    "id": "iTUn9CwKpAmZ"
   },
   "source": [
    "Any Boolean operator can be used to subset the data:\n",
    ">greater; >= greater or equal;\n",
    "< less; <= less or equal;\n",
    "== equal; != not equal;"
   ]
  },
  {
   "cell_type": "markdown",
   "metadata": {
    "id": "IAsj0GtqpJh3"
   },
   "source": [
    "#### 9.Data Frames: Slicing"
   ]
  },
  {
   "cell_type": "markdown",
   "metadata": {
    "id": "G1P6qIWXpOI_"
   },
   "source": [
    "There are a number of ways to subset the Data Frame:\n",
    "- one or more columns\n",
    "- one or more rows\n",
    "- a subset of rows and columns"
   ]
  },
  {
   "cell_type": "markdown",
   "metadata": {
    "id": "_-QScYbbpcDU"
   },
   "source": [
    "When selecting one column, it is possible to use single set of brackets,\n",
    "but the resulting object will be a Series (not a DataFrame):"
   ]
  },
  {
   "cell_type": "code",
   "execution_count": 31,
   "metadata": {
    "id": "9hxflFn7o-lc"
   },
   "outputs": [
    {
     "data": {
      "text/plain": [
       "0      1.4\n",
       "1      1.4\n",
       "2      1.3\n",
       "3      1.5\n",
       "4      1.4\n",
       "      ... \n",
       "145    5.2\n",
       "146    5.0\n",
       "147    5.2\n",
       "148    5.4\n",
       "149    5.1\n",
       "Name: 2, Length: 150, dtype: float64"
      ]
     },
     "execution_count": 31,
     "metadata": {},
     "output_type": "execute_result"
    }
   ],
   "source": [
    "# Select column 2:\n",
    "iris[2]"
   ]
  },
  {
   "cell_type": "markdown",
   "metadata": {
    "id": "1Hf8Y-cPtLE3"
   },
   "source": [
    "Data Frames: Selecting Rows"
   ]
  },
  {
   "cell_type": "code",
   "execution_count": 32,
   "metadata": {
    "id": "UP0cnJKLo-tk"
   },
   "outputs": [
    {
     "data": {
      "text/html": [
       "<div>\n",
       "<style scoped>\n",
       "    .dataframe tbody tr th:only-of-type {\n",
       "        vertical-align: middle;\n",
       "    }\n",
       "\n",
       "    .dataframe tbody tr th {\n",
       "        vertical-align: top;\n",
       "    }\n",
       "\n",
       "    .dataframe thead th {\n",
       "        text-align: right;\n",
       "    }\n",
       "</style>\n",
       "<table border=\"1\" class=\"dataframe\">\n",
       "  <thead>\n",
       "    <tr style=\"text-align: right;\">\n",
       "      <th></th>\n",
       "      <th>0</th>\n",
       "      <th>1</th>\n",
       "      <th>2</th>\n",
       "      <th>3</th>\n",
       "      <th>4</th>\n",
       "    </tr>\n",
       "  </thead>\n",
       "  <tbody>\n",
       "    <tr>\n",
       "      <th>10</th>\n",
       "      <td>5.4</td>\n",
       "      <td>3.7</td>\n",
       "      <td>1.5</td>\n",
       "      <td>0.2</td>\n",
       "      <td>Iris-setosa</td>\n",
       "    </tr>\n",
       "    <tr>\n",
       "      <th>11</th>\n",
       "      <td>4.8</td>\n",
       "      <td>3.4</td>\n",
       "      <td>1.6</td>\n",
       "      <td>0.2</td>\n",
       "      <td>Iris-setosa</td>\n",
       "    </tr>\n",
       "    <tr>\n",
       "      <th>12</th>\n",
       "      <td>4.8</td>\n",
       "      <td>3.0</td>\n",
       "      <td>1.4</td>\n",
       "      <td>0.1</td>\n",
       "      <td>Iris-setosa</td>\n",
       "    </tr>\n",
       "    <tr>\n",
       "      <th>13</th>\n",
       "      <td>4.3</td>\n",
       "      <td>3.0</td>\n",
       "      <td>1.1</td>\n",
       "      <td>0.1</td>\n",
       "      <td>Iris-setosa</td>\n",
       "    </tr>\n",
       "    <tr>\n",
       "      <th>14</th>\n",
       "      <td>5.8</td>\n",
       "      <td>4.0</td>\n",
       "      <td>1.2</td>\n",
       "      <td>0.2</td>\n",
       "      <td>Iris-setosa</td>\n",
       "    </tr>\n",
       "    <tr>\n",
       "      <th>15</th>\n",
       "      <td>5.7</td>\n",
       "      <td>4.4</td>\n",
       "      <td>1.5</td>\n",
       "      <td>0.4</td>\n",
       "      <td>Iris-setosa</td>\n",
       "    </tr>\n",
       "    <tr>\n",
       "      <th>16</th>\n",
       "      <td>5.4</td>\n",
       "      <td>3.9</td>\n",
       "      <td>1.3</td>\n",
       "      <td>0.4</td>\n",
       "      <td>Iris-setosa</td>\n",
       "    </tr>\n",
       "    <tr>\n",
       "      <th>17</th>\n",
       "      <td>5.1</td>\n",
       "      <td>3.5</td>\n",
       "      <td>1.4</td>\n",
       "      <td>0.3</td>\n",
       "      <td>Iris-setosa</td>\n",
       "    </tr>\n",
       "    <tr>\n",
       "      <th>18</th>\n",
       "      <td>5.7</td>\n",
       "      <td>3.8</td>\n",
       "      <td>1.7</td>\n",
       "      <td>0.3</td>\n",
       "      <td>Iris-setosa</td>\n",
       "    </tr>\n",
       "    <tr>\n",
       "      <th>19</th>\n",
       "      <td>5.1</td>\n",
       "      <td>3.8</td>\n",
       "      <td>1.5</td>\n",
       "      <td>0.3</td>\n",
       "      <td>Iris-setosa</td>\n",
       "    </tr>\n",
       "  </tbody>\n",
       "</table>\n",
       "</div>"
      ],
      "text/plain": [
       "      0    1    2    3            4\n",
       "10  5.4  3.7  1.5  0.2  Iris-setosa\n",
       "11  4.8  3.4  1.6  0.2  Iris-setosa\n",
       "12  4.8  3.0  1.4  0.1  Iris-setosa\n",
       "13  4.3  3.0  1.1  0.1  Iris-setosa\n",
       "14  5.8  4.0  1.2  0.2  Iris-setosa\n",
       "15  5.7  4.4  1.5  0.4  Iris-setosa\n",
       "16  5.4  3.9  1.3  0.4  Iris-setosa\n",
       "17  5.1  3.5  1.4  0.3  Iris-setosa\n",
       "18  5.7  3.8  1.7  0.3  Iris-setosa\n",
       "19  5.1  3.8  1.5  0.3  Iris-setosa"
      ]
     },
     "execution_count": 32,
     "metadata": {},
     "output_type": "execute_result"
    }
   ],
   "source": [
    "# Select rows by their position:\n",
    "iris[10:20]"
   ]
  },
  {
   "cell_type": "markdown",
   "metadata": {
    "id": "b2aNkHq7tV4K"
   },
   "source": [
    "Notice that the first row has a position 10, and the last value in the\n",
    "range is omitted.\n",
    "So for 0:10 range the first 10 rows are returned with the positions\n",
    "starting with 0 and ending with 9\n"
   ]
  },
  {
   "cell_type": "markdown",
   "metadata": {
    "id": "VDf1TKF7uGLt"
   },
   "source": [
    "If we need to select a range of rows, using their position we can use method iloc:"
   ]
  },
  {
   "cell_type": "code",
   "execution_count": 34,
   "metadata": {
    "id": "St9qlPSOt8sT"
   },
   "outputs": [
    {
     "data": {
      "text/plain": [
       "0            5.1\n",
       "1            3.5\n",
       "2            1.4\n",
       "3            0.2\n",
       "4    Iris-setosa\n",
       "Name: 0, dtype: object"
      ]
     },
     "execution_count": 34,
     "metadata": {},
     "output_type": "execute_result"
    }
   ],
   "source": [
    "iris.iloc[0] # First row of a data frame"
   ]
  },
  {
   "cell_type": "code",
   "execution_count": 35,
   "metadata": {
    "id": "H7W-yffZuP8s"
   },
   "outputs": [
    {
     "data": {
      "text/plain": [
       "0            5.4\n",
       "1            3.7\n",
       "2            1.5\n",
       "3            0.2\n",
       "4    Iris-setosa\n",
       "Name: 10, dtype: object"
      ]
     },
     "execution_count": 35,
     "metadata": {},
     "output_type": "execute_result"
    }
   ],
   "source": [
    "iris.iloc[10] # (i+1)th row"
   ]
  },
  {
   "cell_type": "code",
   "execution_count": 36,
   "metadata": {
    "id": "GhWaMdLtuUZB"
   },
   "outputs": [
    {
     "data": {
      "text/plain": [
       "0               5.9\n",
       "1               3.0\n",
       "2               5.1\n",
       "3               1.8\n",
       "4    Iris-virginica\n",
       "Name: 149, dtype: object"
      ]
     },
     "execution_count": 36,
     "metadata": {},
     "output_type": "execute_result"
    }
   ],
   "source": [
    "iris.iloc[-1] # Last row"
   ]
  },
  {
   "cell_type": "code",
   "execution_count": 37,
   "metadata": {
    "id": "tDEOlD_cuYZH"
   },
   "outputs": [
    {
     "data": {
      "text/plain": [
       "0      5.1\n",
       "1      4.9\n",
       "2      4.7\n",
       "3      4.6\n",
       "4      5.0\n",
       "      ... \n",
       "145    6.7\n",
       "146    6.3\n",
       "147    6.5\n",
       "148    6.2\n",
       "149    5.9\n",
       "Name: 0, Length: 150, dtype: float64"
      ]
     },
     "execution_count": 37,
     "metadata": {},
     "output_type": "execute_result"
    }
   ],
   "source": [
    "iris.iloc[:, 0] # First column"
   ]
  },
  {
   "cell_type": "code",
   "execution_count": 38,
   "metadata": {
    "id": "JxJfX9QDuYhn"
   },
   "outputs": [
    {
     "data": {
      "text/plain": [
       "0         Iris-setosa\n",
       "1         Iris-setosa\n",
       "2         Iris-setosa\n",
       "3         Iris-setosa\n",
       "4         Iris-setosa\n",
       "            ...      \n",
       "145    Iris-virginica\n",
       "146    Iris-virginica\n",
       "147    Iris-virginica\n",
       "148    Iris-virginica\n",
       "149    Iris-virginica\n",
       "Name: 4, Length: 150, dtype: object"
      ]
     },
     "execution_count": 38,
     "metadata": {},
     "output_type": "execute_result"
    }
   ],
   "source": [
    "iris.iloc[:, -1] # Last column"
   ]
  },
  {
   "cell_type": "markdown",
   "metadata": {
    "id": "mhbxwqCQuiVI"
   },
   "source": [
    "### 10.Data Frames: Sorting"
   ]
  },
  {
   "cell_type": "markdown",
   "metadata": {
    "id": "T4NShEytupjh"
   },
   "source": [
    "We can sort the data by a value in the column. By default the sorting will occur in ascending order and a new data frame is return."
   ]
  },
  {
   "cell_type": "code",
   "execution_count": 49,
   "metadata": {
    "id": "855I7HiJuj7J"
   },
   "outputs": [
    {
     "data": {
      "text/html": [
       "<div>\n",
       "<style scoped>\n",
       "    .dataframe tbody tr th:only-of-type {\n",
       "        vertical-align: middle;\n",
       "    }\n",
       "\n",
       "    .dataframe tbody tr th {\n",
       "        vertical-align: top;\n",
       "    }\n",
       "\n",
       "    .dataframe thead th {\n",
       "        text-align: right;\n",
       "    }\n",
       "</style>\n",
       "<table border=\"1\" class=\"dataframe\">\n",
       "  <thead>\n",
       "    <tr style=\"text-align: right;\">\n",
       "      <th></th>\n",
       "      <th>0</th>\n",
       "      <th>1</th>\n",
       "      <th>2</th>\n",
       "      <th>3</th>\n",
       "      <th>4</th>\n",
       "    </tr>\n",
       "  </thead>\n",
       "  <tbody>\n",
       "    <tr>\n",
       "      <th>22</th>\n",
       "      <td>4.6</td>\n",
       "      <td>3.6</td>\n",
       "      <td>1.0</td>\n",
       "      <td>0.2</td>\n",
       "      <td>Iris-setosa</td>\n",
       "    </tr>\n",
       "    <tr>\n",
       "      <th>13</th>\n",
       "      <td>4.3</td>\n",
       "      <td>3.0</td>\n",
       "      <td>1.1</td>\n",
       "      <td>0.1</td>\n",
       "      <td>Iris-setosa</td>\n",
       "    </tr>\n",
       "    <tr>\n",
       "      <th>14</th>\n",
       "      <td>5.8</td>\n",
       "      <td>4.0</td>\n",
       "      <td>1.2</td>\n",
       "      <td>0.2</td>\n",
       "      <td>Iris-setosa</td>\n",
       "    </tr>\n",
       "    <tr>\n",
       "      <th>35</th>\n",
       "      <td>5.0</td>\n",
       "      <td>3.2</td>\n",
       "      <td>1.2</td>\n",
       "      <td>0.2</td>\n",
       "      <td>Iris-setosa</td>\n",
       "    </tr>\n",
       "    <tr>\n",
       "      <th>36</th>\n",
       "      <td>5.5</td>\n",
       "      <td>3.5</td>\n",
       "      <td>1.3</td>\n",
       "      <td>0.2</td>\n",
       "      <td>Iris-setosa</td>\n",
       "    </tr>\n",
       "  </tbody>\n",
       "</table>\n",
       "</div>"
      ],
      "text/plain": [
       "      0    1    2    3            4\n",
       "22  4.6  3.6  1.0  0.2  Iris-setosa\n",
       "13  4.3  3.0  1.1  0.1  Iris-setosa\n",
       "14  5.8  4.0  1.2  0.2  Iris-setosa\n",
       "35  5.0  3.2  1.2  0.2  Iris-setosa\n",
       "36  5.5  3.5  1.3  0.2  Iris-setosa"
      ]
     },
     "execution_count": 49,
     "metadata": {},
     "output_type": "execute_result"
    }
   ],
   "source": [
    "# Create a new data frame from the original sorted by the column 4\n",
    "df_sorted = iris.sort_values(by=2)\n",
    "df_sorted.head()"
   ]
  },
  {
   "cell_type": "markdown",
   "metadata": {
    "id": "9IxIomuivAbV"
   },
   "source": [
    "We can sort the data using 2 or more columns:"
   ]
  },
  {
   "cell_type": "code",
   "execution_count": 40,
   "metadata": {
    "id": "kVM6u0w9uxFo"
   },
   "outputs": [
    {
     "data": {
      "text/html": [
       "<div>\n",
       "<style scoped>\n",
       "    .dataframe tbody tr th:only-of-type {\n",
       "        vertical-align: middle;\n",
       "    }\n",
       "\n",
       "    .dataframe tbody tr th {\n",
       "        vertical-align: top;\n",
       "    }\n",
       "\n",
       "    .dataframe thead th {\n",
       "        text-align: right;\n",
       "    }\n",
       "</style>\n",
       "<table border=\"1\" class=\"dataframe\">\n",
       "  <thead>\n",
       "    <tr style=\"text-align: right;\">\n",
       "      <th></th>\n",
       "      <th>0</th>\n",
       "      <th>1</th>\n",
       "      <th>2</th>\n",
       "      <th>3</th>\n",
       "      <th>4</th>\n",
       "    </tr>\n",
       "  </thead>\n",
       "  <tbody>\n",
       "    <tr>\n",
       "      <th>14</th>\n",
       "      <td>5.8</td>\n",
       "      <td>4.0</td>\n",
       "      <td>1.2</td>\n",
       "      <td>0.2</td>\n",
       "      <td>Iris-setosa</td>\n",
       "    </tr>\n",
       "    <tr>\n",
       "      <th>15</th>\n",
       "      <td>5.7</td>\n",
       "      <td>4.4</td>\n",
       "      <td>1.5</td>\n",
       "      <td>0.4</td>\n",
       "      <td>Iris-setosa</td>\n",
       "    </tr>\n",
       "    <tr>\n",
       "      <th>18</th>\n",
       "      <td>5.7</td>\n",
       "      <td>3.8</td>\n",
       "      <td>1.7</td>\n",
       "      <td>0.3</td>\n",
       "      <td>Iris-setosa</td>\n",
       "    </tr>\n",
       "    <tr>\n",
       "      <th>33</th>\n",
       "      <td>5.5</td>\n",
       "      <td>4.2</td>\n",
       "      <td>1.4</td>\n",
       "      <td>0.2</td>\n",
       "      <td>Iris-setosa</td>\n",
       "    </tr>\n",
       "    <tr>\n",
       "      <th>36</th>\n",
       "      <td>5.5</td>\n",
       "      <td>3.5</td>\n",
       "      <td>1.3</td>\n",
       "      <td>0.2</td>\n",
       "      <td>Iris-setosa</td>\n",
       "    </tr>\n",
       "    <tr>\n",
       "      <th>5</th>\n",
       "      <td>5.4</td>\n",
       "      <td>3.9</td>\n",
       "      <td>1.7</td>\n",
       "      <td>0.4</td>\n",
       "      <td>Iris-setosa</td>\n",
       "    </tr>\n",
       "    <tr>\n",
       "      <th>10</th>\n",
       "      <td>5.4</td>\n",
       "      <td>3.7</td>\n",
       "      <td>1.5</td>\n",
       "      <td>0.2</td>\n",
       "      <td>Iris-setosa</td>\n",
       "    </tr>\n",
       "    <tr>\n",
       "      <th>16</th>\n",
       "      <td>5.4</td>\n",
       "      <td>3.9</td>\n",
       "      <td>1.3</td>\n",
       "      <td>0.4</td>\n",
       "      <td>Iris-setosa</td>\n",
       "    </tr>\n",
       "    <tr>\n",
       "      <th>20</th>\n",
       "      <td>5.4</td>\n",
       "      <td>3.4</td>\n",
       "      <td>1.7</td>\n",
       "      <td>0.2</td>\n",
       "      <td>Iris-setosa</td>\n",
       "    </tr>\n",
       "    <tr>\n",
       "      <th>31</th>\n",
       "      <td>5.4</td>\n",
       "      <td>3.4</td>\n",
       "      <td>1.5</td>\n",
       "      <td>0.4</td>\n",
       "      <td>Iris-setosa</td>\n",
       "    </tr>\n",
       "  </tbody>\n",
       "</table>\n",
       "</div>"
      ],
      "text/plain": [
       "      0    1    2    3            4\n",
       "14  5.8  4.0  1.2  0.2  Iris-setosa\n",
       "15  5.7  4.4  1.5  0.4  Iris-setosa\n",
       "18  5.7  3.8  1.7  0.3  Iris-setosa\n",
       "33  5.5  4.2  1.4  0.2  Iris-setosa\n",
       "36  5.5  3.5  1.3  0.2  Iris-setosa\n",
       "5   5.4  3.9  1.7  0.4  Iris-setosa\n",
       "10  5.4  3.7  1.5  0.2  Iris-setosa\n",
       "16  5.4  3.9  1.3  0.4  Iris-setosa\n",
       "20  5.4  3.4  1.7  0.2  Iris-setosa\n",
       "31  5.4  3.4  1.5  0.4  Iris-setosa"
      ]
     },
     "execution_count": 40,
     "metadata": {},
     "output_type": "execute_result"
    }
   ],
   "source": [
    "df_sorted = iris.sort_values(by=[4,0],ascending = [True, False])\n",
    "df_sorted.head(10)"
   ]
  },
  {
   "cell_type": "markdown",
   "metadata": {
    "id": "3U9c2cVmwh4S"
   },
   "source": [
    "### 11.Missing Values\n"
   ]
  },
  {
   "cell_type": "code",
   "execution_count": 41,
   "metadata": {
    "id": "JYK5BzT9wZ-z"
   },
   "outputs": [
    {
     "data": {
      "text/html": [
       "<div>\n",
       "<style scoped>\n",
       "    .dataframe tbody tr th:only-of-type {\n",
       "        vertical-align: middle;\n",
       "    }\n",
       "\n",
       "    .dataframe tbody tr th {\n",
       "        vertical-align: top;\n",
       "    }\n",
       "\n",
       "    .dataframe thead th {\n",
       "        text-align: right;\n",
       "    }\n",
       "</style>\n",
       "<table border=\"1\" class=\"dataframe\">\n",
       "  <thead>\n",
       "    <tr style=\"text-align: right;\">\n",
       "      <th></th>\n",
       "      <th>0</th>\n",
       "      <th>1</th>\n",
       "      <th>2</th>\n",
       "      <th>3</th>\n",
       "      <th>4</th>\n",
       "    </tr>\n",
       "  </thead>\n",
       "  <tbody>\n",
       "  </tbody>\n",
       "</table>\n",
       "</div>"
      ],
      "text/plain": [
       "Empty DataFrame\n",
       "Columns: [0, 1, 2, 3, 4]\n",
       "Index: []"
      ]
     },
     "execution_count": 41,
     "metadata": {},
     "output_type": "execute_result"
    }
   ],
   "source": [
    "# Select the rows that have at least one missing value\n",
    "iris[iris.isnull().any(axis=1)].head()"
   ]
  },
  {
   "cell_type": "code",
   "execution_count": 42,
   "metadata": {
    "id": "bUwWZ-A90Vcs"
   },
   "outputs": [
    {
     "data": {
      "text/html": [
       "<div>\n",
       "<style scoped>\n",
       "    .dataframe tbody tr th:only-of-type {\n",
       "        vertical-align: middle;\n",
       "    }\n",
       "\n",
       "    .dataframe tbody tr th {\n",
       "        vertical-align: top;\n",
       "    }\n",
       "\n",
       "    .dataframe thead th {\n",
       "        text-align: right;\n",
       "    }\n",
       "</style>\n",
       "<table border=\"1\" class=\"dataframe\">\n",
       "  <thead>\n",
       "    <tr style=\"text-align: right;\">\n",
       "      <th></th>\n",
       "      <th>0</th>\n",
       "      <th>1</th>\n",
       "      <th>2</th>\n",
       "      <th>3</th>\n",
       "      <th>4</th>\n",
       "    </tr>\n",
       "  </thead>\n",
       "  <tbody>\n",
       "    <tr>\n",
       "      <th>0</th>\n",
       "      <td>False</td>\n",
       "      <td>False</td>\n",
       "      <td>False</td>\n",
       "      <td>False</td>\n",
       "      <td>False</td>\n",
       "    </tr>\n",
       "    <tr>\n",
       "      <th>1</th>\n",
       "      <td>False</td>\n",
       "      <td>False</td>\n",
       "      <td>False</td>\n",
       "      <td>False</td>\n",
       "      <td>False</td>\n",
       "    </tr>\n",
       "    <tr>\n",
       "      <th>2</th>\n",
       "      <td>False</td>\n",
       "      <td>False</td>\n",
       "      <td>False</td>\n",
       "      <td>False</td>\n",
       "      <td>False</td>\n",
       "    </tr>\n",
       "    <tr>\n",
       "      <th>3</th>\n",
       "      <td>False</td>\n",
       "      <td>False</td>\n",
       "      <td>False</td>\n",
       "      <td>False</td>\n",
       "      <td>False</td>\n",
       "    </tr>\n",
       "    <tr>\n",
       "      <th>4</th>\n",
       "      <td>False</td>\n",
       "      <td>False</td>\n",
       "      <td>False</td>\n",
       "      <td>False</td>\n",
       "      <td>False</td>\n",
       "    </tr>\n",
       "    <tr>\n",
       "      <th>...</th>\n",
       "      <td>...</td>\n",
       "      <td>...</td>\n",
       "      <td>...</td>\n",
       "      <td>...</td>\n",
       "      <td>...</td>\n",
       "    </tr>\n",
       "    <tr>\n",
       "      <th>145</th>\n",
       "      <td>False</td>\n",
       "      <td>False</td>\n",
       "      <td>False</td>\n",
       "      <td>False</td>\n",
       "      <td>False</td>\n",
       "    </tr>\n",
       "    <tr>\n",
       "      <th>146</th>\n",
       "      <td>False</td>\n",
       "      <td>False</td>\n",
       "      <td>False</td>\n",
       "      <td>False</td>\n",
       "      <td>False</td>\n",
       "    </tr>\n",
       "    <tr>\n",
       "      <th>147</th>\n",
       "      <td>False</td>\n",
       "      <td>False</td>\n",
       "      <td>False</td>\n",
       "      <td>False</td>\n",
       "      <td>False</td>\n",
       "    </tr>\n",
       "    <tr>\n",
       "      <th>148</th>\n",
       "      <td>False</td>\n",
       "      <td>False</td>\n",
       "      <td>False</td>\n",
       "      <td>False</td>\n",
       "      <td>False</td>\n",
       "    </tr>\n",
       "    <tr>\n",
       "      <th>149</th>\n",
       "      <td>False</td>\n",
       "      <td>False</td>\n",
       "      <td>False</td>\n",
       "      <td>False</td>\n",
       "      <td>False</td>\n",
       "    </tr>\n",
       "  </tbody>\n",
       "</table>\n",
       "<p>150 rows × 5 columns</p>\n",
       "</div>"
      ],
      "text/plain": [
       "         0      1      2      3      4\n",
       "0    False  False  False  False  False\n",
       "1    False  False  False  False  False\n",
       "2    False  False  False  False  False\n",
       "3    False  False  False  False  False\n",
       "4    False  False  False  False  False\n",
       "..     ...    ...    ...    ...    ...\n",
       "145  False  False  False  False  False\n",
       "146  False  False  False  False  False\n",
       "147  False  False  False  False  False\n",
       "148  False  False  False  False  False\n",
       "149  False  False  False  False  False\n",
       "\n",
       "[150 rows x 5 columns]"
      ]
     },
     "execution_count": 42,
     "metadata": {},
     "output_type": "execute_result"
    }
   ],
   "source": [
    "iris.isnull() #returns True if the value is missing"
   ]
  },
  {
   "cell_type": "code",
   "execution_count": 43,
   "metadata": {
    "id": "puRBXuVd0Vr4"
   },
   "outputs": [
    {
     "data": {
      "text/html": [
       "<div>\n",
       "<style scoped>\n",
       "    .dataframe tbody tr th:only-of-type {\n",
       "        vertical-align: middle;\n",
       "    }\n",
       "\n",
       "    .dataframe tbody tr th {\n",
       "        vertical-align: top;\n",
       "    }\n",
       "\n",
       "    .dataframe thead th {\n",
       "        text-align: right;\n",
       "    }\n",
       "</style>\n",
       "<table border=\"1\" class=\"dataframe\">\n",
       "  <thead>\n",
       "    <tr style=\"text-align: right;\">\n",
       "      <th></th>\n",
       "      <th>0</th>\n",
       "      <th>1</th>\n",
       "      <th>2</th>\n",
       "      <th>3</th>\n",
       "      <th>4</th>\n",
       "    </tr>\n",
       "  </thead>\n",
       "  <tbody>\n",
       "    <tr>\n",
       "      <th>0</th>\n",
       "      <td>True</td>\n",
       "      <td>True</td>\n",
       "      <td>True</td>\n",
       "      <td>True</td>\n",
       "      <td>True</td>\n",
       "    </tr>\n",
       "    <tr>\n",
       "      <th>1</th>\n",
       "      <td>True</td>\n",
       "      <td>True</td>\n",
       "      <td>True</td>\n",
       "      <td>True</td>\n",
       "      <td>True</td>\n",
       "    </tr>\n",
       "    <tr>\n",
       "      <th>2</th>\n",
       "      <td>True</td>\n",
       "      <td>True</td>\n",
       "      <td>True</td>\n",
       "      <td>True</td>\n",
       "      <td>True</td>\n",
       "    </tr>\n",
       "    <tr>\n",
       "      <th>3</th>\n",
       "      <td>True</td>\n",
       "      <td>True</td>\n",
       "      <td>True</td>\n",
       "      <td>True</td>\n",
       "      <td>True</td>\n",
       "    </tr>\n",
       "    <tr>\n",
       "      <th>4</th>\n",
       "      <td>True</td>\n",
       "      <td>True</td>\n",
       "      <td>True</td>\n",
       "      <td>True</td>\n",
       "      <td>True</td>\n",
       "    </tr>\n",
       "    <tr>\n",
       "      <th>...</th>\n",
       "      <td>...</td>\n",
       "      <td>...</td>\n",
       "      <td>...</td>\n",
       "      <td>...</td>\n",
       "      <td>...</td>\n",
       "    </tr>\n",
       "    <tr>\n",
       "      <th>145</th>\n",
       "      <td>True</td>\n",
       "      <td>True</td>\n",
       "      <td>True</td>\n",
       "      <td>True</td>\n",
       "      <td>True</td>\n",
       "    </tr>\n",
       "    <tr>\n",
       "      <th>146</th>\n",
       "      <td>True</td>\n",
       "      <td>True</td>\n",
       "      <td>True</td>\n",
       "      <td>True</td>\n",
       "      <td>True</td>\n",
       "    </tr>\n",
       "    <tr>\n",
       "      <th>147</th>\n",
       "      <td>True</td>\n",
       "      <td>True</td>\n",
       "      <td>True</td>\n",
       "      <td>True</td>\n",
       "      <td>True</td>\n",
       "    </tr>\n",
       "    <tr>\n",
       "      <th>148</th>\n",
       "      <td>True</td>\n",
       "      <td>True</td>\n",
       "      <td>True</td>\n",
       "      <td>True</td>\n",
       "      <td>True</td>\n",
       "    </tr>\n",
       "    <tr>\n",
       "      <th>149</th>\n",
       "      <td>True</td>\n",
       "      <td>True</td>\n",
       "      <td>True</td>\n",
       "      <td>True</td>\n",
       "      <td>True</td>\n",
       "    </tr>\n",
       "  </tbody>\n",
       "</table>\n",
       "<p>150 rows × 5 columns</p>\n",
       "</div>"
      ],
      "text/plain": [
       "        0     1     2     3     4\n",
       "0    True  True  True  True  True\n",
       "1    True  True  True  True  True\n",
       "2    True  True  True  True  True\n",
       "3    True  True  True  True  True\n",
       "4    True  True  True  True  True\n",
       "..    ...   ...   ...   ...   ...\n",
       "145  True  True  True  True  True\n",
       "146  True  True  True  True  True\n",
       "147  True  True  True  True  True\n",
       "148  True  True  True  True  True\n",
       "149  True  True  True  True  True\n",
       "\n",
       "[150 rows x 5 columns]"
      ]
     },
     "execution_count": 43,
     "metadata": {},
     "output_type": "execute_result"
    }
   ],
   "source": [
    "iris.notnull() #Returns True for non-missing values"
   ]
  },
  {
   "cell_type": "markdown",
   "metadata": {
    "id": "Q9JiZRkj4xHI"
   },
   "source": [
    "There are a number of methods to deal with missing values in the\n",
    "data frame:"
   ]
  },
  {
   "cell_type": "markdown",
   "metadata": {
    "id": "7qSGV0r55CAc"
   },
   "source": [
    "![puc.png](data:image/png;base64,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)\n"
   ]
  },
  {
   "cell_type": "markdown",
   "metadata": {
    "id": "yVvK5ake5oZn"
   },
   "source": [
    "##### Missing Values, Key Points"
   ]
  },
  {
   "cell_type": "markdown",
   "metadata": {
    "id": "W3Btvid-5uJm"
   },
   "source": [
    "- When summing the data, missing values will be treated as zero\n",
    "- If all values are missing, the sum will be equal to NaN\n",
    "- cumsum() and cumprod() methods ignore missing values but preserve\n",
    "them in the resulting arrays\n",
    "- Missing values in GroupBy method are excluded\n",
    "- Many descriptive statistics methods have skipna option to control if\n",
    "missing data should be excluded . This value is set to True by default\n"
   ]
  }
 ],
 "metadata": {
  "colab": {
   "provenance": []
  },
  "kernelspec": {
   "display_name": "Python 3 (ipykernel)",
   "language": "python",
   "name": "python3"
  },
  "language_info": {
   "codemirror_mode": {
    "name": "ipython",
    "version": 3
   },
   "file_extension": ".py",
   "mimetype": "text/x-python",
   "name": "python",
   "nbconvert_exporter": "python",
   "pygments_lexer": "ipython3",
   "version": "3.9.12"
  }
 },
 "nbformat": 4,
 "nbformat_minor": 1
}

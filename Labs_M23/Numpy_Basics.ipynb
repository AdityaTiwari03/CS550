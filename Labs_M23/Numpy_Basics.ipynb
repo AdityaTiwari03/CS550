{
 "cells": [
  {
   "cell_type": "markdown",
   "metadata": {
    "id": "aqyHTlTQweK2"
   },
   "source": [
    "## NumPy Overview\n",
    "- NumPy is a fundamental library for scientific computing in Python.\n",
    "- NumPy's main feature is the ndarray (n-dimensional array) object, which allows efficient and fast array computations.\n",
    "\n",
    "1. Creating Arrays\n",
    "2. Shaping and Transposition\n",
    "3. Mathematical Operations\n",
    "4. Indexing and Slicing"
   ]
  },
  {
   "cell_type": "code",
   "execution_count": null,
   "metadata": {
    "colab": {
     "base_uri": "https://localhost:8080/"
    },
    "executionInfo": {
     "elapsed": 5617,
     "status": "ok",
     "timestamp": 1691390819892,
     "user": {
      "displayName": "PARUL DIWAKAR",
      "userId": "06075155684481979092"
     },
     "user_tz": -330
    },
    "id": "uKAXNsjgtbdm",
    "outputId": "1d652375-45d4-4612-9947-ba65a8080ff9"
   },
   "outputs": [
    {
     "name": "stdout",
     "output_type": "stream",
     "text": [
      "Requirement already satisfied: numpy in /usr/local/lib/python3.10/dist-packages (1.22.4)\n"
     ]
    }
   ],
   "source": [
    "!pip install numpy"
   ]
  },
  {
   "cell_type": "code",
   "execution_count": 1,
   "metadata": {
    "id": "UCVb35lyv0iK"
   },
   "outputs": [],
   "source": [
    "import numpy as np"
   ]
  },
  {
   "cell_type": "markdown",
   "metadata": {
    "id": "6oooHpMXwsnp"
   },
   "source": [
    "### 1. Creating Numpy Arrays"
   ]
  },
  {
   "cell_type": "code",
   "execution_count": null,
   "metadata": {
    "colab": {
     "base_uri": "https://localhost:8080/"
    },
    "executionInfo": {
     "elapsed": 450,
     "status": "ok",
     "timestamp": 1691400936529,
     "user": {
      "displayName": "PARUL DIWAKAR",
      "userId": "06075155684481979092"
     },
     "user_tz": -330
    },
    "id": "XqtiikfgxIaI",
    "outputId": "6cb3f349-4873-4d4c-9e9d-3c7f7c46e2da"
   },
   "outputs": [
    {
     "name": "stdout",
     "output_type": "stream",
     "text": [
      "[1 2 3 4 5] <class 'numpy.ndarray'>\n",
      "1 int64 (5,)\n"
     ]
    }
   ],
   "source": [
    "# 1.1 Using Lists\n",
    "arr1 = [1, 2, 3, 4, 5]\n",
    "arr1 = np.array(arr1)\n",
    "print(arr1, type(arr1))\n",
    "print(arr1.ndim, arr1.dtype, arr1.shape)"
   ]
  },
  {
   "cell_type": "code",
   "execution_count": null,
   "metadata": {
    "colab": {
     "base_uri": "https://localhost:8080/"
    },
    "executionInfo": {
     "elapsed": 9,
     "status": "ok",
     "timestamp": 1691400786992,
     "user": {
      "displayName": "PARUL DIWAKAR",
      "userId": "06075155684481979092"
     },
     "user_tz": -330
    },
    "id": "wqJkrwlbxJTK",
    "outputId": "a950febd-a045-4894-843f-9f69b2ca06a8"
   },
   "outputs": [
    {
     "name": "stdout",
     "output_type": "stream",
     "text": [
      "[[0. 0. 0.]\n",
      " [0. 0. 0.]]\n",
      "[[1. 1.]\n",
      " [1. 1.]\n",
      " [1. 1.]\n",
      " [1. 1.]\n",
      " [1. 1.]]\n"
     ]
    }
   ],
   "source": [
    "# 1.2 Using np.zeros and np.ones and Broadcasting\n",
    "arr_of_0 = np.zeros((2,3))\n",
    "arr_of_1 = np.ones((5,2))\n",
    "print(arr_of_0)\n",
    "print(arr_of_1)"
   ]
  },
  {
   "cell_type": "code",
   "execution_count": null,
   "metadata": {
    "colab": {
     "base_uri": "https://localhost:8080/"
    },
    "executionInfo": {
     "elapsed": 521,
     "status": "ok",
     "timestamp": 1691405618870,
     "user": {
      "displayName": "PARUL DIWAKAR",
      "userId": "06075155684481979092"
     },
     "user_tz": -330
    },
    "id": "lRyKfMN3oRkz",
    "outputId": "5607a132-edeb-4593-e880-8d1cb396d7de"
   },
   "outputs": [
    {
     "data": {
      "text/plain": [
       "array([[4.5, 4.5],\n",
       "       [4.5, 4.5],\n",
       "       [4.5, 4.5],\n",
       "       [4.5, 4.5],\n",
       "       [4.5, 4.5]])"
      ]
     },
     "execution_count": 74,
     "metadata": {},
     "output_type": "execute_result"
    }
   ],
   "source": [
    "arr_of_1 * 4.5 #Broadcasting"
   ]
  },
  {
   "cell_type": "code",
   "execution_count": null,
   "metadata": {
    "colab": {
     "base_uri": "https://localhost:8080/"
    },
    "executionInfo": {
     "elapsed": 764,
     "status": "ok",
     "timestamp": 1691391934286,
     "user": {
      "displayName": "PARUL DIWAKAR",
      "userId": "06075155684481979092"
     },
     "user_tz": -330
    },
    "id": "BKEpUdP70K2c",
    "outputId": "d798675f-1ebf-4ac1-fae7-111d34161dd3"
   },
   "outputs": [
    {
     "data": {
      "text/plain": [
       "array([10, 15, 20, 25])"
      ]
     },
     "execution_count": 9,
     "metadata": {},
     "output_type": "execute_result"
    }
   ],
   "source": [
    "# 1.3 Using arange() method\n",
    "np.arange(10, 30, 5) #generates numbers from [10, 30) with a gap of 5"
   ]
  },
  {
   "cell_type": "code",
   "execution_count": null,
   "metadata": {
    "colab": {
     "base_uri": "https://localhost:8080/"
    },
    "executionInfo": {
     "elapsed": 426,
     "status": "ok",
     "timestamp": 1691391964574,
     "user": {
      "displayName": "PARUL DIWAKAR",
      "userId": "06075155684481979092"
     },
     "user_tz": -330
    },
    "id": "EDjAHyX80M8l",
    "outputId": "557b2d42-cc0e-4d30-843b-ed9510d76be8"
   },
   "outputs": [
    {
     "data": {
      "text/plain": [
       "array([0. , 0.3, 0.6, 0.9, 1.2, 1.5, 1.8])"
      ]
     },
     "execution_count": 11,
     "metadata": {},
     "output_type": "execute_result"
    }
   ],
   "source": [
    "np.arange(0, 2, 0.3)  #generates numbers in the given range with a gap of 0.3"
   ]
  },
  {
   "cell_type": "code",
   "execution_count": null,
   "metadata": {
    "colab": {
     "base_uri": "https://localhost:8080/"
    },
    "executionInfo": {
     "elapsed": 511,
     "status": "ok",
     "timestamp": 1691392232985,
     "user": {
      "displayName": "PARUL DIWAKAR",
      "userId": "06075155684481979092"
     },
     "user_tz": -330
    },
    "id": "d5SqeUzF0URy",
    "outputId": "293327e4-2d8d-4a35-aca0-c1027d6a68b5"
   },
   "outputs": [
    {
     "data": {
      "text/plain": [
       "array([0.  , 0.25, 0.5 , 0.75, 1.  , 1.25, 1.5 , 1.75, 2.  ])"
      ]
     },
     "execution_count": 13,
     "metadata": {},
     "output_type": "execute_result"
    }
   ],
   "source": [
    "# 1.4 Using linspace() method\n",
    "np.linspace(0, 2, 9)  #generates 9 equally spaced numbers from [0,2]"
   ]
  },
  {
   "cell_type": "code",
   "execution_count": null,
   "metadata": {
    "id": "p0Qj1UosTjf2"
   },
   "outputs": [],
   "source": [
    "# 1.5 Using concatenate() method\n",
    "A = np.zeros((2,3))\n",
    "B = np.ones((2,1))"
   ]
  },
  {
   "cell_type": "code",
   "execution_count": null,
   "metadata": {
    "colab": {
     "base_uri": "https://localhost:8080/"
    },
    "executionInfo": {
     "elapsed": 16,
     "status": "ok",
     "timestamp": 1691401318770,
     "user": {
      "displayName": "PARUL DIWAKAR",
      "userId": "06075155684481979092"
     },
     "user_tz": -330
    },
    "id": "LdkZOyicXBuT",
    "outputId": "e92ab45c-62cc-4ebd-81b9-3d480b5d989b"
   },
   "outputs": [
    {
     "name": "stdout",
     "output_type": "stream",
     "text": [
      "[[0. 0. 0. 1.]\n",
      " [0. 0. 0. 1.]]\n"
     ]
    }
   ],
   "source": [
    "C = np.concatenate([A, B], axis=1)\n",
    "print(C)"
   ]
  },
  {
   "cell_type": "code",
   "execution_count": null,
   "metadata": {
    "colab": {
     "base_uri": "https://localhost:8080/"
    },
    "executionInfo": {
     "elapsed": 574,
     "status": "ok",
     "timestamp": 1691402166118,
     "user": {
      "displayName": "PARUL DIWAKAR",
      "userId": "06075155684481979092"
     },
     "user_tz": -330
    },
    "id": "Pn8UNmQGX6uh",
    "outputId": "679b2c7d-85c3-44d9-eb59-bda462a06db9"
   },
   "outputs": [
    {
     "name": "stdout",
     "output_type": "stream",
     "text": [
      "[[0.28110092 0.27840426 0.72333969]\n",
      " [0.89486379 0.78264332 0.72292294]\n",
      " [0.3762566  0.03838626 0.24822121]\n",
      " [0.51218154 0.24876343 0.25911505]]\n",
      "[[85 61 80 97]\n",
      " [92 78 86 50]]\n"
     ]
    }
   ],
   "source": [
    "# Using random\n",
    "print(np.random.random((4,3))) #Return random floats in the half-open interval [0.0, 1.0)\n",
    "\n",
    "print(np.random.randint(50, 100, size=(2, 4))) #Generate a 2 x 4 array of ints between[50, 100]"
   ]
  },
  {
   "cell_type": "markdown",
   "metadata": {
    "id": "YZtoiEW5ZSQO"
   },
   "source": [
    "### 2. Axes"
   ]
  },
  {
   "cell_type": "code",
   "execution_count": null,
   "metadata": {
    "colab": {
     "base_uri": "https://localhost:8080/"
    },
    "executionInfo": {
     "elapsed": 712,
     "status": "ok",
     "timestamp": 1691402453842,
     "user": {
      "displayName": "PARUL DIWAKAR",
      "userId": "06075155684481979092"
     },
     "user_tz": -330
    },
    "id": "73yuGfOZcOXr",
    "outputId": "c5dc85cf-7016-4830-e364-9812f0acd6e0"
   },
   "outputs": [
    {
     "data": {
      "text/plain": [
       "array([[ 7, 14],\n",
       "       [ 4, 15],\n",
       "       [16,  8]])"
      ]
     },
     "execution_count": 30,
     "metadata": {},
     "output_type": "execute_result"
    }
   ],
   "source": [
    "arr = np.random.randint(3,20, size=(3,2))\n",
    "arr"
   ]
  },
  {
   "cell_type": "code",
   "execution_count": null,
   "metadata": {
    "colab": {
     "base_uri": "https://localhost:8080/"
    },
    "executionInfo": {
     "elapsed": 28,
     "status": "ok",
     "timestamp": 1691402454538,
     "user": {
      "displayName": "PARUL DIWAKAR",
      "userId": "06075155684481979092"
     },
     "user_tz": -330
    },
    "id": "EQnqTGZvZRod",
    "outputId": "fafa15ed-1612-4d5c-8f68-53e5411b5d0e"
   },
   "outputs": [
    {
     "name": "stdout",
     "output_type": "stream",
     "text": [
      "64\n"
     ]
    }
   ],
   "source": [
    "print(arr.sum()) # sum all entries"
   ]
  },
  {
   "cell_type": "code",
   "execution_count": null,
   "metadata": {
    "colab": {
     "base_uri": "https://localhost:8080/"
    },
    "executionInfo": {
     "elapsed": 22,
     "status": "ok",
     "timestamp": 1691402454538,
     "user": {
      "displayName": "PARUL DIWAKAR",
      "userId": "06075155684481979092"
     },
     "user_tz": -330
    },
    "id": "Og_5NQsxbjSu",
    "outputId": "bfeb9c7e-c6c8-4997-8958-f85fa2c781f2"
   },
   "outputs": [
    {
     "name": "stdout",
     "output_type": "stream",
     "text": [
      "[27 37]\n"
     ]
    }
   ],
   "source": [
    "print(arr.sum(axis=0))# sum over cols"
   ]
  },
  {
   "cell_type": "code",
   "execution_count": null,
   "metadata": {
    "colab": {
     "base_uri": "https://localhost:8080/"
    },
    "executionInfo": {
     "elapsed": 16,
     "status": "ok",
     "timestamp": 1691402454539,
     "user": {
      "displayName": "PARUL DIWAKAR",
      "userId": "06075155684481979092"
     },
     "user_tz": -330
    },
    "id": "dJ0mQ_E7bjU8",
    "outputId": "d9187512-6685-403f-d965-0c44580d91a1"
   },
   "outputs": [
    {
     "name": "stdout",
     "output_type": "stream",
     "text": [
      "[21 19 24]\n"
     ]
    }
   ],
   "source": [
    "print(arr.sum(axis=1)) # sum over rows"
   ]
  },
  {
   "cell_type": "code",
   "execution_count": null,
   "metadata": {
    "colab": {
     "base_uri": "https://localhost:8080/"
    },
    "executionInfo": {
     "elapsed": 12,
     "status": "ok",
     "timestamp": 1691402454539,
     "user": {
      "displayName": "PARUL DIWAKAR",
      "userId": "06075155684481979092"
     },
     "user_tz": -330
    },
    "id": "ti4VYkZLbjWv",
    "outputId": "89f183dc-74aa-4638-9a32-17f3f13d6cec"
   },
   "outputs": [
    {
     "name": "stdout",
     "output_type": "stream",
     "text": [
      "[[21]\n",
      " [19]\n",
      " [24]]\n"
     ]
    }
   ],
   "source": [
    "print(arr.sum(axis=1, keepdims=True))"
   ]
  },
  {
   "cell_type": "markdown",
   "metadata": {
    "id": "McYl_DLcdE1X"
   },
   "source": [
    "### 3. Shaping the NumPy arrays\n",
    "- Total number of elements cannot change.\n",
    "- Use -1 to infer axis shape"
   ]
  },
  {
   "cell_type": "code",
   "execution_count": 6,
   "metadata": {
    "colab": {
     "base_uri": "https://localhost:8080/"
    },
    "executionInfo": {
     "elapsed": 751,
     "status": "ok",
     "timestamp": 1691402726105,
     "user": {
      "displayName": "PARUL DIWAKAR",
      "userId": "06075155684481979092"
     },
     "user_tz": -330
    },
    "id": "Mr9Q7tD1cq8-",
    "outputId": "d1f9f90f-cffa-4d76-f052-696382736b26"
   },
   "outputs": [],
   "source": [
    "a = np.array([1,2,3,4,5,6])"
   ]
  },
  {
   "cell_type": "code",
   "execution_count": 11,
   "metadata": {},
   "outputs": [
    {
     "data": {
      "text/plain": [
       "array([[1],\n",
       "       [2],\n",
       "       [3],\n",
       "       [4],\n",
       "       [5],\n",
       "       [6]])"
      ]
     },
     "execution_count": 11,
     "metadata": {},
     "output_type": "execute_result"
    }
   ],
   "source": [
    "a.reshape(6,-1)"
   ]
  },
  {
   "cell_type": "code",
   "execution_count": 5,
   "metadata": {
    "colab": {
     "base_uri": "https://localhost:8080/"
    },
    "executionInfo": {
     "elapsed": 15,
     "status": "ok",
     "timestamp": 1691402726106,
     "user": {
      "displayName": "PARUL DIWAKAR",
      "userId": "06075155684481979092"
     },
     "user_tz": -330
    },
    "id": "KEID-Yx3dQKW",
    "outputId": "38b01673-5736-42b4-c3ca-c962d0e612c6"
   },
   "outputs": [
    {
     "data": {
      "text/plain": [
       "array([[1, 2],\n",
       "       [3, 4],\n",
       "       [5, 6]])"
      ]
     },
     "execution_count": 5,
     "metadata": {},
     "output_type": "execute_result"
    }
   ],
   "source": [
    "a = a.reshape(3,2)\n",
    "a"
   ]
  },
  {
   "cell_type": "code",
   "execution_count": null,
   "metadata": {
    "colab": {
     "base_uri": "https://localhost:8080/"
    },
    "executionInfo": {
     "elapsed": 11,
     "status": "ok",
     "timestamp": 1691402726788,
     "user": {
      "displayName": "PARUL DIWAKAR",
      "userId": "06075155684481979092"
     },
     "user_tz": -330
    },
    "id": "8uvrCeUGdQNY",
    "outputId": "7da1d3bf-cb88-43d1-8476-99421c5481f6"
   },
   "outputs": [
    {
     "data": {
      "text/plain": [
       "array([[1, 2, 3],\n",
       "       [4, 5, 6]])"
      ]
     },
     "execution_count": 37,
     "metadata": {},
     "output_type": "execute_result"
    }
   ],
   "source": [
    "a = a.reshape(2,-1) # If a dimension is given as -1 in a reshaping operation, the other dimensions are automatically calculated\n",
    "a"
   ]
  },
  {
   "cell_type": "code",
   "execution_count": null,
   "metadata": {
    "colab": {
     "base_uri": "https://localhost:8080/"
    },
    "executionInfo": {
     "elapsed": 12,
     "status": "ok",
     "timestamp": 1691402727430,
     "user": {
      "displayName": "PARUL DIWAKAR",
      "userId": "06075155684481979092"
     },
     "user_tz": -330
    },
    "id": "qYqJz8e6dQPp",
    "outputId": "461e0641-6156-4593-db16-887d8996ed8f"
   },
   "outputs": [
    {
     "data": {
      "text/plain": [
       "array([1, 2, 3, 4, 5, 6])"
      ]
     },
     "execution_count": 38,
     "metadata": {},
     "output_type": "execute_result"
    }
   ],
   "source": [
    "a = a.ravel() # used to change a 2-dimensional array or a multi-dimensional array into a contiguous flattened array\n",
    "a"
   ]
  },
  {
   "cell_type": "markdown",
   "metadata": {
    "id": "HLKa-RSmeESD"
   },
   "source": [
    "### 4. Transposition"
   ]
  },
  {
   "cell_type": "code",
   "execution_count": null,
   "metadata": {
    "colab": {
     "base_uri": "https://localhost:8080/"
    },
    "executionInfo": {
     "elapsed": 636,
     "status": "ok",
     "timestamp": 1691403037634,
     "user": {
      "displayName": "PARUL DIWAKAR",
      "userId": "06075155684481979092"
     },
     "user_tz": -330
    },
    "id": "uFIgLwMoeJs7",
    "outputId": "5b002145-777d-437f-a49b-211327dc0941"
   },
   "outputs": [
    {
     "data": {
      "text/plain": [
       "array([[0, 1],\n",
       "       [2, 3],\n",
       "       [4, 5],\n",
       "       [6, 7],\n",
       "       [8, 9]])"
      ]
     },
     "execution_count": 43,
     "metadata": {},
     "output_type": "execute_result"
    }
   ],
   "source": [
    "a = np.arange(10).reshape(5,2)\n",
    "a"
   ]
  },
  {
   "cell_type": "code",
   "execution_count": null,
   "metadata": {
    "colab": {
     "base_uri": "https://localhost:8080/"
    },
    "executionInfo": {
     "elapsed": 23,
     "status": "ok",
     "timestamp": 1691403038343,
     "user": {
      "displayName": "PARUL DIWAKAR",
      "userId": "06075155684481979092"
     },
     "user_tz": -330
    },
    "id": "feaJs5vDeJvb",
    "outputId": "2762cb0a-0bcc-4ea0-9b5d-7511e5288d90"
   },
   "outputs": [
    {
     "data": {
      "text/plain": [
       "array([[0, 2, 4, 6, 8],\n",
       "       [1, 3, 5, 7, 9]])"
      ]
     },
     "execution_count": 44,
     "metadata": {},
     "output_type": "execute_result"
    }
   ],
   "source": [
    "a = a.T\n",
    "a"
   ]
  },
  {
   "cell_type": "code",
   "execution_count": null,
   "metadata": {
    "colab": {
     "base_uri": "https://localhost:8080/"
    },
    "executionInfo": {
     "elapsed": 16,
     "status": "ok",
     "timestamp": 1691403038344,
     "user": {
      "displayName": "PARUL DIWAKAR",
      "userId": "06075155684481979092"
     },
     "user_tz": -330
    },
    "id": "VFkM75SEeJxe",
    "outputId": "fbc207ac-22ab-4570-86e7-6d02ebb827a2"
   },
   "outputs": [
    {
     "data": {
      "text/plain": [
       "array([[0, 1],\n",
       "       [2, 3],\n",
       "       [4, 5],\n",
       "       [6, 7],\n",
       "       [8, 9]])"
      ]
     },
     "execution_count": 45,
     "metadata": {},
     "output_type": "execute_result"
    }
   ],
   "source": [
    "a = np.transpose(a)\n",
    "a"
   ]
  },
  {
   "cell_type": "markdown",
   "metadata": {
    "id": "Gkrhnd8OeuQl"
   },
   "source": [
    "### 5. Mathematical operators"
   ]
  },
  {
   "cell_type": "code",
   "execution_count": null,
   "metadata": {
    "id": "F7h9oCxPgm5l"
   },
   "outputs": [],
   "source": [
    "a = np.array([1, 2, 3],dtype = np.float32)\n",
    "b = np.array([4, 5, 6],dtype = np.float32)"
   ]
  },
  {
   "cell_type": "code",
   "execution_count": null,
   "metadata": {
    "colab": {
     "base_uri": "https://localhost:8080/"
    },
    "executionInfo": {
     "elapsed": 11,
     "status": "ok",
     "timestamp": 1691403940974,
     "user": {
      "displayName": "PARUL DIWAKAR",
      "userId": "06075155684481979092"
     },
     "user_tz": -330
    },
    "id": "tBXs3_Fpe5FY",
    "outputId": "24a3827d-65f2-47fe-9f12-abbfeecab79a"
   },
   "outputs": [
    {
     "name": "stdout",
     "output_type": "stream",
     "text": [
      "[5. 7. 9.]\n",
      "[-3. -3. -3.]\n",
      "[ 4. 10. 18.]\n",
      "[0.25 0.4  0.5 ]\n",
      "[0. 1. 0.]\n"
     ]
    }
   ],
   "source": [
    "# 5.1 Arithmetic operations are element-wise\n",
    "print(a + b)\n",
    "print(a - b)\n",
    "print(a * b)\n",
    "print(a / b)\n",
    "print(b % a)"
   ]
  },
  {
   "cell_type": "code",
   "execution_count": 13,
   "metadata": {
    "colab": {
     "base_uri": "https://localhost:8080/"
    },
    "executionInfo": {
     "elapsed": 17,
     "status": "ok",
     "timestamp": 1691403941706,
     "user": {
      "displayName": "PARUL DIWAKAR",
      "userId": "06075155684481979092"
     },
     "user_tz": -330
    },
    "id": "yff3KD-pe5IB",
    "outputId": "c0b8e2a6-de88-4d79-e7cf-05e0a285d9e1"
   },
   "outputs": [
    {
     "name": "stdout",
     "output_type": "stream",
     "text": [
      "[[0.72830719 0.50250383 0.44265376]\n",
      " [0.86142621 0.10666251 0.93080863]]\n"
     ]
    },
    {
     "data": {
      "text/plain": [
       "array([[ True,  True, False],\n",
       "       [ True, False,  True]])"
      ]
     },
     "execution_count": 13,
     "metadata": {},
     "output_type": "execute_result"
    }
   ],
   "source": [
    "# 5.2 Logical operator returns a bool array\n",
    "arr = np.random.random((2,3))\n",
    "print(arr)\n",
    "arr > 0.5"
   ]
  },
  {
   "cell_type": "code",
   "execution_count": null,
   "metadata": {
    "colab": {
     "base_uri": "https://localhost:8080/"
    },
    "executionInfo": {
     "elapsed": 18,
     "status": "ok",
     "timestamp": 1691403943785,
     "user": {
      "displayName": "PARUL DIWAKAR",
      "userId": "06075155684481979092"
     },
     "user_tz": -330
    },
    "id": "HFvyJl7Ve5K7",
    "outputId": "e52f739c-2ea1-4267-e0b3-8b355a813004"
   },
   "outputs": [
    {
     "data": {
      "text/plain": [
       "array([4. , 2.5, 2. ], dtype=float32)"
      ]
     },
     "execution_count": 58,
     "metadata": {},
     "output_type": "execute_result"
    }
   ],
   "source": [
    "# 5.3 In place operations modify the array\n",
    "b /= a\n",
    "b"
   ]
  },
  {
   "cell_type": "markdown",
   "metadata": {
    "id": "DTq155Aoic9R"
   },
   "source": [
    "### 6. Universal functions\n",
    "- Also called ufuncs\n",
    "- Element-wise"
   ]
  },
  {
   "cell_type": "code",
   "execution_count": 20,
   "metadata": {
    "colab": {
     "base_uri": "https://localhost:8080/"
    },
    "executionInfo": {
     "elapsed": 439,
     "status": "ok",
     "timestamp": 1691404218123,
     "user": {
      "displayName": "PARUL DIWAKAR",
      "userId": "06075155684481979092"
     },
     "user_tz": -330
    },
    "id": "qxAVHmUDiTcp",
    "outputId": "4062fea1-b884-4a32-efe0-fca11855622f"
   },
   "outputs": [],
   "source": [
    "a = np.array([0, 16, 'nan', 36, 60, 64, 90])"
   ]
  },
  {
   "cell_type": "code",
   "execution_count": null,
   "metadata": {
    "colab": {
     "base_uri": "https://localhost:8080/"
    },
    "executionInfo": {
     "elapsed": 898,
     "status": "ok",
     "timestamp": 1691404268914,
     "user": {
      "displayName": "PARUL DIWAKAR",
      "userId": "06075155684481979092"
     },
     "user_tz": -330
    },
    "id": "YzpxsKrRi1nu",
    "outputId": "79d972cd-f311-4ebf-ec3f-cd6a19fb0ac1"
   },
   "outputs": [
    {
     "data": {
      "text/plain": [
       "array([0.        , 4.        , 5.47722558, 6.        , 7.74596669,\n",
       "       8.        , 9.48683298])"
      ]
     },
     "execution_count": 63,
     "metadata": {},
     "output_type": "execute_result"
    }
   ],
   "source": [
    "np.sqrt(a)"
   ]
  },
  {
   "cell_type": "code",
   "execution_count": null,
   "metadata": {
    "colab": {
     "base_uri": "https://localhost:8080/"
    },
    "executionInfo": {
     "elapsed": 28,
     "status": "ok",
     "timestamp": 1691404269636,
     "user": {
      "displayName": "PARUL DIWAKAR",
      "userId": "06075155684481979092"
     },
     "user_tz": -330
    },
    "id": "Tj_-zRtai1qd",
    "outputId": "d26c1634-b7cd-4a03-828d-b2e3b82c4669"
   },
   "outputs": [
    {
     "data": {
      "text/plain": [
       "array([ 0.        , -0.28790332, -0.98803162, -0.99177885, -0.30481062,\n",
       "        0.92002604,  0.89399666])"
      ]
     },
     "execution_count": 64,
     "metadata": {},
     "output_type": "execute_result"
    }
   ],
   "source": [
    "np.sin(a)"
   ]
  },
  {
   "cell_type": "code",
   "execution_count": 21,
   "metadata": {
    "colab": {
     "base_uri": "https://localhost:8080/"
    },
    "executionInfo": {
     "elapsed": 20,
     "status": "ok",
     "timestamp": 1691404269638,
     "user": {
      "displayName": "PARUL DIWAKAR",
      "userId": "06075155684481979092"
     },
     "user_tz": -330
    },
    "id": "6IilwHiWi1sq",
    "outputId": "7f84c8da-f407-4c37-82c7-e55c2ab112f4"
   },
   "outputs": [
    {
     "ename": "TypeError",
     "evalue": "ufunc 'isnan' not supported for the input types, and the inputs could not be safely coerced to any supported types according to the casting rule ''safe''",
     "output_type": "error",
     "traceback": [
      "\u001b[1;31m---------------------------------------------------------------------------\u001b[0m",
      "\u001b[1;31mTypeError\u001b[0m                                 Traceback (most recent call last)",
      "Input \u001b[1;32mIn [21]\u001b[0m, in \u001b[0;36m<cell line: 1>\u001b[1;34m()\u001b[0m\n\u001b[1;32m----> 1\u001b[0m \u001b[43mnp\u001b[49m\u001b[38;5;241;43m.\u001b[39;49m\u001b[43misnan\u001b[49m\u001b[43m(\u001b[49m\u001b[43ma\u001b[49m\u001b[43m)\u001b[49m\n",
      "\u001b[1;31mTypeError\u001b[0m: ufunc 'isnan' not supported for the input types, and the inputs could not be safely coerced to any supported types according to the casting rule ''safe''"
     ]
    }
   ],
   "source": [
    "np.isnan(a)"
   ]
  },
  {
   "cell_type": "code",
   "execution_count": null,
   "metadata": {
    "colab": {
     "base_uri": "https://localhost:8080/"
    },
    "executionInfo": {
     "elapsed": 18,
     "status": "ok",
     "timestamp": 1691404270332,
     "user": {
      "displayName": "PARUL DIWAKAR",
      "userId": "06075155684481979092"
     },
     "user_tz": -330
    },
    "id": "axc-ftx-i1vK",
    "outputId": "c93f3f59-5de2-4bb9-a254-8c55a1bdedbd"
   },
   "outputs": [
    {
     "data": {
      "text/plain": [
       "array([1.00000000e+00, 8.88611052e+06, 1.06864746e+13, 4.31123155e+15,\n",
       "       1.14200739e+26, 6.23514908e+27, 1.22040329e+39])"
      ]
     },
     "execution_count": 66,
     "metadata": {},
     "output_type": "execute_result"
    }
   ],
   "source": [
    "np.exp(a)"
   ]
  },
  {
   "cell_type": "markdown",
   "metadata": {
    "id": "E_q_YjcCxCjb"
   },
   "source": [
    "### 7. Array Indexing and Slicing\n",
    "\n"
   ]
  },
  {
   "cell_type": "code",
   "execution_count": null,
   "metadata": {
    "colab": {
     "base_uri": "https://localhost:8080/"
    },
    "executionInfo": {
     "elapsed": 480,
     "status": "ok",
     "timestamp": 1691406353871,
     "user": {
      "displayName": "PARUL DIWAKAR",
      "userId": "06075155684481979092"
     },
     "user_tz": -330
    },
    "id": "dFOeaIjx0UT-",
    "outputId": "b8b786a9-8066-43c7-80ec-526f1b95b506"
   },
   "outputs": [
    {
     "name": "stdout",
     "output_type": "stream",
     "text": [
      "[0, 1, 2, 3, 4, 5, 6, 7, 8, 9]\n",
      "[0, 1, 2]\n",
      "[7, 8, 9]\n",
      "[3, 5, 7]\n",
      "[4, 3, 2]\n"
     ]
    }
   ],
   "source": [
    "a = list(range(10))\n",
    "print(a)\n",
    "print(a[:3]) # indices 0, 1, 2\n",
    "print(a[-3:]) # indices 7, 8, 9\n",
    "print(a[3:8:2]) # indices 3, 5, 7\n",
    "print(a[4:1:-1]) # indices 4, 3, 2"
   ]
  },
  {
   "cell_type": "markdown",
   "metadata": {
    "id": "isGsfdOApPQd"
   },
   "source": [
    "### 8. Stacking Arrays"
   ]
  },
  {
   "cell_type": "code",
   "execution_count": 25,
   "metadata": {
    "colab": {
     "base_uri": "https://localhost:8080/"
    },
    "executionInfo": {
     "elapsed": 547,
     "status": "ok",
     "timestamp": 1691406777107,
     "user": {
      "displayName": "PARUL DIWAKAR",
      "userId": "06075155684481979092"
     },
     "user_tz": -330
    },
    "id": "69KaX8IyqZJf",
    "outputId": "2a47c984-8ef4-459e-ed24-743dfd1875a2"
   },
   "outputs": [
    {
     "name": "stdout",
     "output_type": "stream",
     "text": [
      "(2, 1) (2, 2)\n"
     ]
    },
    {
     "data": {
      "text/plain": [
       "array([[3, 1, 2],\n",
       "       [4, 6, 8]])"
      ]
     },
     "execution_count": 25,
     "metadata": {},
     "output_type": "execute_result"
    }
   ],
   "source": [
    "# hstack() method\n",
    "a = np.array([[3],\n",
    "              [4]])\n",
    "b = np.array([[1, 2],\n",
    "              [6, 8]])\n",
    "print(a.shape, b.shape)\n",
    "np.hstack([a, b]) # No. of rows should be same"
   ]
  },
  {
   "cell_type": "code",
   "execution_count": null,
   "metadata": {
    "colab": {
     "base_uri": "https://localhost:8080/"
    },
    "executionInfo": {
     "elapsed": 28,
     "status": "ok",
     "timestamp": 1691406777832,
     "user": {
      "displayName": "PARUL DIWAKAR",
      "userId": "06075155684481979092"
     },
     "user_tz": -330
    },
    "id": "Mi-Hr1h0rwFz",
    "outputId": "c3129d59-b22b-48f9-fa4a-c91ab26e469d"
   },
   "outputs": [
    {
     "name": "stdout",
     "output_type": "stream",
     "text": [
      "(1, 2) (3, 2)\n"
     ]
    },
    {
     "data": {
      "text/plain": [
       "array([[3, 5],\n",
       "       [1, 2],\n",
       "       [6, 8],\n",
       "       [5, 4]])"
      ]
     },
     "execution_count": 83,
     "metadata": {},
     "output_type": "execute_result"
    }
   ],
   "source": [
    "# vstack() method\n",
    "a = np.array([[3, 5]])\n",
    "b = np.array([[1, 2],\n",
    "              [6, 8],\n",
    "              [5, 4]])\n",
    "print(a.shape, b.shape)\n",
    "np.vstack([a, b]) # No. of cols should be same"
   ]
  },
  {
   "cell_type": "markdown",
   "metadata": {
    "id": "RKEvos-Ds9-v"
   },
   "source": [
    "### 9. Questions"
   ]
  },
  {
   "cell_type": "code",
   "execution_count": null,
   "metadata": {
    "id": "DhnoQK-ZvDaw"
   },
   "outputs": [],
   "source": [
    "a = np.array([-1, 4, 5])"
   ]
  },
  {
   "cell_type": "code",
   "execution_count": null,
   "metadata": {
    "colab": {
     "base_uri": "https://localhost:8080/"
    },
    "executionInfo": {
     "elapsed": 477,
     "status": "ok",
     "timestamp": 1691407787250,
     "user": {
      "displayName": "PARUL DIWAKAR",
      "userId": "06075155684481979092"
     },
     "user_tz": -330
    },
    "id": "aGzbhKRrzLvS",
    "outputId": "67510d57-759f-4f60-ae38-cd0a52a8cc02"
   },
   "outputs": [
    {
     "name": "stdout",
     "output_type": "stream",
     "text": [
      "False\n"
     ]
    }
   ],
   "source": [
    "# 9.1 np.all() -> Test whether all array elements along a given axis evaluate to True.\n",
    "print(np.all(a > 5))"
   ]
  },
  {
   "cell_type": "code",
   "execution_count": null,
   "metadata": {
    "colab": {
     "base_uri": "https://localhost:8080/"
    },
    "executionInfo": {
     "elapsed": 460,
     "status": "ok",
     "timestamp": 1691407796181,
     "user": {
      "displayName": "PARUL DIWAKAR",
      "userId": "06075155684481979092"
     },
     "user_tz": -330
    },
    "id": "vE77kalvvFdy",
    "outputId": "58869c61-605a-4c8e-a9c3-781747d2bf6c"
   },
   "outputs": [
    {
     "name": "stdout",
     "output_type": "stream",
     "text": [
      "True\n"
     ]
    }
   ],
   "source": [
    "# 9.2 np.any() -> Test whether any array elements along a given axis evaluate to True.\n",
    "print(np.any(a == 5))"
   ]
  },
  {
   "cell_type": "markdown",
   "metadata": {
    "id": "xSeuJnUVtHZz"
   },
   "source": [
    "### 10. Ordering"
   ]
  },
  {
   "cell_type": "code",
   "execution_count": null,
   "metadata": {
    "colab": {
     "base_uri": "https://localhost:8080/"
    },
    "executionInfo": {
     "elapsed": 439,
     "status": "ok",
     "timestamp": 1691416316622,
     "user": {
      "displayName": "PARUL DIWAKAR",
      "userId": "06075155684481979092"
     },
     "user_tz": -330
    },
    "id": "qp8xs7iQzLxd",
    "outputId": "631cb215-25bf-4b6b-e489-c8c99ca363f7"
   },
   "outputs": [
    {
     "data": {
      "text/plain": [
       "array([[ 3, 10,  5],\n",
       "       [ 6, 16, 12],\n",
       "       [12,  2,  1]])"
      ]
     },
     "execution_count": 119,
     "metadata": {},
     "output_type": "execute_result"
    }
   ],
   "source": [
    "a = np.random.randint(20, size=(3,3))\n",
    "a"
   ]
  },
  {
   "cell_type": "code",
   "execution_count": null,
   "metadata": {
    "colab": {
     "base_uri": "https://localhost:8080/"
    },
    "executionInfo": {
     "elapsed": 585,
     "status": "ok",
     "timestamp": 1691416319365,
     "user": {
      "displayName": "PARUL DIWAKAR",
      "userId": "06075155684481979092"
     },
     "user_tz": -330
    },
    "id": "02Ba-o2vQOLc",
    "outputId": "2231dd3d-0c26-47fc-d3c6-554907d2e1c0"
   },
   "outputs": [
    {
     "data": {
      "text/plain": [
       "array([2, 1, 1])"
      ]
     },
     "execution_count": 120,
     "metadata": {},
     "output_type": "execute_result"
    }
   ],
   "source": [
    "# 10.1 argmax() -> Returns the indices of the maximum values along an axis.\n",
    "np.argmax(a, axis=0)"
   ]
  },
  {
   "cell_type": "code",
   "execution_count": null,
   "metadata": {
    "colab": {
     "base_uri": "https://localhost:8080/"
    },
    "executionInfo": {
     "elapsed": 11,
     "status": "ok",
     "timestamp": 1691416319862,
     "user": {
      "displayName": "PARUL DIWAKAR",
      "userId": "06075155684481979092"
     },
     "user_tz": -330
    },
    "id": "jARIK2LYQlya",
    "outputId": "b9332e0d-b4e3-4c38-b445-a8854d1e7719"
   },
   "outputs": [
    {
     "data": {
      "text/plain": [
       "array([1, 1, 0])"
      ]
     },
     "execution_count": 121,
     "metadata": {},
     "output_type": "execute_result"
    }
   ],
   "source": [
    "np.argmax(a, axis=1)"
   ]
  },
  {
   "cell_type": "code",
   "execution_count": null,
   "metadata": {
    "colab": {
     "base_uri": "https://localhost:8080/"
    },
    "executionInfo": {
     "elapsed": 424,
     "status": "ok",
     "timestamp": 1691416461291,
     "user": {
      "displayName": "PARUL DIWAKAR",
      "userId": "06075155684481979092"
     },
     "user_tz": -330
    },
    "id": "XsLj7h_IRjBs",
    "outputId": "8fda9292-813a-4680-c5c6-2d6ae60723bb"
   },
   "outputs": [
    {
     "data": {
      "text/plain": [
       "array([0, 2, 2])"
      ]
     },
     "execution_count": 123,
     "metadata": {},
     "output_type": "execute_result"
    }
   ],
   "source": [
    "# 10.2 argmin() -> Returns the indices of the minimum values along an axis.\n",
    "np.argmin(a, axis=0)"
   ]
  },
  {
   "cell_type": "code",
   "execution_count": null,
   "metadata": {
    "colab": {
     "base_uri": "https://localhost:8080/"
    },
    "executionInfo": {
     "elapsed": 14,
     "status": "ok",
     "timestamp": 1691416462054,
     "user": {
      "displayName": "PARUL DIWAKAR",
      "userId": "06075155684481979092"
     },
     "user_tz": -330
    },
    "id": "2LbsrGAkRjEe",
    "outputId": "ce08ebbe-7484-42af-c661-671c0ece4987"
   },
   "outputs": [
    {
     "data": {
      "text/plain": [
       "array([0, 0, 2])"
      ]
     },
     "execution_count": 124,
     "metadata": {},
     "output_type": "execute_result"
    }
   ],
   "source": [
    "np.argmin(a, axis=1)"
   ]
  },
  {
   "cell_type": "markdown",
   "metadata": {
    "id": "ZoEY3t61tKWi"
   },
   "source": [
    "### 11. Basic Statistics"
   ]
  },
  {
   "cell_type": "code",
   "execution_count": null,
   "metadata": {},
   "outputs": [],
   "source": []
  },
  {
   "cell_type": "code",
   "execution_count": null,
   "metadata": {},
   "outputs": [],
   "source": []
  },
  {
   "cell_type": "code",
   "execution_count": null,
   "metadata": {
    "colab": {
     "base_uri": "https://localhost:8080/"
    },
    "executionInfo": {
     "elapsed": 534,
     "status": "ok",
     "timestamp": 1691416694132,
     "user": {
      "displayName": "PARUL DIWAKAR",
      "userId": "06075155684481979092"
     },
     "user_tz": -330
    },
    "id": "ErU2U75Dt11y",
    "outputId": "393dbee5-3407-4913-e8d8-209fcfdd8688"
   },
   "outputs": [
    {
     "name": "stdout",
     "output_type": "stream",
     "text": [
      "7.444444444444445\n",
      "[7.         9.33333333 6.        ]\n",
      "[ 6.         11.33333333  5.        ]\n"
     ]
    }
   ],
   "source": [
    "# 11.1 np.mean()\n",
    "print(np.mean(a)) #overall mean\n",
    "print(np.mean(a, axis = 0)) # column-wise mean\n",
    "print(np.mean(a, axis = 1)) # row-wise mean"
   ]
  },
  {
   "cell_type": "code",
   "execution_count": null,
   "metadata": {
    "colab": {
     "base_uri": "https://localhost:8080/"
    },
    "executionInfo": {
     "elapsed": 638,
     "status": "ok",
     "timestamp": 1691416898726,
     "user": {
      "displayName": "PARUL DIWAKAR",
      "userId": "06075155684481979092"
     },
     "user_tz": -330
    },
    "id": "-F3gIBS7R9hI",
    "outputId": "a358972e-61e9-4f55-82eb-f5766533f2de"
   },
   "outputs": [
    {
     "name": "stdout",
     "output_type": "stream",
     "text": [
      "4.94662873101157\n",
      "[3.74165739 5.73488351 4.54606057]\n",
      "[2.94392029 4.10960934 4.96655481]\n"
     ]
    }
   ],
   "source": [
    "# 11.2 np.std() -> standard deviation\n",
    "print(np.std(a)) #overall standard deviation\n",
    "print(np.std(a, axis = 0)) # column-wise standard deviation\n",
    "print(np.std(a, axis = 1)) # row-wise standard deviation"
   ]
  },
  {
   "cell_type": "code",
   "execution_count": null,
   "metadata": {
    "colab": {
     "base_uri": "https://localhost:8080/"
    },
    "executionInfo": {
     "elapsed": 9,
     "status": "ok",
     "timestamp": 1691416899439,
     "user": {
      "displayName": "PARUL DIWAKAR",
      "userId": "06075155684481979092"
     },
     "user_tz": -330
    },
    "id": "OcWX6fUhR9j2",
    "outputId": "879b0c86-6eab-44b2-a175-15327491e55c"
   },
   "outputs": [
    {
     "name": "stdout",
     "output_type": "stream",
     "text": [
      "24.469135802469133\n",
      "[14.         32.88888889 20.66666667]\n",
      "[ 8.66666667 16.88888889 24.66666667]\n"
     ]
    }
   ],
   "source": [
    "# 11.3 np.var() -> variance\n",
    "print(np.var(a)) #overall variance\n",
    "print(np.var(a, axis = 0)) # column-wise variance\n",
    "print(np.var(a, axis = 1)) # row-wise variance"
   ]
  },
  {
   "cell_type": "markdown",
   "metadata": {
    "id": "kbRjn5Aatb5B"
   },
   "source": [
    "### 12. Basic Linear Algebra\n"
   ]
  },
  {
   "cell_type": "code",
   "execution_count": null,
   "metadata": {
    "colab": {
     "base_uri": "https://localhost:8080/"
    },
    "executionInfo": {
     "elapsed": 558,
     "status": "ok",
     "timestamp": 1691417929533,
     "user": {
      "displayName": "PARUL DIWAKAR",
      "userId": "06075155684481979092"
     },
     "user_tz": -330
    },
    "id": "wxkza8NerwJQ",
    "outputId": "5e967fc3-afc8-4ef3-cab9-7dcdad00992e"
   },
   "outputs": [
    {
     "data": {
      "text/plain": [
       "array([-3,  6, -3])"
      ]
     },
     "execution_count": 136,
     "metadata": {},
     "output_type": "execute_result"
    }
   ],
   "source": [
    "# 12.1 np.cross() -> # Returns the cross product of two (arrays of) vectors. The cross product of a and b is a vector perpendicular to both a and b.\n",
    "x = [1, 2, 3]\n",
    "y = [4, 5, 6]\n",
    "np.cross(x, y)"
   ]
  },
  {
   "cell_type": "code",
   "execution_count": null,
   "metadata": {
    "colab": {
     "base_uri": "https://localhost:8080/"
    },
    "executionInfo": {
     "elapsed": 430,
     "status": "ok",
     "timestamp": 1691417946257,
     "user": {
      "displayName": "PARUL DIWAKAR",
      "userId": "06075155684481979092"
     },
     "user_tz": -330
    },
    "id": "Egu6Rh-bU4OG",
    "outputId": "59e960ad-332a-4a35-c6fe-2e45a84b6554"
   },
   "outputs": [
    {
     "data": {
      "text/plain": [
       "32"
      ]
     },
     "execution_count": 137,
     "metadata": {},
     "output_type": "execute_result"
    }
   ],
   "source": [
    "# 12.2 np.dot() -> Dot product of two arrays\n",
    "x = [1, 2, 3]\n",
    "y = [4, 5, 6]\n",
    "np.dot(x, y)"
   ]
  },
  {
   "cell_type": "code",
   "execution_count": null,
   "metadata": {
    "colab": {
     "base_uri": "https://localhost:8080/"
    },
    "executionInfo": {
     "elapsed": 429,
     "status": "ok",
     "timestamp": 1691417802658,
     "user": {
      "displayName": "PARUL DIWAKAR",
      "userId": "06075155684481979092"
     },
     "user_tz": -330
    },
    "id": "bqNvDBx5U4RB",
    "outputId": "ceefca0a-4ce7-4632-ac8c-502df155c65d"
   },
   "outputs": [
    {
     "name": "stdout",
     "output_type": "stream",
     "text": [
      "(3,) (3,)\n"
     ]
    },
    {
     "data": {
      "text/plain": [
       "array([[0, 1, 0],\n",
       "       [0, 2, 0],\n",
       "       [0, 3, 0]])"
      ]
     },
     "execution_count": 134,
     "metadata": {},
     "output_type": "execute_result"
    }
   ],
   "source": [
    "# 12.3 np.outer() -> Outer product of two arrays.\n",
    "a = np.array([1,2,3])\n",
    "b = np.array([0,1,0])\n",
    "print(a.shape, b.shape)\n",
    "np.outer(a, b) # returns a 3x3 array"
   ]
  },
  {
   "cell_type": "code",
   "execution_count": null,
   "metadata": {
    "colab": {
     "base_uri": "https://localhost:8080/"
    },
    "executionInfo": {
     "elapsed": 14,
     "status": "ok",
     "timestamp": 1691417802659,
     "user": {
      "displayName": "PARUL DIWAKAR",
      "userId": "06075155684481979092"
     },
     "user_tz": -330
    },
    "id": "I0QLvdnyU4dB",
    "outputId": "50445f8a-2368-408d-bb9a-24d190fe4c86"
   },
   "outputs": [
    {
     "name": "stdout",
     "output_type": "stream",
     "text": [
      "(3,) (3,)\n"
     ]
    },
    {
     "data": {
      "text/plain": [
       "()"
      ]
     },
     "execution_count": 135,
     "metadata": {},
     "output_type": "execute_result"
    }
   ],
   "source": [
    "# 12.4 np.inner() -> Inner product of two arrays.\n",
    "a = np.array([1,2,3])\n",
    "b = np.array([0,1,0])\n",
    "print(a.shape, b.shape)\n",
    "np.inner(a, b).shape #returns a scaler"
   ]
  },
  {
   "cell_type": "markdown",
   "metadata": {
    "id": "1_d4RFIBxDXb"
   },
   "source": [
    "### 13. Saving and Loading Arrays"
   ]
  },
  {
   "cell_type": "code",
   "execution_count": null,
   "metadata": {
    "colab": {
     "base_uri": "https://localhost:8080/"
    },
    "executionInfo": {
     "elapsed": 506,
     "status": "ok",
     "timestamp": 1691418290500,
     "user": {
      "displayName": "PARUL DIWAKAR",
      "userId": "06075155684481979092"
     },
     "user_tz": -330
    },
    "id": "woV8NE3wzLz-",
    "outputId": "60c9bd84-e957-44e6-d5d0-f00889325c1e"
   },
   "outputs": [
    {
     "name": "stdout",
     "output_type": "stream",
     "text": [
      "[0 1 2 3 4 5 6 7 8 9]\n"
     ]
    }
   ],
   "source": [
    "# 13.1 Save an array to a binary file in NumPy .npy format.\n",
    "x = np.arange(10)\n",
    "print(x)\n",
    "np.save(\"savedArr\", x)"
   ]
  },
  {
   "cell_type": "code",
   "execution_count": null,
   "metadata": {
    "colab": {
     "base_uri": "https://localhost:8080/"
    },
    "executionInfo": {
     "elapsed": 16,
     "status": "ok",
     "timestamp": 1691418291208,
     "user": {
      "displayName": "PARUL DIWAKAR",
      "userId": "06075155684481979092"
     },
     "user_tz": -330
    },
    "id": "QOrF_gTdX66X",
    "outputId": "6e6d1197-b0ef-4f63-ce2c-0efc59040379"
   },
   "outputs": [
    {
     "data": {
      "text/plain": [
       "array([0, 1, 2, 3, 4, 5, 6, 7, 8, 9])"
      ]
     },
     "execution_count": 142,
     "metadata": {},
     "output_type": "execute_result"
    }
   ],
   "source": [
    "# 13.2 Load an array\n",
    "np.load('savedArr.npy')"
   ]
  }
 ],
 "metadata": {
  "colab": {
   "authorship_tag": "ABX9TyPk/xk934R97nHgiKMZwdop",
   "provenance": []
  },
  "kernelspec": {
   "display_name": "Python 3 (ipykernel)",
   "language": "python",
   "name": "python3"
  },
  "language_info": {
   "codemirror_mode": {
    "name": "ipython",
    "version": 3
   },
   "file_extension": ".py",
   "mimetype": "text/x-python",
   "name": "python",
   "nbconvert_exporter": "python",
   "pygments_lexer": "ipython3",
   "version": "3.9.12"
  }
 },
 "nbformat": 4,
 "nbformat_minor": 1
}

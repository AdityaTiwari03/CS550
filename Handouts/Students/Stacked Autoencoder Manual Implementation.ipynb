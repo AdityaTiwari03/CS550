{
 "cells": [
  {
   "cell_type": "code",
   "execution_count": 1,
   "metadata": {
    "execution": {
     "iopub.status.idle": "2022-12-02T10:33:43.339557Z",
     "shell.execute_reply": "2022-12-02T10:33:43.338723Z",
     "shell.execute_reply.started": "2022-12-02T10:33:40.910916Z"
    }
   },
   "outputs": [],
   "source": [
    "#  import libraries\n",
    "import tensorflow as tf\n",
    "from tensorflow.keras.models import Sequential, Model, load_model, save_model\n",
    "from tensorflow.keras.layers import Dense, Dropout, Flatten, Conv2D, MaxPool2D, BatchNormalization, Input, concatenate\n",
    "from tensorflow.keras.preprocessing.image import ImageDataGenerator\n",
    "from tensorflow.keras.callbacks import ReduceLROnPlateau, EarlyStopping, ModelCheckpoint\n",
    "from tensorflow.keras.optimizers import Adam\n",
    "from tensorflow.keras.utils import to_categorical\n",
    "from tensorflow.keras import backend as K\n",
    "from tensorflow.keras.layers import Lambda\n",
    "from tensorflow.keras.layers import Reshape\n",
    "from tensorflow.keras.layers import Conv2DTranspose, UpSampling2D, MaxPooling2D\n",
    "\n",
    "#  import mse loss function\n",
    "from tensorflow.keras.losses import mse\n"
   ]
  },
  {
   "cell_type": "markdown",
   "metadata": {},
   "source": [
    "### What is an autoencoder?\n",
    "\n",
    "An autoencoder is a type of neural network that is used to learn efficient data codings in an unsupervised manner. The aim of an autoencoder is to learn a representation (encoding) for a set of data, typically for dimensionality reduction, by training the network to ignore signal “noise”. \n",
    "\n",
    "Autoencoders are data-specific, which means that if you train an autoencoder on one set of data, then it will not necessarily be able to reduce any other data. For this reason, they are most useful as a pre-processing step for another machine learning algorithm rather than as a standalone model.\n",
    "\n"
   ]
  },
  {
   "cell_type": "markdown",
   "metadata": {},
   "source": [
    "# STACKED AUTOENCODER"
   ]
  },
  {
   "cell_type": "markdown",
   "metadata": {},
   "source": [
    "### What is a stacked autoencoder?\n",
    "\n",
    "A stacked autoencoder have multiple hidden layers. Adding more layers to the autoencoder allows it to learn more complex representations of the input data. The first hidden layer of the autoencoder learns to extract the most basic features of the input data, and each subsequent hidden layer builds on the features learned by the previous layers. The architecture of a stacked autoencoder is symmetrical with regards to the central hidden layer. It looks like a sandwitch."
   ]
  },
  {
   "cell_type": "markdown",
   "metadata": {},
   "source": [
    "The architecture of a stacked autoencoder is typically symmetrical with regards to the\n",
    "central hidden layer (the coding layer). To put it simply, it looks like a sandwich."
   ]
  },
  {
   "cell_type": "code",
   "execution_count": 2,
   "metadata": {
    "execution": {
     "iopub.execute_input": "2022-12-02T10:33:43.341600Z",
     "iopub.status.busy": "2022-12-02T10:33:43.340896Z",
     "iopub.status.idle": "2022-12-02T10:33:43.344715Z",
     "shell.execute_reply": "2022-12-02T10:33:43.343998Z",
     "shell.execute_reply.started": "2022-12-02T10:33:43.341575Z"
    }
   },
   "outputs": [],
   "source": [
    "#  import regularizer for the convolutional layers\n",
    "from tensorflow.keras import regularizers"
   ]
  },
  {
   "cell_type": "code",
   "execution_count": null,
   "metadata": {
    "execution": {
     "iopub.execute_input": "2022-12-02T10:33:43.352014Z",
     "iopub.status.busy": "2022-12-02T10:33:43.351820Z",
     "iopub.status.idle": "2022-12-02T10:33:43.359747Z"
    }
   },
   "outputs": [],
   "source": [
    "class StackedAutoEncoder:\n",
    "\n",
    "    def __init__(self, input_dim, batch_size = 32, learning_rate = 1e-5):\n",
    "        self.input_dim = input_dim\n",
    "        self.batch_size = batch_size\n",
    "        self.learning_rate = learning_rate\n",
    "        self.model = None\n",
    "        self._build()\n",
    "\n",
    "    def _build(self):\n",
    "\n",
    "        #  input layer \n",
    "        x = Input(shape=(self.input_dim, self.input_dim, 1), name='encoder_input')\n",
    "        # Input layer is 28x28x1 (wide and high)\n",
    "\n",
    "        #  encoder\n",
    "        #  convolutional layer\n",
    "        conv1 = Conv2D(filters=32, kernel_size=(3, 3), activation='relu', padding='same')(x)\n",
    "        #  convolutional layer\n",
    "        conv2 = Conv2D(filters=64, kernel_size=(3, 3), activation='relu', padding='same')(conv1)\n",
    "        #  max pooling layer\n",
    "        pool1 = MaxPool2D(pool_size=(2, 2))(conv2)\n",
    "        #  convolutional layer\n",
    "        conv3 = Conv2D(filters=64, kernel_size=(3, 3), activation='relu', padding='same')(pool1)\n",
    "        #  convolutional layer\n",
    "        conv4 = Conv2D(filters=64, kernel_size=(3, 3), activation='relu', padding='same')(conv3)\n",
    "        #  max pooling layer\n",
    "        pool2 = MaxPool2D(pool_size=(2, 2))(conv4)\n",
    "\n",
    "\n",
    "        #  decoder\n",
    "        #  upsampling layer\n",
    "        up1 = UpSampling2D(size=(2, 2))(pool2)\n",
    "        #  convolutional layer\n",
    "        conv7 = Conv2D(filters=64, kernel_size=(3, 3), activation='relu', padding='same')(up1)\n",
    "        #  convolutional layer\n",
    "        conv8 = Conv2D(filters=64, kernel_size=(3, 3), activation='relu', padding='same')(conv7)\n",
    "        #  upsampling layer\n",
    "        up2 = UpSampling2D(size=(2, 2))(conv8)\n",
    "        #  convolutional layer\n",
    "        conv9 = Conv2D(filters=64, kernel_size=(3, 3), activation='relu', padding='same')(up2)\n",
    "        #  convolutional layer\n",
    "        conv10 = Conv2D(filters=32, kernel_size=(3, 3), activation='relu', padding='same')(conv9)\n",
    "\n",
    "        #  output layer\n",
    "        output = Conv2D(filters=1, kernel_size=(3, 3), activation='sigmoid', padding='same')(conv10)\n",
    "\n",
    "        self.model = Model(x, output)\n",
    "\n",
    "        self.model.compile(optimizer=Adam(lr=self.learning_rate), loss='mse')\n",
    "\n",
    "        self.model.summary()\n",
    "\n"
   ]
  },
  {
   "cell_type": "markdown",
   "metadata": {},
   "source": [
    "### Creating Model and Testing Them"
   ]
  },
  {
   "cell_type": "code",
   "execution_count": null,
   "metadata": {
    "execution": {
     "iopub.execute_input": "2022-12-02T10:33:43.360864Z",
     "iopub.status.busy": "2022-12-02T10:33:43.360563Z",
     "iopub.status.idle": "2022-12-02T10:33:43.785021Z"
    }
   },
   "outputs": [],
   "source": [
    "# import the data\n",
    "\n",
    "import numpy as np\n",
    "import pandas as pd\n",
    "import matplotlib.pyplot as plt\n",
    "import os\n"
   ]
  },
  {
   "cell_type": "markdown",
   "metadata": {},
   "source": [
    "### Importing Dataset"
   ]
  },
  {
   "cell_type": "code",
   "execution_count": null,
   "metadata": {
    "execution": {
     "iopub.execute_input": "2022-12-02T10:33:43.786234Z",
     "iopub.status.busy": "2022-12-02T10:33:43.785854Z",
     "iopub.status.idle": "2022-12-02T10:33:44.099830Z"
    }
   },
   "outputs": [],
   "source": [
    "# data mnsit \n",
    "\n",
    "from keras.datasets import mnist\n",
    "\n",
    "(x_train, y_train), (x_test, y_test) = mnist.load_data()\n",
    "\n",
    "x_train = x_train.astype('float32') / 255.\n",
    "\n",
    "x_test = x_test.astype('float32') / 255.\n",
    "\n",
    "x_train = np.reshape(x_train, (len(x_train), 28, 28, 1))\n",
    "\n",
    "x_test = np.reshape(x_test, (len(x_test), 28, 28, 1))\n",
    "\n"
   ]
  },
  {
   "cell_type": "code",
   "execution_count": null,
   "metadata": {
    "execution": {
     "iopub.execute_input": "2022-12-02T10:33:44.101173Z",
     "iopub.status.busy": "2022-12-02T10:33:44.100966Z",
     "iopub.status.idle": "2022-12-02T10:33:44.104980Z"
    }
   },
   "outputs": [
    {
     "name": "stdout",
     "output_type": "stream",
     "text": [
      "(60000, 28, 28, 1)\n",
      "(10000, 28, 28, 1)\n"
     ]
    }
   ],
   "source": [
    "# shape of the data\n",
    "\n",
    "print(x_train.shape)\n",
    "\n",
    "print(x_test.shape)"
   ]
  },
  {
   "cell_type": "markdown",
   "metadata": {},
   "source": [
    "Data Sampling"
   ]
  },
  {
   "cell_type": "code",
   "execution_count": null,
   "metadata": {
    "execution": {
     "iopub.execute_input": "2022-12-02T10:33:44.106562Z",
     "iopub.status.busy": "2022-12-02T10:33:44.106053Z",
     "iopub.status.idle": "2022-12-02T10:33:44.240041Z"
    }
   },
   "outputs": [],
   "source": [
    "#  stratify sample 6000 images from the training set and 100 images from the test set\n",
    "\n",
    "from sklearn.model_selection import train_test_split\n",
    "\n",
    "x_train, x_val, y_train, y_val = train_test_split(x_train, y_train, test_size=0.1, random_state=42, stratify=y_train)\n",
    "\n"
   ]
  },
  {
   "cell_type": "markdown",
   "metadata": {},
   "source": [
    "**Creating the Stacked Autoencoder**"
   ]
  },
  {
   "cell_type": "code",
   "execution_count": null,
   "metadata": {
    "execution": {
     "iopub.execute_input": "2022-12-02T10:33:44.241073Z",
     "iopub.status.busy": "2022-12-02T10:33:44.240856Z",
     "iopub.status.idle": "2022-12-02T10:33:45.398147Z"
    }
   },
   "outputs": [
    {
     "name": "stdout",
     "output_type": "stream",
     "text": [
      "Model: \"model\"\n",
      "_________________________________________________________________\n",
      " Layer (type)                Output Shape              Param #   \n",
      "=================================================================\n",
      " encoder_input (InputLayer)  [(None, 28, 28, 1)]       0         \n",
      "                                                                 \n",
      " conv2d (Conv2D)             (None, 28, 28, 32)        320       \n",
      "                                                                 \n",
      " conv2d_1 (Conv2D)           (None, 28, 28, 64)        18496     \n",
      "                                                                 \n",
      " max_pooling2d (MaxPooling2D  (None, 14, 14, 64)       0         \n",
      " )                                                               \n",
      "                                                                 \n",
      " conv2d_2 (Conv2D)           (None, 14, 14, 64)        36928     \n",
      "                                                                 \n",
      " conv2d_3 (Conv2D)           (None, 14, 14, 64)        36928     \n",
      "                                                                 \n",
      " max_pooling2d_1 (MaxPooling  (None, 7, 7, 64)         0         \n",
      " 2D)                                                             \n",
      "                                                                 \n",
      " up_sampling2d (UpSampling2D  (None, 14, 14, 64)       0         \n",
      " )                                                               \n",
      "                                                                 \n",
      " conv2d_4 (Conv2D)           (None, 14, 14, 64)        36928     \n",
      "                                                                 \n",
      " conv2d_5 (Conv2D)           (None, 14, 14, 64)        36928     \n",
      "                                                                 \n",
      " up_sampling2d_1 (UpSampling  (None, 28, 28, 64)       0         \n",
      " 2D)                                                             \n",
      "                                                                 \n",
      " conv2d_6 (Conv2D)           (None, 28, 28, 64)        36928     \n",
      "                                                                 \n",
      " conv2d_7 (Conv2D)           (None, 28, 28, 32)        18464     \n",
      "                                                                 \n",
      " conv2d_8 (Conv2D)           (None, 28, 28, 1)         289       \n",
      "                                                                 \n",
      "=================================================================\n",
      "Total params: 222,209\n",
      "Trainable params: 222,209\n",
      "Non-trainable params: 0\n",
      "_________________________________________________________________\n"
     ]
    },
    {
     "name": "stderr",
     "output_type": "stream",
     "text": [
      "/usr/local/lib/python3.9/dist-packages/keras/optimizers/optimizer_v2/adam.py:110: UserWarning: The `lr` argument is deprecated, use `learning_rate` instead.\n",
      "  super(Adam, self).__init__(name, **kwargs)\n"
     ]
    }
   ],
   "source": [
    "#  stack autoencoder\n",
    "sae = StackedAutoEncoder(input_dim=28)"
   ]
  },
  {
   "cell_type": "markdown",
   "metadata": {},
   "source": [
    "**Training the Stacked Autoencoder**"
   ]
  },
  {
   "cell_type": "code",
   "execution_count": null,
   "metadata": {
    "execution": {
     "iopub.execute_input": "2022-12-02T10:33:45.399231Z",
     "iopub.status.busy": "2022-12-02T10:33:45.398988Z",
     "iopub.status.idle": "2022-12-02T10:38:09.365611Z"
    }
   },
   "outputs": [
    {
     "name": "stdout",
     "output_type": "stream",
     "text": [
      "Epoch 1/30\n",
      "1688/1688 [==============================] - 12s 5ms/step - loss: 0.0480 - val_loss: 0.0091\n",
      "Epoch 2/30\n",
      "1688/1688 [==============================] - 9s 5ms/step - loss: 0.0069 - val_loss: 0.0056\n",
      "Epoch 3/30\n",
      "1688/1688 [==============================] - 9s 5ms/step - loss: 0.0048 - val_loss: 0.0042\n",
      "Epoch 4/30\n",
      "1688/1688 [==============================] - 9s 5ms/step - loss: 0.0038 - val_loss: 0.0034\n",
      "Epoch 5/30\n",
      "1688/1688 [==============================] - 9s 5ms/step - loss: 0.0032 - val_loss: 0.0030\n",
      "Epoch 6/30\n",
      "1688/1688 [==============================] - 9s 5ms/step - loss: 0.0028 - val_loss: 0.0027\n",
      "Epoch 7/30\n",
      "1688/1688 [==============================] - 9s 5ms/step - loss: 0.0025 - val_loss: 0.0024\n",
      "Epoch 8/30\n",
      "1688/1688 [==============================] - 9s 5ms/step - loss: 0.0023 - val_loss: 0.0023\n",
      "Epoch 9/30\n",
      "1688/1688 [==============================] - 9s 5ms/step - loss: 0.0022 - val_loss: 0.0021\n",
      "Epoch 10/30\n",
      "1688/1688 [==============================] - 9s 5ms/step - loss: 0.0021 - val_loss: 0.0020\n",
      "Epoch 11/30\n",
      "1688/1688 [==============================] - 9s 5ms/step - loss: 0.0020 - val_loss: 0.0019\n",
      "Epoch 12/30\n",
      "1688/1688 [==============================] - 9s 5ms/step - loss: 0.0019 - val_loss: 0.0018\n",
      "Epoch 13/30\n",
      "1688/1688 [==============================] - 9s 5ms/step - loss: 0.0018 - val_loss: 0.0017\n",
      "Epoch 14/30\n",
      "1688/1688 [==============================] - 9s 5ms/step - loss: 0.0017 - val_loss: 0.0017\n",
      "Epoch 15/30\n",
      "1688/1688 [==============================] - 9s 5ms/step - loss: 0.0017 - val_loss: 0.0016\n",
      "Epoch 16/30\n",
      "1688/1688 [==============================] - 9s 5ms/step - loss: 0.0016 - val_loss: 0.0016\n",
      "Epoch 17/30\n",
      "1688/1688 [==============================] - 9s 5ms/step - loss: 0.0015 - val_loss: 0.0015\n",
      "Epoch 18/30\n",
      "1688/1688 [==============================] - 9s 5ms/step - loss: 0.0015 - val_loss: 0.0015\n",
      "Epoch 19/30\n",
      "1688/1688 [==============================] - 9s 5ms/step - loss: 0.0015 - val_loss: 0.0014\n",
      "Epoch 20/30\n",
      "1688/1688 [==============================] - 9s 5ms/step - loss: 0.0014 - val_loss: 0.0014\n",
      "Epoch 21/30\n",
      "1688/1688 [==============================] - 9s 5ms/step - loss: 0.0014 - val_loss: 0.0014\n",
      "Epoch 22/30\n",
      "1688/1688 [==============================] - 9s 5ms/step - loss: 0.0013 - val_loss: 0.0013\n",
      "Epoch 23/30\n",
      "1688/1688 [==============================] - 9s 5ms/step - loss: 0.0013 - val_loss: 0.0013\n",
      "Epoch 24/30\n",
      "1688/1688 [==============================] - 9s 5ms/step - loss: 0.0013 - val_loss: 0.0013\n",
      "Epoch 25/30\n",
      "1688/1688 [==============================] - 9s 5ms/step - loss: 0.0013 - val_loss: 0.0012\n",
      "Epoch 26/30\n",
      "1688/1688 [==============================] - 9s 5ms/step - loss: 0.0012 - val_loss: 0.0012\n",
      "Epoch 27/30\n",
      "1688/1688 [==============================] - 9s 5ms/step - loss: 0.0012 - val_loss: 0.0012\n",
      "Epoch 28/30\n",
      "1688/1688 [==============================] - 9s 5ms/step - loss: 0.0012 - val_loss: 0.0012\n",
      "Epoch 29/30\n",
      "1688/1688 [==============================] - 9s 5ms/step - loss: 0.0012 - val_loss: 0.0011\n",
      "Epoch 30/30\n",
      "1688/1688 [==============================] - 9s 5ms/step - loss: 0.0011 - val_loss: 0.0011\n"
     ]
    },
    {
     "data": {
      "text/plain": [
       "<keras.callbacks.History at 0x7f97d531caf0>"
      ]
     },
     "execution_count": 9,
     "metadata": {},
     "output_type": "execute_result"
    }
   ],
   "source": [
    "#  train the model\n",
    "sae.model.fit(x_train, x_train, epochs=30, validation_data=(x_val, x_val))"
   ]
  },
  {
   "cell_type": "code",
   "execution_count": null,
   "metadata": {
    "execution": {
     "iopub.execute_input": "2022-12-02T10:38:09.366937Z",
     "iopub.status.busy": "2022-12-02T10:38:09.366326Z",
     "iopub.status.idle": "2022-12-02T10:38:10.211950Z"
    }
   },
   "outputs": [
    {
     "name": "stdout",
     "output_type": "stream",
     "text": [
      "313/313 [==============================] - 1s 2ms/step - loss: 0.0011\n"
     ]
    },
    {
     "data": {
      "text/plain": [
       "0.0011129977647215128"
      ]
     },
     "execution_count": 10,
     "metadata": {},
     "output_type": "execute_result"
    }
   ],
   "source": [
    "# Evaluating the models\n",
    "sae.model.evaluate(x_test, x_test)"
   ]
  },
  {
   "cell_type": "code",
   "execution_count": null,
   "metadata": {
    "execution": {
     "iopub.execute_input": "2022-12-02T10:38:10.214410Z",
     "iopub.status.busy": "2022-12-02T10:38:10.213690Z",
     "iopub.status.idle": "2022-12-02T10:38:10.218232Z"
    }
   },
   "outputs": [
    {
     "data": {
      "text/plain": [
       "(1, 28, 28, 1)"
      ]
     },
     "execution_count": 11,
     "metadata": {},
     "output_type": "execute_result"
    }
   ],
   "source": [
    "# test the model on random image input\n",
    "x_test = x_test.reshape(x_test.shape[0], 28, 28, 1)\n",
    "x_test = x_test[0:1]\n",
    "x_test.shape"
   ]
  },
  {
   "cell_type": "code",
   "execution_count": null,
   "metadata": {
    "execution": {
     "iopub.execute_input": "2022-12-02T10:38:10.219591Z",
     "iopub.status.busy": "2022-12-02T10:38:10.218875Z",
     "iopub.status.idle": "2022-12-02T10:38:10.539089Z"
    }
   },
   "outputs": [
    {
     "name": "stdout",
     "output_type": "stream",
     "text": [
      "1/1 [==============================] - 0s 152ms/step\n",
      "Input\n"
     ]
    },
    {
     "data": {
      "image/png": "[encoded data removed]",
      "text/plain": [
       "<Figure size 1440x288 with 1 Axes>"
      ]
     },
     "metadata": {
      "needs_background": "light"
     },
     "output_type": "display_data"
    },
    {
     "name": "stdout",
     "output_type": "stream",
     "text": [
      "Output from Stacked Auto Encoder\n"
     ]
    },
    {
     "data": {
      "image/png": "[encoded data removed]",
      "text/plain": [
       "<Figure size 1440x288 with 1 Axes>"
      ]
     },
     "metadata": {
      "needs_background": "light"
     },
     "output_type": "display_data"
    }
   ],
   "source": [
    "#  predict the output\n",
    "x_pred = sae.model.predict(x_test)\n",
    "\n",
    " # plot the input and output\n",
    "plt.figure(figsize=(20, 4))\n",
    "print(\"Input\")\n",
    "for i in range(0,1):\n",
    "    plt.imshow(x_test[i].reshape(28, 28))\n",
    "plt.show()\n",
    "\n",
    "plt.figure(figsize=(20, 4))\n",
    "print(\"Output from Stacked Auto Encoder\")\n",
    "for i in range(0,1):\n",
    "    plt.imshow(x_pred[i].reshape(28, 28))\n",
    "plt.show()"
   ]
  }
 ],
 "metadata": {
  "kernelspec": {
   "display_name": "Python 3 (ipykernel)",
   "language": "python",
   "name": "python3"
  },
  "language_info": {
   "codemirror_mode": {
    "name": "ipython",
    "version": 3
   },
   "file_extension": ".py",
   "mimetype": "text/x-python",
   "name": "python",
   "nbconvert_exporter": "python",
   "pygments_lexer": "ipython3",
   "version": "3.9.13"
  },
  "vscode": {
   "interpreter": {
    "hash": "7036f2c589e66350e558e75aef7cf6e2c2eca72d9af89a4326c4f1191cd6de16"
   }
  }
 },
 "nbformat": 4,
 "nbformat_minor": 4
}

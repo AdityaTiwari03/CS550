{
  "cells": [
    {
      "cell_type": "markdown",
      "metadata": {
        "id": "0-u9SfFtmFYe"
      },
      "source": [
        "# Reinforcement Learning Implementations"
      ]
    },
    {
      "cell_type": "markdown",
      "metadata": {
        "id": "g1vL3FlzmFYg"
      },
      "source": [
        "## Reinforcement Learning (RL): \n",
        "\n",
        "Reinforcement learning is an area of machine learning concerned with how software agents ought to take actions in an environment in order to maximize the notion of cumulative reward. Reinforcement learning is one of three basic machine learning paradigms, alongside supervised learning and unsupervised learning."
      ]
    },
    {
      "cell_type": "markdown",
      "metadata": {
        "id": "fjEiHJrxmFYg"
      },
      "source": [
        "## Immidiate RL"
      ]
    },
    {
      "cell_type": "markdown",
      "metadata": {
        "id": "7dn2Ld7dmFYg"
      },
      "source": [
        "In this type of RL, we have only one state and we have a set of possible actions. We try to find the best possible action to take in the given state.\n",
        "\n",
        "We will try to understand it using the Multi-Armed Bandit problem."
      ]
    },
    {
      "cell_type": "markdown",
      "metadata": {
        "id": "gDEEz9qjmFYh"
      },
      "source": [
        "## Multi-Armed Bandit Problem"
      ]
    },
    {
      "cell_type": "markdown",
      "metadata": {
        "id": "byAusOq0mFYh"
      },
      "source": [
        "In this problem, we have a slot machine with $k$ arms. Each arm has a different probability of giving a reward. We have to find the arm with the highest probability of giving a reward. We will try to find the best arm using the following algorithms:\n",
        "\n",
        "1. Epsilon-Greedy\n",
        "2. UCB\n",
        "3. Gradient Bandit\n"
      ]
    },
    {
      "cell_type": "markdown",
      "metadata": {
        "id": "FGjfesSnmFYh"
      },
      "source": [
        "### 1. Epsilon-Greedy"
      ]
    },
    {
      "cell_type": "markdown",
      "metadata": {
        "id": "Fp-Z8dDjmFYh"
      },
      "source": [
        "In Episilon-Greedy, we have a parameter $\\epsilon$ which is the probability of choosing a random arm. We will choose the arm with the highest average reward with probability $1-\\epsilon$.\n",
        "\n",
        "So Basically, we will choose a random arm with probability $\\epsilon$ and the best arm with probability $1-\\epsilon$. On the basis of the reward we get, we will update the estimated value of the arm."
      ]
    },
    {
      "cell_type": "markdown",
      "metadata": {
        "id": "sS22EmdLmFYi"
      },
      "source": [
        "This helps us to explore the other arms as well as compared to a standard Greedy algorithm."
      ]
    },
    {
      "cell_type": "markdown",
      "metadata": {
        "id": "odgE9FjZmFYi"
      },
      "source": [
        "We are dealing with the case of Stationary Rewards below in the code i.e. the reward probability distributions are not changing with time."
      ]
    },
    {
      "cell_type": "markdown",
      "metadata": {
        "id": "1lblKeAYmFYi"
      },
      "source": [
        "### 2. UCB\n",
        "\n",
        "In UCB, we will choose the arm with the highest Upper Confidence Bound. The Upper Confidence Bound is given by:\n",
        "\n",
        "$$UCB = \\hat{Q}(a) + c\\sqrt{\\frac{\\ln t}{N(a)}}$$\n",
        "\n",
        "where $\\hat{Q}(a)$ is the estimated value of the arm $a$, $c$ is a constant and $N(a)$ is the number of times the arm $a$ has been chosen."
      ]
    },
    {
      "cell_type": "markdown",
      "metadata": {
        "id": "OizZh2YgmFYi"
      },
      "source": [
        "UCB is introduced as it also allows exploring. It increases the drive for exploration as if an action has been explored very less number of times, the UCB value for that action would be high as the denominator would be high in the second term. It also works well for non-stationary rewards."
      ]
    },
    {
      "cell_type": "markdown",
      "metadata": {
        "id": "XAls1C8bmFYi"
      },
      "source": [
        "### 3. Gradient Bandit\n",
        "\n",
        "In Gradient Bandit, we will choose the arm with the highest probability. The probability of choosing an arm is given by:\n",
        "\n",
        "$$P(a) = \\frac{e^{\\hat{H}(a)}}{\\sum_{b}e^{\\hat{H}(b)}}$$\n",
        "\n",
        "where $\\hat{H}(a)$ is the estimated value of the arm $a$.\n",
        "\n",
        "The estimated value of the arm $a$ is updated by the following equation:\n",
        "\n",
        "$\\hat{H}(a) = \\hat{H}(a) + \\alpha(R - \\bar{R})(1 - P(a)) $ if $a$ is chosen\n",
        "\n",
        "$\\hat{H}(a) = \\hat{H}(a) - \\alpha(R - \\bar{R})P(a)$ if $a$ is not chosen\n",
        "\n",
        "where $\\alpha$ is the learning rate, $R$ is the reward obtained and $\\bar{R}$ is the average reward obtained so far for this action."
      ]
    },
    {
      "cell_type": "markdown",
      "metadata": {
        "id": "roY02NafmFYj"
      },
      "source": [
        "#### All these Algorithms have been Implemented below:"
      ]
    },
    {
      "cell_type": "markdown",
      "metadata": {
        "id": "KTp-Ty2QmFYj"
      },
      "source": [
        "**Importing Libraries**"
      ]
    },
    {
      "cell_type": "code",
      "execution_count": null,
      "metadata": {
        "id": "mASlvRSimFYj"
      },
      "outputs": [],
      "source": [
        "import numpy as np\n",
        "import matplotlib.pyplot as plt\n",
        "import pandas as pd\n",
        "import cv2\n",
        "from tqdm.notebook import tqdm\n",
        "# Ipywidgets\n",
        "import ipywidgets as widgets\n",
        "\n",
        "\n",
        "# DEFINING CONSTANTS\n",
        "NUM_STEPS = 500"
      ]
    },
    {
      "cell_type": "markdown",
      "metadata": {
        "id": "i5LlhVKbmFYk"
      },
      "source": [
        "**Defining the BANDIT Class**"
      ]
    },
    {
      "cell_type": "code",
      "execution_count": null,
      "metadata": {
        "id": "n_6szoYxmFYk"
      },
      "outputs": [],
      "source": [
        "# Class for Bandit in the Multi-Armed Bandit Problem\n",
        "class MultiArmedBandit:\n",
        "\n",
        "    def __init__(self, k, episilon=0.1, method='epsilon_greedy', c=2, alpha=0.1):\n",
        "\n",
        "        # Episilon value\n",
        "        self.episilon = episilon\n",
        "\n",
        "        # Learning rate\n",
        "        self.alpha = alpha\n",
        "\n",
        "        # Defining the number of arms\n",
        "        self.k = k\n",
        "\n",
        "        # Defining the method\n",
        "        self.method = method\n",
        "\n",
        "        # Defining the constant for UCB\n",
        "        self.c = c\n",
        "\n",
        "        # Defining the true values of the arms\n",
        "        # q_true is a vector of length k with each number explaining the mean of the probability distribution of the arm\n",
        "        # Mean values are between (-5, 5)\n",
        "        # Arms will have a variance of 1\n",
        "        self.q_true = np.random.uniform(-5, 5, k)\n",
        "\n",
        "        # Defining the estimated values of the arms\n",
        "        self.q_est = np.zeros(k)\n",
        "        \n",
        "        # Defining H for gradient method\n",
        "        self.h = np.ones(k)\n",
        "\n",
        "        # Defining the number of times each arm is pulled\n",
        "        self.action_count = np.zeros(k)\n",
        "\n",
        "    def get_reward(self, arm):\n",
        "        # Mean of arm\n",
        "        mean = self.q_true[arm]\n",
        "        # Get reward from normal distribution with mean and standard deviation 1\n",
        "        reward = np.random.normal(mean, 1)\n",
        "        return reward\n",
        "\n",
        "    # Function to pull an arm\n",
        "    def pull(self, a):\n",
        "            \n",
        "            # Pulling the arm\n",
        "            reward = self.get_reward(a)\n",
        "\n",
        "            # Updating the number of times the arm is pulled\n",
        "            self.action_count[a] += 1\n",
        "\n",
        "            # Updating the estimated value of the arm\n",
        "            self.q_est[a] = self.q_est[a] + (1/self.action_count[a])*(reward - self.q_est[a])\n",
        "\n",
        "            return reward\n",
        "    \n",
        "    # Function to choose an arm \n",
        "    def choose_arm(self, t):\n",
        "\n",
        "        method = self.method\n",
        "        \n",
        "        if method == 'epsilon_greedy':\n",
        "            # Choosing the arm with the highest estimated value\n",
        "            if np.random.random() > self.episilon:\n",
        "                return np.argmax(self.q_est)\n",
        "            # Choosing a random arm\n",
        "            else:\n",
        "                return np.random.randint(self.k)\n",
        "\n",
        "        elif method == 'greedy':\n",
        "            # Choosing the arm with the highest estimated value\n",
        "            return np.argmax(self.q_est)\n",
        "\n",
        "        elif method == 'random':\n",
        "            # Choosing a random arm\n",
        "            return np.random.randint(self.k)\n",
        "\n",
        "        elif method == 'UCB':\n",
        "            best_arm = -1\n",
        "            best_arm_value = -1\n",
        "            for arm in range(self.k):\n",
        "                arm_value = self.q_est[arm] + np.sqrt(self.c*np.log(t)/(self.action_count[arm] + 1e-5))\n",
        "                if best_arm == -1 or arm_value > best_arm_value:\n",
        "                    best_arm = arm\n",
        "                    best_arm_value = arm_value\n",
        "            return best_arm\n",
        "\n",
        "        elif method == 'gradient':\n",
        "            # Calculating the probabilities\n",
        "            probabilities = np.exp(self.h)/np.sum(np.exp(self.h))\n",
        "            # Choosing an arm\n",
        "            arm = np.random.choice(np.arange(self.k), p=probabilities)\n",
        "            return arm\n",
        "        \n",
        "        else:\n",
        "            raise Exception('Invalid method')\n",
        "\n",
        "    # Function to run the bandit problem\n",
        "    def run(self, num_steps):\n",
        "\n",
        "        # Print Current Estimates of Arms\n",
        "        print('True Values of the Arms: ', self.q_true)\n",
        "        print('Initial Estimates of the Arms: ', self.q_est)\n",
        "\n",
        "        # Defining the rewards\n",
        "        rewards = np.zeros(num_steps)\n",
        "\n",
        "        estimate_history = []\n",
        "        estimate_history.append(self.q_est.copy())\n",
        "\n",
        "        # Running the bandit problem\n",
        "        for i in range(num_steps):\n",
        "            # Choosing an arm\n",
        "            arm = self.choose_arm(i+1)\n",
        "            # Pulling the arm\n",
        "            reward = self.pull(arm)\n",
        "            # Storing the reward\n",
        "            rewards[i] = reward\n",
        "            # Storing the estimated values\n",
        "            estimate_history.append(self.q_est.copy())\n",
        "            # Gradient Method Update\n",
        "            if self.method == 'gradient':\n",
        "                for a in range(self.k):\n",
        "                    if a == arm:\n",
        "                        self.h[a] += self.alpha*(reward - self.q_est[a])*(1 - np.exp(self.h[a])/np.sum(np.exp(self.h)))\n",
        "                    else:\n",
        "                        self.h[a] -= self.alpha*(reward - self.q_est[a])*(np.exp(self.h[a])/np.sum(np.exp(self.h)))\n",
        "\n",
        "        # Print Estimated Values of Arms\n",
        "        print('Estimated Values of the Arms: ', self.q_est)\n",
        "\n",
        "        return rewards, estimate_history\n",
        "    \n",
        "    # Function to plot the rewards\n",
        "    def plot_rewards(self, rewards):\n",
        "\n",
        "        # Plotting the rewards\n",
        "        plt.plot(rewards)\n",
        "        plt.xlabel('Steps')\n",
        "        plt.ylabel('Rewards')\n",
        "        plt.title('Rewards vs Steps')\n",
        "        plt.show()\n",
        "    \n",
        "    # Function to plot the estimated values of the arms vs the true values\n",
        "    def plot_est(self):\n",
        "\n",
        "        # Plotting the estimated values\n",
        "        plt.scatter(np.arange(self.k), self.q_est, label='Estimated Values', color='red')\n",
        "        plt.plot(self.q_est, color='red')\n",
        "        # Plotting the true values as stars\n",
        "        plt.scatter(np.arange(self.k),self.q_true, label='True Mean Values of the Arms', marker='*', color='blue')\n",
        "        plt.plot(self.q_true, color='blue')\n",
        "        \n",
        "        plt.xlabel('Arms')\n",
        "        plt.ylabel('Values')\n",
        "        plt.title('Estimated Values vs True Values')\n",
        "        plt.legend()\n",
        "        plt.show()\n",
        "    \n",
        "    # Function to plot the number of times each arm is pulled\n",
        "    def plot_action_count(self):\n",
        "            \n",
        "        # Plotting the number of times each arm is pulled\n",
        "        plt.plot(self.action_count)\n",
        "        plt.xlabel('Arms')\n",
        "        plt.ylabel('Number of times each arm is pulled')\n",
        "        plt.title('Number of times each arm is pulled')\n",
        "        plt.show()\n",
        "\n",
        "    # Function to plot the cumulative rewards\n",
        "    def plot_cumulative_rewards(self, rewards):\n",
        "            \n",
        "        # Plotting the cumulative rewards\n",
        "        plt.plot(np.cumsum(rewards))\n",
        "        plt.xlabel('Steps')\n",
        "        plt.ylabel('Cumulative Rewards')\n",
        "        plt.title('Cumulative Rewards vs Steps')\n",
        "        plt.show()\n",
        "    \n",
        "    # Function to plot the average rewards\n",
        "    def plot_average_rewards(self, rewards):\n",
        "            \n",
        "        # Plotting the average rewards\n",
        "        plt.plot(np.cumsum(rewards)/(np.arange(len(rewards))+1))\n",
        "        plt.xlabel('Steps')\n",
        "        plt.ylabel('Average Rewards')\n",
        "        plt.title('Average Rewards vs Steps')\n",
        "        plt.show()"
      ]
    },
    {
      "cell_type": "markdown",
      "metadata": {
        "id": "KkAv8VDJmFYl"
      },
      "source": [
        "### **Running the Epsilon-Greedy Algorithm**"
      ]
    },
    {
      "cell_type": "code",
      "execution_count": null,
      "metadata": {
        "colab": {
          "base_uri": "https://localhost:8080/"
        },
        "id": "IIl3V81lmFYl",
        "outputId": "37de6c9a-d298-4dbf-b6dc-1183b5abb721"
      },
      "outputs": [
        {
          "output_type": "stream",
          "name": "stdout",
          "text": [
            "True Values of the Arms:  [ 1.6126572   4.15700303  1.5891937  -0.25114934  2.45219113 -0.22785279\n",
            " -4.43787569  0.13541582  3.25543006 -0.04614564]\n",
            "Initial Estimates of the Arms:  [0. 0. 0. 0. 0. 0. 0. 0. 0. 0.]\n",
            "Estimated Values of the Arms:  [ 1.52413912  4.25785095  0.80617744 -0.84732445  1.92379331 -1.63506686\n",
            " -5.31251894 -0.15988049  3.22453013 -0.07899973]\n"
          ]
        }
      ],
      "source": [
        "bandit = MultiArmedBandit(10, episilon=0.1, method='epsilon_greedy')\n",
        "rewards, estimate_history = bandit.run(NUM_STEPS)"
      ]
    },
    {
      "cell_type": "markdown",
      "metadata": {
        "id": "xymW0R5EmFYm"
      },
      "source": [
        "**Plotting the Average Rewards**"
      ]
    },
    {
      "cell_type": "code",
      "execution_count": null,
      "metadata": {
        "colab": {
          "base_uri": "https://localhost:8080/",
          "height": 295
        },
        "id": "4jK9-hjmmFYm",
        "outputId": "76d0f511-a061-4dc6-d7b0-384b7a873d0d"
      },
      "outputs": [
        {
          "output_type": "display_data",
          "data": {
            "text/plain": [
              "<Figure size 432x288 with 1 Axes>"
            ],
            "image/png": "[encoded data removed]"
          },
          "metadata": {
            "needs_background": "light"
          }
        }
      ],
      "source": [
        "bandit.plot_average_rewards(rewards)"
      ]
    },
    {
      "cell_type": "markdown",
      "metadata": {
        "id": "04akm86cmFYm"
      },
      "source": [
        "Above Graph shows convergence at the Max-Arm as the average reward converges around the reward of the max-arm."
      ]
    },
    {
      "cell_type": "markdown",
      "metadata": {
        "id": "JvtmKi0pmFYm"
      },
      "source": [
        "**Checking how close we are to finding Correct Estimations**"
      ]
    },
    {
      "cell_type": "code",
      "execution_count": null,
      "metadata": {
        "colab": {
          "base_uri": "https://localhost:8080/",
          "height": 295
        },
        "id": "mSUmdMjtmFYm",
        "outputId": "80012cfa-295b-403c-8dd6-6581ad7184b1"
      },
      "outputs": [
        {
          "output_type": "display_data",
          "data": {
            "text/plain": [
              "<Figure size 432x288 with 1 Axes>"
            ],
            "image/png": "[encoded data removed]"
          },
          "metadata": {
            "needs_background": "light"
          }
        }
      ],
      "source": [
        "bandit.plot_est()"
      ]
    },
    {
      "cell_type": "markdown",
      "metadata": {
        "id": "0dIhKiDhmFYn"
      },
      "source": [
        "This shows that we have estimated almost Correct Arm Values for all the arms."
      ]
    },
    {
      "cell_type": "markdown",
      "metadata": {
        "id": "-h_xthWMmFYn"
      },
      "source": [
        "**Using the Estimate History to visualise how our Estimations converged over time**"
      ]
    },
    {
      "cell_type": "code",
      "execution_count": null,
      "metadata": {
        "colab": {
          "base_uri": "https://localhost:8080/"
        },
        "id": "lUi3VOcMmFYn",
        "outputId": "96e90453-da6d-41a1-9592-3fb61ab01951"
      },
      "outputs": [
        {
          "output_type": "execute_result",
          "data": {
            "text/plain": [
              "501"
            ]
          },
          "metadata": {},
          "execution_count": 6
        }
      ],
      "source": [
        "len(estimate_history)"
      ]
    },
    {
      "cell_type": "code",
      "execution_count": null,
      "metadata": {
        "id": "f9IXSwpRmFYn"
      },
      "outputs": [],
      "source": [
        "# Using the Estimate History to visualise how our Estimations converged over time\n",
        "# We will use Animation to visualise this using OpenCV\n",
        "# We will use the following function to create the animation\n",
        "def create_animation(estimate_history, real_values, filename='animation.mp4', fps=30, dpi=100):\n",
        "\n",
        "    # Estimate History is a list of numpy arrays (Arrays are y-values of that Plot)\n",
        "    for i in tqdm(range(len(estimate_history)), desc='Creating Images'):\n",
        "        # Plot this using matplotlib and then savefig and then use OpenCV to read the image and then use it as a frame for the animation\n",
        "        plt.clf()\n",
        "        plt.scatter(np.arange(len(estimate_history[i])), estimate_history[i], label='Estimated Values', color='red')\n",
        "        plt.plot(estimate_history[i], color='red')\n",
        "        plt.scatter(np.arange(len(real_values)), real_values, label='True Mean Values of the Arms', marker='*', color='blue')\n",
        "        plt.plot(real_values, color='blue')\n",
        "\n",
        "        plt.xlabel('Arms')\n",
        "        plt.ylabel('Estimate VS Real')\n",
        "        plt.legend()\n",
        "\n",
        "        plt.savefig('images/frame'+str(i)+'.png')\n",
        "        plt.close()\n",
        "    \n",
        "    # Now we have all the frames saved as images\n",
        "    # We will use OpenCV to read the images and then use them as frames for the animation\n",
        "    frames = []\n",
        "    \n",
        "    for i in tqdm(range(len(estimate_history)), desc='Combining Images'):\n",
        "        frame = cv2.imread('images/frame'+str(i)+'.png')\n",
        "        frames.append(frame)\n",
        "    \n",
        "    # Now we have all the frames\n",
        "    # We will use OpenCV to create the animation\n",
        "    height, width, layers = frames[0].shape\n",
        "    size = (width,height)\n",
        "    out = cv2.VideoWriter(filename,cv2.VideoWriter_fourcc(*'DIVX'), fps, size)\n",
        "    for i in range(len(frames)):\n",
        "        out.write(frames[i])\n",
        "    out.release()\n"
      ]
    },
    {
      "cell_type": "code",
      "execution_count": null,
      "metadata": {
        "colab": {
          "base_uri": "https://localhost:8080/",
          "height": 81,
          "referenced_widgets": [
            "05ddf056aebc4c0094d1eb44959ef5ab",
            "40a6a737800a44ba90704a3808fa1c0f",
            "43e65e64415746da9b36fb1f15a9ca09",
            "bc4a8e8dba7c41a4aaf396d81115e818",
            "76c08629a0304f38b4d09711e49d96f4",
            "dda3ef7ad3d14fafaa31099ae530cc25",
            "93fde6e783de4fed97ba833ea4fdeeb9",
            "ef6fcc94eaee422ca8f3b4407d221b12",
            "4ba9a4ecde98427c866d8fc9c769bd01",
            "173d98a39c4245c8be9a743f501ee17c",
            "9852bc2be5e24e10a2c8b395fda448f4",
            "cd075c1162eb4cf1b185414ad314ce64",
            "35eca582acf74f12b1193694d3941f8d",
            "29142ecd70ac490ab9f1dc13a400532b",
            "250b23dab67149d688abc6ab974b81c5",
            "70f85ce0878345c284864b24cc19fe3b",
            "e3118e15cf034782b41737813c4ec2ac",
            "e3939d7291c645f6b84f01f0ee001c92",
            "39a0ee7909f2429ea2ec7c2806ac7092",
            "fd68591a4fb34497ada59c1a32133ad5",
            "4067727fa54c4625a0decd5f9c3268e2",
            "1a3645cf774f4a4cbce9783c6f8d02e6"
          ]
        },
        "id": "7jHZobNamFYn",
        "outputId": "b01fa170-9436-4588-da6a-99645aec288d"
      },
      "outputs": [
        {
          "output_type": "display_data",
          "data": {
            "text/plain": [
              "Creating Images:   0%|          | 0/501 [00:00<?, ?it/s]"
            ],
            "application/vnd.jupyter.widget-view+json": {
              "version_major": 2,
              "version_minor": 0,
              "model_id": "05ddf056aebc4c0094d1eb44959ef5ab"
            }
          },
          "metadata": {}
        },
        {
          "output_type": "display_data",
          "data": {
            "text/plain": [
              "Combining Images:   0%|          | 0/501 [00:00<?, ?it/s]"
            ],
            "application/vnd.jupyter.widget-view+json": {
              "version_major": 2,
              "version_minor": 0,
              "model_id": "cd075c1162eb4cf1b185414ad314ce64"
            }
          },
          "metadata": {}
        }
      ],
      "source": [
        "create_animation(estimate_history,bandit.q_true, filename='animation_e.mp4', fps=15, dpi=100)"
      ]
    },
    {
      "cell_type": "markdown",
      "metadata": {
        "id": "jhUFCErQmFYn"
      },
      "source": [
        "#### Animation has been saved in the mp4 file"
      ]
    },
    {
      "cell_type": "markdown",
      "metadata": {
        "id": "N4z4Pp4YmFYo"
      },
      "source": [
        "### **Running the UCB Algorithm**"
      ]
    },
    {
      "cell_type": "code",
      "execution_count": null,
      "metadata": {
        "colab": {
          "base_uri": "https://localhost:8080/"
        },
        "id": "M92VpabtmFYo",
        "outputId": "0ccdba32-d8d0-4bde-d320-ce91f49a9292"
      },
      "outputs": [
        {
          "output_type": "stream",
          "name": "stdout",
          "text": [
            "True Values of the Arms:  [ 2.49080079 -3.87292647 -3.00553386 -2.23833661  1.46060106 -0.17296157\n",
            "  1.78134059 -4.01987561 -1.64917859  1.4980813 ]\n",
            "Initial Estimates of the Arms:  [0. 0. 0. 0. 0. 0. 0. 0. 0. 0.]\n",
            "Estimated Values of the Arms:  [ 2.45119235 -3.08020458 -2.7318118  -4.21016009  1.75573439 -1.69270595\n",
            "  1.90235445 -5.02123531 -1.60796958  1.05983378]\n"
          ]
        }
      ],
      "source": [
        "bandit_ucb = MultiArmedBandit(10, episilon=0.1, method='UCB')\n",
        "rewards, estimate_history = bandit_ucb.run(NUM_STEPS)"
      ]
    },
    {
      "cell_type": "markdown",
      "metadata": {
        "id": "4xgRLIIfmFYo"
      },
      "source": [
        "**Plotting the Average Rewards**"
      ]
    },
    {
      "cell_type": "code",
      "execution_count": null,
      "metadata": {
        "colab": {
          "base_uri": "https://localhost:8080/",
          "height": 295
        },
        "id": "RZ_0vKMcmFYo",
        "outputId": "95a86915-00a4-459c-b996-6aff745a2010"
      },
      "outputs": [
        {
          "output_type": "display_data",
          "data": {
            "text/plain": [
              "<Figure size 432x288 with 1 Axes>"
            ],
            "image/png": "[encoded data removed]"
          },
          "metadata": {
            "needs_background": "light"
          }
        }
      ],
      "source": [
        "bandit_ucb.plot_average_rewards(rewards)"
      ]
    },
    {
      "cell_type": "markdown",
      "metadata": {
        "id": "kl8xVyw7mFYo"
      },
      "source": [
        "Above Graph shows convergence at the Max-Arm as the average reward converges around the reward of the max-arm."
      ]
    },
    {
      "cell_type": "markdown",
      "metadata": {
        "id": "rju4OUZTmFYo"
      },
      "source": [
        "**Checking how close we are to finding Correct Estimations**"
      ]
    },
    {
      "cell_type": "code",
      "execution_count": null,
      "metadata": {
        "colab": {
          "base_uri": "https://localhost:8080/",
          "height": 295
        },
        "id": "sFy7qpvgmFYo",
        "outputId": "25acc7e7-cac5-4fad-d728-8ec39e009a8f"
      },
      "outputs": [
        {
          "output_type": "display_data",
          "data": {
            "text/plain": [
              "<Figure size 432x288 with 1 Axes>"
            ],
            "image/png": "[encoded data removed]"
          },
          "metadata": {
            "needs_background": "light"
          }
        }
      ],
      "source": [
        "bandit_ucb.plot_est()"
      ]
    },
    {
      "cell_type": "markdown",
      "metadata": {
        "id": "eD9P3c0nmFYp"
      },
      "source": [
        "This shows that we have estimated almost Correct Arm Values for all the arms."
      ]
    },
    {
      "cell_type": "markdown",
      "metadata": {
        "id": "K-PmZgaTmFYp"
      },
      "source": [
        "**Using the Estimate History to visualise how our Estimations converged over time**"
      ]
    },
    {
      "cell_type": "code",
      "execution_count": null,
      "metadata": {
        "colab": {
          "base_uri": "https://localhost:8080/"
        },
        "id": "uJYjl-yqmFYp",
        "outputId": "8537f334-f73e-493e-d852-6fab93ddd110"
      },
      "outputs": [
        {
          "output_type": "execute_result",
          "data": {
            "text/plain": [
              "501"
            ]
          },
          "metadata": {},
          "execution_count": 12
        }
      ],
      "source": [
        "len(estimate_history)"
      ]
    },
    {
      "cell_type": "code",
      "execution_count": null,
      "metadata": {
        "colab": {
          "base_uri": "https://localhost:8080/",
          "height": 81,
          "referenced_widgets": [
            "893ce9a06fa6430486e3506e4ba3629f",
            "724879d69acd4abfa5bc112c8c4f0eb7",
            "f275b40ab62c469ca71e10519229fb70",
            "0dabf1a9beaa48128b960710d62a4e2d",
            "213942f3fd574211a4eb0ad0a57e89aa",
            "3fab115bfe9f4e919993f90856ca2413",
            "1e4315f27687443aa2eafeedeadfa8fa",
            "5833b7a38af94122a70b424c428be74d",
            "5e341ce7414a4d318fc7bff6bc8d04e6",
            "1ad4561fa68c46eeb236b5e505f17226",
            "4433ad4281b6419bb0e3d1792199159b",
            "6ed2ad975c124ebf8ef7ec144a48150b",
            "21cee6d33bea4ee4a8c7ebf4817d0449",
            "fec4ce3d833e4e54854b44821d209e59",
            "fabfe723538741d3b0b9d8ff3d5e26c6",
            "128d6e1024b5456a913d2d7583b7582d",
            "38c0dcba91d5463598e4eb7039a6ca9a",
            "886237be03db4b8c87734ea0023d75a1",
            "dac055c02fce414c8fa9218dae89efc6",
            "bc50d21e63f54fa2a012f0fe9e98d53f",
            "d8c5dc404a444349a8b029e1d21a094a",
            "25cfb568544042198e60b2652a52ae40"
          ]
        },
        "id": "rxZJ3jGSmFYp",
        "outputId": "fed9e6e6-ee3e-44b3-fd54-7ef4cbb1b8bf"
      },
      "outputs": [
        {
          "output_type": "display_data",
          "data": {
            "text/plain": [
              "Creating Images:   0%|          | 0/501 [00:00<?, ?it/s]"
            ],
            "application/vnd.jupyter.widget-view+json": {
              "version_major": 2,
              "version_minor": 0,
              "model_id": "893ce9a06fa6430486e3506e4ba3629f"
            }
          },
          "metadata": {}
        },
        {
          "output_type": "display_data",
          "data": {
            "text/plain": [
              "Combining Images:   0%|          | 0/501 [00:00<?, ?it/s]"
            ],
            "application/vnd.jupyter.widget-view+json": {
              "version_major": 2,
              "version_minor": 0,
              "model_id": "6ed2ad975c124ebf8ef7ec144a48150b"
            }
          },
          "metadata": {}
        }
      ],
      "source": [
        "create_animation(estimate_history,bandit_ucb.q_true, filename='animation_ucb.mp4', fps=15, dpi=100)"
      ]
    },
    {
      "cell_type": "markdown",
      "metadata": {
        "id": "_7PbyamxmFYp"
      },
      "source": [
        "#### Animation has been saved in the mp4 file"
      ]
    },
    {
      "cell_type": "markdown",
      "metadata": {
        "id": "zKp9rPcQmFYp"
      },
      "source": [
        "### **Running the Gradient Bandit Algorithm**"
      ]
    },
    {
      "cell_type": "code",
      "execution_count": null,
      "metadata": {
        "colab": {
          "base_uri": "https://localhost:8080/"
        },
        "id": "wNdq6HWxmFYp",
        "outputId": "522d480b-35a0-4f3a-be3d-70fbcaa36ba6"
      },
      "outputs": [
        {
          "output_type": "stream",
          "name": "stdout",
          "text": [
            "True Values of the Arms:  [-0.39087773 -0.93391521  0.91491005  4.6081648   1.92682055 -1.97698689\n",
            "  1.7559199   3.79643882 -4.9598888   1.9953117 ]\n",
            "Initial Estimates of the Arms:  [0. 0. 0. 0. 0. 0. 0. 0. 0. 0.]\n",
            "Estimated Values of the Arms:  [-1.19273136 -0.83488078  0.53778296  4.55710994  1.95492694 -1.57333324\n",
            "  0.78343679  3.6624493  -5.14105524  2.07593132]\n"
          ]
        }
      ],
      "source": [
        "bandit_grad = MultiArmedBandit(10, alpha=0.1, method='gradient')\n",
        "rewards, estimate_history = bandit_grad.run(NUM_STEPS)"
      ]
    },
    {
      "cell_type": "markdown",
      "metadata": {
        "id": "x3dhOJmcmFYq"
      },
      "source": [
        "**Plotting the Average Rewards**"
      ]
    },
    {
      "cell_type": "code",
      "execution_count": null,
      "metadata": {
        "colab": {
          "base_uri": "https://localhost:8080/",
          "height": 295
        },
        "id": "SmOEBontmFYq",
        "outputId": "d67b04be-ca04-4dee-ba2e-146dd8544594"
      },
      "outputs": [
        {
          "output_type": "display_data",
          "data": {
            "text/plain": [
              "<Figure size 432x288 with 1 Axes>"
            ],
            "image/png": "[encoded data removed]"
          },
          "metadata": {
            "needs_background": "light"
          }
        }
      ],
      "source": [
        "bandit_grad.plot_average_rewards(rewards)"
      ]
    },
    {
      "cell_type": "markdown",
      "metadata": {
        "id": "CzESun1TmFYq"
      },
      "source": [
        "Above Graph shows convergence at the Max-Arm as the average reward converges around the reward of the max-arm."
      ]
    },
    {
      "cell_type": "markdown",
      "metadata": {
        "id": "5OAaSoWPmFYq"
      },
      "source": [
        "**Checking how close we are to finding Correct Estimations**"
      ]
    },
    {
      "cell_type": "code",
      "execution_count": null,
      "metadata": {
        "colab": {
          "base_uri": "https://localhost:8080/",
          "height": 295
        },
        "id": "zKIFOnQsmFYq",
        "outputId": "a19cb726-a5b8-4d98-81b2-4d6f19d5a4ad"
      },
      "outputs": [
        {
          "output_type": "display_data",
          "data": {
            "text/plain": [
              "<Figure size 432x288 with 1 Axes>"
            ],
            "image/png": "[encoded data removed]"
          },
          "metadata": {
            "needs_background": "light"
          }
        }
      ],
      "source": [
        "bandit_grad.plot_est()"
      ]
    },
    {
      "cell_type": "markdown",
      "metadata": {
        "id": "3aZ_31WrmFYq"
      },
      "source": [
        "This shows that we have estimated almost Correct Arm Values for all the arms."
      ]
    },
    {
      "cell_type": "markdown",
      "metadata": {
        "id": "36qCHoOumFYq"
      },
      "source": [
        "**Using the Estimate History to visualise how our Estimations converged over time**"
      ]
    },
    {
      "cell_type": "code",
      "execution_count": null,
      "metadata": {
        "colab": {
          "base_uri": "https://localhost:8080/"
        },
        "id": "W6RTAlWTmFYr",
        "outputId": "e2ec0315-5f11-427b-b12b-7a28be8d5870"
      },
      "outputs": [
        {
          "output_type": "execute_result",
          "data": {
            "text/plain": [
              "501"
            ]
          },
          "metadata": {},
          "execution_count": 17
        }
      ],
      "source": [
        "len(estimate_history)"
      ]
    },
    {
      "cell_type": "code",
      "execution_count": null,
      "metadata": {
        "colab": {
          "base_uri": "https://localhost:8080/",
          "height": 81,
          "referenced_widgets": [
            "705548b17eb34a42a4ecdb2867e10966",
            "d25f32feecd44a98bf5e4b2e822f0c4d",
            "abac38dc343149fa9a219da68650fa2e",
            "e9f011e220bf4a79b0b61429f5a32306",
            "94f4240a7d3a40f88234ecf8ab1a7d7f",
            "27136f6efc9a4f8ca10d804eacd8f24c",
            "e8bac7d8dab64b69b920da6f4cae8804",
            "91c102cde7534a88b73795e8b4959fd3",
            "ae19873f5eb043b2b2c0231fdb61a7a5",
            "f277433733d54d1ba95ed4d174cdd716",
            "6c04e23be7c64400a7b170aa20607d9b",
            "8aa481d18cde4a2d9923c0e7e773c2cd",
            "14291c8fa6df4f4ca938a80c9d165e0a",
            "6d21f456c15e4167bf3ac91ba82ee481",
            "7450b5f3d5f949c5805d20087cdaa110",
            "86dc7529b20d4dd6abde7ced2cc4f61c",
            "87372ff8f58a4c689e6417d598bf1250",
            "6148c7ff9caf45a5bde220f870cc604f",
            "dc1cff69de32416eaaeea787e77a3cad",
            "ae5d2da7096a412ca1c3f6263dd05e51",
            "129336b6957947c081efdee5f7d75ccf",
            "06103d7a19cd4e4a887832356a4f2d13"
          ]
        },
        "id": "jvKZ4Wf-mFYr",
        "outputId": "26ab5d22-fcf6-426b-dd8f-600dee55c4dd"
      },
      "outputs": [
        {
          "output_type": "display_data",
          "data": {
            "text/plain": [
              "Creating Images:   0%|          | 0/501 [00:00<?, ?it/s]"
            ],
            "application/vnd.jupyter.widget-view+json": {
              "version_major": 2,
              "version_minor": 0,
              "model_id": "705548b17eb34a42a4ecdb2867e10966"
            }
          },
          "metadata": {}
        },
        {
          "output_type": "display_data",
          "data": {
            "text/plain": [
              "Combining Images:   0%|          | 0/501 [00:00<?, ?it/s]"
            ],
            "application/vnd.jupyter.widget-view+json": {
              "version_major": 2,
              "version_minor": 0,
              "model_id": "8aa481d18cde4a2d9923c0e7e773c2cd"
            }
          },
          "metadata": {}
        }
      ],
      "source": [
        "create_animation(estimate_history,bandit_grad.q_true, filename='animation_grad.mp4', fps=15, dpi=100)"
      ]
    },
    {
      "cell_type": "markdown",
      "metadata": {
        "id": "n6zeRJwGmFYr"
      },
      "source": [
        "#### Animation has been saved in the mp4 file"
      ]
    }
  ],
  "metadata": {
    "kernelspec": {
      "display_name": "Python 3.9.12 ('evn': venv)",
      "language": "python",
      "name": "python3"
    },
    "language_info": {
      "codemirror_mode": {
        "name": "ipython",
        "version": 3
      },
      "file_extension": ".py",
      "mimetype": "text/x-python",
      "name": "python",
      "nbconvert_exporter": "python",
      "pygments_lexer": "ipython3",
      "version": "3.9.12"
    },
    "orig_nbformat": 4,
    "vscode": {
      "interpreter": {
        "hash": "7036f2c589e66350e558e75aef7cf6e2c2eca72d9af89a4326c4f1191cd6de16"
      }
    },
    "colab": {
      "provenance": []
    },
    "widgets": {
      "application/vnd.jupyter.widget-state+json": {
        "05ddf056aebc4c0094d1eb44959ef5ab": {
          "model_module": "@jupyter-widgets/controls",
          "model_name": "HBoxModel",
          "model_module_version": "1.5.0",
          "state": {
            "_dom_classes": [],
            "_model_module": "@jupyter-widgets/controls",
            "_model_module_version": "1.5.0",
            "_model_name": "HBoxModel",
            "_view_count": null,
            "_view_module": "@jupyter-widgets/controls",
            "_view_module_version": "1.5.0",
            "_view_name": "HBoxView",
            "box_style": "",
            "children": [
              "IPY_MODEL_40a6a737800a44ba90704a3808fa1c0f",
              "IPY_MODEL_43e65e64415746da9b36fb1f15a9ca09",
              "IPY_MODEL_bc4a8e8dba7c41a4aaf396d81115e818"
            ],
            "layout": "IPY_MODEL_76c08629a0304f38b4d09711e49d96f4"
          }
        },
        "40a6a737800a44ba90704a3808fa1c0f": {
          "model_module": "@jupyter-widgets/controls",
          "model_name": "HTMLModel",
          "model_module_version": "1.5.0",
          "state": {
            "_dom_classes": [],
            "_model_module": "@jupyter-widgets/controls",
            "_model_module_version": "1.5.0",
            "_model_name": "HTMLModel",
            "_view_count": null,
            "_view_module": "@jupyter-widgets/controls",
            "_view_module_version": "1.5.0",
            "_view_name": "HTMLView",
            "description": "",
            "description_tooltip": null,
            "layout": "IPY_MODEL_dda3ef7ad3d14fafaa31099ae530cc25",
            "placeholder": "​",
            "style": "IPY_MODEL_93fde6e783de4fed97ba833ea4fdeeb9",
            "value": "Creating Images: 100%"
          }
        },
        "43e65e64415746da9b36fb1f15a9ca09": {
          "model_module": "@jupyter-widgets/controls",
          "model_name": "FloatProgressModel",
          "model_module_version": "1.5.0",
          "state": {
            "_dom_classes": [],
            "_model_module": "@jupyter-widgets/controls",
            "_model_module_version": "1.5.0",
            "_model_name": "FloatProgressModel",
            "_view_count": null,
            "_view_module": "@jupyter-widgets/controls",
            "_view_module_version": "1.5.0",
            "_view_name": "ProgressView",
            "bar_style": "success",
            "description": "",
            "description_tooltip": null,
            "layout": "IPY_MODEL_ef6fcc94eaee422ca8f3b4407d221b12",
            "max": 501,
            "min": 0,
            "orientation": "horizontal",
            "style": "IPY_MODEL_4ba9a4ecde98427c866d8fc9c769bd01",
            "value": 501
          }
        },
        "bc4a8e8dba7c41a4aaf396d81115e818": {
          "model_module": "@jupyter-widgets/controls",
          "model_name": "HTMLModel",
          "model_module_version": "1.5.0",
          "state": {
            "_dom_classes": [],
            "_model_module": "@jupyter-widgets/controls",
            "_model_module_version": "1.5.0",
            "_model_name": "HTMLModel",
            "_view_count": null,
            "_view_module": "@jupyter-widgets/controls",
            "_view_module_version": "1.5.0",
            "_view_name": "HTMLView",
            "description": "",
            "description_tooltip": null,
            "layout": "IPY_MODEL_173d98a39c4245c8be9a743f501ee17c",
            "placeholder": "​",
            "style": "IPY_MODEL_9852bc2be5e24e10a2c8b395fda448f4",
            "value": " 501/501 [01:01&lt;00:00,  8.62it/s]"
          }
        },
        "76c08629a0304f38b4d09711e49d96f4": {
          "model_module": "@jupyter-widgets/base",
          "model_name": "LayoutModel",
          "model_module_version": "1.2.0",
          "state": {
            "_model_module": "@jupyter-widgets/base",
            "_model_module_version": "1.2.0",
            "_model_name": "LayoutModel",
            "_view_count": null,
            "_view_module": "@jupyter-widgets/base",
            "_view_module_version": "1.2.0",
            "_view_name": "LayoutView",
            "align_content": null,
            "align_items": null,
            "align_self": null,
            "border": null,
            "bottom": null,
            "display": null,
            "flex": null,
            "flex_flow": null,
            "grid_area": null,
            "grid_auto_columns": null,
            "grid_auto_flow": null,
            "grid_auto_rows": null,
            "grid_column": null,
            "grid_gap": null,
            "grid_row": null,
            "grid_template_areas": null,
            "grid_template_columns": null,
            "grid_template_rows": null,
            "height": null,
            "justify_content": null,
            "justify_items": null,
            "left": null,
            "margin": null,
            "max_height": null,
            "max_width": null,
            "min_height": null,
            "min_width": null,
            "object_fit": null,
            "object_position": null,
            "order": null,
            "overflow": null,
            "overflow_x": null,
            "overflow_y": null,
            "padding": null,
            "right": null,
            "top": null,
            "visibility": null,
            "width": null
          }
        },
        "dda3ef7ad3d14fafaa31099ae530cc25": {
          "model_module": "@jupyter-widgets/base",
          "model_name": "LayoutModel",
          "model_module_version": "1.2.0",
          "state": {
            "_model_module": "@jupyter-widgets/base",
            "_model_module_version": "1.2.0",
            "_model_name": "LayoutModel",
            "_view_count": null,
            "_view_module": "@jupyter-widgets/base",
            "_view_module_version": "1.2.0",
            "_view_name": "LayoutView",
            "align_content": null,
            "align_items": null,
            "align_self": null,
            "border": null,
            "bottom": null,
            "display": null,
            "flex": null,
            "flex_flow": null,
            "grid_area": null,
            "grid_auto_columns": null,
            "grid_auto_flow": null,
            "grid_auto_rows": null,
            "grid_column": null,
            "grid_gap": null,
            "grid_row": null,
            "grid_template_areas": null,
            "grid_template_columns": null,
            "grid_template_rows": null,
            "height": null,
            "justify_content": null,
            "justify_items": null,
            "left": null,
            "margin": null,
            "max_height": null,
            "max_width": null,
            "min_height": null,
            "min_width": null,
            "object_fit": null,
            "object_position": null,
            "order": null,
            "overflow": null,
            "overflow_x": null,
            "overflow_y": null,
            "padding": null,
            "right": null,
            "top": null,
            "visibility": null,
            "width": null
          }
        },
        "93fde6e783de4fed97ba833ea4fdeeb9": {
          "model_module": "@jupyter-widgets/controls",
          "model_name": "DescriptionStyleModel",
          "model_module_version": "1.5.0",
          "state": {
            "_model_module": "@jupyter-widgets/controls",
            "_model_module_version": "1.5.0",
            "_model_name": "DescriptionStyleModel",
            "_view_count": null,
            "_view_module": "@jupyter-widgets/base",
            "_view_module_version": "1.2.0",
            "_view_name": "StyleView",
            "description_width": ""
          }
        },
        "ef6fcc94eaee422ca8f3b4407d221b12": {
          "model_module": "@jupyter-widgets/base",
          "model_name": "LayoutModel",
          "model_module_version": "1.2.0",
          "state": {
            "_model_module": "@jupyter-widgets/base",
            "_model_module_version": "1.2.0",
            "_model_name": "LayoutModel",
            "_view_count": null,
            "_view_module": "@jupyter-widgets/base",
            "_view_module_version": "1.2.0",
            "_view_name": "LayoutView",
            "align_content": null,
            "align_items": null,
            "align_self": null,
            "border": null,
            "bottom": null,
            "display": null,
            "flex": null,
            "flex_flow": null,
            "grid_area": null,
            "grid_auto_columns": null,
            "grid_auto_flow": null,
            "grid_auto_rows": null,
            "grid_column": null,
            "grid_gap": null,
            "grid_row": null,
            "grid_template_areas": null,
            "grid_template_columns": null,
            "grid_template_rows": null,
            "height": null,
            "justify_content": null,
            "justify_items": null,
            "left": null,
            "margin": null,
            "max_height": null,
            "max_width": null,
            "min_height": null,
            "min_width": null,
            "object_fit": null,
            "object_position": null,
            "order": null,
            "overflow": null,
            "overflow_x": null,
            "overflow_y": null,
            "padding": null,
            "right": null,
            "top": null,
            "visibility": null,
            "width": null
          }
        },
        "4ba9a4ecde98427c866d8fc9c769bd01": {
          "model_module": "@jupyter-widgets/controls",
          "model_name": "ProgressStyleModel",
          "model_module_version": "1.5.0",
          "state": {
            "_model_module": "@jupyter-widgets/controls",
            "_model_module_version": "1.5.0",
            "_model_name": "ProgressStyleModel",
            "_view_count": null,
            "_view_module": "@jupyter-widgets/base",
            "_view_module_version": "1.2.0",
            "_view_name": "StyleView",
            "bar_color": null,
            "description_width": ""
          }
        },
        "173d98a39c4245c8be9a743f501ee17c": {
          "model_module": "@jupyter-widgets/base",
          "model_name": "LayoutModel",
          "model_module_version": "1.2.0",
          "state": {
            "_model_module": "@jupyter-widgets/base",
            "_model_module_version": "1.2.0",
            "_model_name": "LayoutModel",
            "_view_count": null,
            "_view_module": "@jupyter-widgets/base",
            "_view_module_version": "1.2.0",
            "_view_name": "LayoutView",
            "align_content": null,
            "align_items": null,
            "align_self": null,
            "border": null,
            "bottom": null,
            "display": null,
            "flex": null,
            "flex_flow": null,
            "grid_area": null,
            "grid_auto_columns": null,
            "grid_auto_flow": null,
            "grid_auto_rows": null,
            "grid_column": null,
            "grid_gap": null,
            "grid_row": null,
            "grid_template_areas": null,
            "grid_template_columns": null,
            "grid_template_rows": null,
            "height": null,
            "justify_content": null,
            "justify_items": null,
            "left": null,
            "margin": null,
            "max_height": null,
            "max_width": null,
            "min_height": null,
            "min_width": null,
            "object_fit": null,
            "object_position": null,
            "order": null,
            "overflow": null,
            "overflow_x": null,
            "overflow_y": null,
            "padding": null,
            "right": null,
            "top": null,
            "visibility": null,
            "width": null
          }
        },
        "9852bc2be5e24e10a2c8b395fda448f4": {
          "model_module": "@jupyter-widgets/controls",
          "model_name": "DescriptionStyleModel",
          "model_module_version": "1.5.0",
          "state": {
            "_model_module": "@jupyter-widgets/controls",
            "_model_module_version": "1.5.0",
            "_model_name": "DescriptionStyleModel",
            "_view_count": null,
            "_view_module": "@jupyter-widgets/base",
            "_view_module_version": "1.2.0",
            "_view_name": "StyleView",
            "description_width": ""
          }
        },
        "cd075c1162eb4cf1b185414ad314ce64": {
          "model_module": "@jupyter-widgets/controls",
          "model_name": "HBoxModel",
          "model_module_version": "1.5.0",
          "state": {
            "_dom_classes": [],
            "_model_module": "@jupyter-widgets/controls",
            "_model_module_version": "1.5.0",
            "_model_name": "HBoxModel",
            "_view_count": null,
            "_view_module": "@jupyter-widgets/controls",
            "_view_module_version": "1.5.0",
            "_view_name": "HBoxView",
            "box_style": "",
            "children": [
              "IPY_MODEL_35eca582acf74f12b1193694d3941f8d",
              "IPY_MODEL_29142ecd70ac490ab9f1dc13a400532b",
              "IPY_MODEL_250b23dab67149d688abc6ab974b81c5"
            ],
            "layout": "IPY_MODEL_70f85ce0878345c284864b24cc19fe3b"
          }
        },
        "35eca582acf74f12b1193694d3941f8d": {
          "model_module": "@jupyter-widgets/controls",
          "model_name": "HTMLModel",
          "model_module_version": "1.5.0",
          "state": {
            "_dom_classes": [],
            "_model_module": "@jupyter-widgets/controls",
            "_model_module_version": "1.5.0",
            "_model_name": "HTMLModel",
            "_view_count": null,
            "_view_module": "@jupyter-widgets/controls",
            "_view_module_version": "1.5.0",
            "_view_name": "HTMLView",
            "description": "",
            "description_tooltip": null,
            "layout": "IPY_MODEL_e3118e15cf034782b41737813c4ec2ac",
            "placeholder": "​",
            "style": "IPY_MODEL_e3939d7291c645f6b84f01f0ee001c92",
            "value": "Combining Images: 100%"
          }
        },
        "29142ecd70ac490ab9f1dc13a400532b": {
          "model_module": "@jupyter-widgets/controls",
          "model_name": "FloatProgressModel",
          "model_module_version": "1.5.0",
          "state": {
            "_dom_classes": [],
            "_model_module": "@jupyter-widgets/controls",
            "_model_module_version": "1.5.0",
            "_model_name": "FloatProgressModel",
            "_view_count": null,
            "_view_module": "@jupyter-widgets/controls",
            "_view_module_version": "1.5.0",
            "_view_name": "ProgressView",
            "bar_style": "success",
            "description": "",
            "description_tooltip": null,
            "layout": "IPY_MODEL_39a0ee7909f2429ea2ec7c2806ac7092",
            "max": 501,
            "min": 0,
            "orientation": "horizontal",
            "style": "IPY_MODEL_fd68591a4fb34497ada59c1a32133ad5",
            "value": 501
          }
        },
        "250b23dab67149d688abc6ab974b81c5": {
          "model_module": "@jupyter-widgets/controls",
          "model_name": "HTMLModel",
          "model_module_version": "1.5.0",
          "state": {
            "_dom_classes": [],
            "_model_module": "@jupyter-widgets/controls",
            "_model_module_version": "1.5.0",
            "_model_name": "HTMLModel",
            "_view_count": null,
            "_view_module": "@jupyter-widgets/controls",
            "_view_module_version": "1.5.0",
            "_view_name": "HTMLView",
            "description": "",
            "description_tooltip": null,
            "layout": "IPY_MODEL_4067727fa54c4625a0decd5f9c3268e2",
            "placeholder": "​",
            "style": "IPY_MODEL_1a3645cf774f4a4cbce9783c6f8d02e6",
            "value": " 501/501 [00:01&lt;00:00, 276.34it/s]"
          }
        },
        "70f85ce0878345c284864b24cc19fe3b": {
          "model_module": "@jupyter-widgets/base",
          "model_name": "LayoutModel",
          "model_module_version": "1.2.0",
          "state": {
            "_model_module": "@jupyter-widgets/base",
            "_model_module_version": "1.2.0",
            "_model_name": "LayoutModel",
            "_view_count": null,
            "_view_module": "@jupyter-widgets/base",
            "_view_module_version": "1.2.0",
            "_view_name": "LayoutView",
            "align_content": null,
            "align_items": null,
            "align_self": null,
            "border": null,
            "bottom": null,
            "display": null,
            "flex": null,
            "flex_flow": null,
            "grid_area": null,
            "grid_auto_columns": null,
            "grid_auto_flow": null,
            "grid_auto_rows": null,
            "grid_column": null,
            "grid_gap": null,
            "grid_row": null,
            "grid_template_areas": null,
            "grid_template_columns": null,
            "grid_template_rows": null,
            "height": null,
            "justify_content": null,
            "justify_items": null,
            "left": null,
            "margin": null,
            "max_height": null,
            "max_width": null,
            "min_height": null,
            "min_width": null,
            "object_fit": null,
            "object_position": null,
            "order": null,
            "overflow": null,
            "overflow_x": null,
            "overflow_y": null,
            "padding": null,
            "right": null,
            "top": null,
            "visibility": null,
            "width": null
          }
        },
        "e3118e15cf034782b41737813c4ec2ac": {
          "model_module": "@jupyter-widgets/base",
          "model_name": "LayoutModel",
          "model_module_version": "1.2.0",
          "state": {
            "_model_module": "@jupyter-widgets/base",
            "_model_module_version": "1.2.0",
            "_model_name": "LayoutModel",
            "_view_count": null,
            "_view_module": "@jupyter-widgets/base",
            "_view_module_version": "1.2.0",
            "_view_name": "LayoutView",
            "align_content": null,
            "align_items": null,
            "align_self": null,
            "border": null,
            "bottom": null,
            "display": null,
            "flex": null,
            "flex_flow": null,
            "grid_area": null,
            "grid_auto_columns": null,
            "grid_auto_flow": null,
            "grid_auto_rows": null,
            "grid_column": null,
            "grid_gap": null,
            "grid_row": null,
            "grid_template_areas": null,
            "grid_template_columns": null,
            "grid_template_rows": null,
            "height": null,
            "justify_content": null,
            "justify_items": null,
            "left": null,
            "margin": null,
            "max_height": null,
            "max_width": null,
            "min_height": null,
            "min_width": null,
            "object_fit": null,
            "object_position": null,
            "order": null,
            "overflow": null,
            "overflow_x": null,
            "overflow_y": null,
            "padding": null,
            "right": null,
            "top": null,
            "visibility": null,
            "width": null
          }
        },
        "e3939d7291c645f6b84f01f0ee001c92": {
          "model_module": "@jupyter-widgets/controls",
          "model_name": "DescriptionStyleModel",
          "model_module_version": "1.5.0",
          "state": {
            "_model_module": "@jupyter-widgets/controls",
            "_model_module_version": "1.5.0",
            "_model_name": "DescriptionStyleModel",
            "_view_count": null,
            "_view_module": "@jupyter-widgets/base",
            "_view_module_version": "1.2.0",
            "_view_name": "StyleView",
            "description_width": ""
          }
        },
        "39a0ee7909f2429ea2ec7c2806ac7092": {
          "model_module": "@jupyter-widgets/base",
          "model_name": "LayoutModel",
          "model_module_version": "1.2.0",
          "state": {
            "_model_module": "@jupyter-widgets/base",
            "_model_module_version": "1.2.0",
            "_model_name": "LayoutModel",
            "_view_count": null,
            "_view_module": "@jupyter-widgets/base",
            "_view_module_version": "1.2.0",
            "_view_name": "LayoutView",
            "align_content": null,
            "align_items": null,
            "align_self": null,
            "border": null,
            "bottom": null,
            "display": null,
            "flex": null,
            "flex_flow": null,
            "grid_area": null,
            "grid_auto_columns": null,
            "grid_auto_flow": null,
            "grid_auto_rows": null,
            "grid_column": null,
            "grid_gap": null,
            "grid_row": null,
            "grid_template_areas": null,
            "grid_template_columns": null,
            "grid_template_rows": null,
            "height": null,
            "justify_content": null,
            "justify_items": null,
            "left": null,
            "margin": null,
            "max_height": null,
            "max_width": null,
            "min_height": null,
            "min_width": null,
            "object_fit": null,
            "object_position": null,
            "order": null,
            "overflow": null,
            "overflow_x": null,
            "overflow_y": null,
            "padding": null,
            "right": null,
            "top": null,
            "visibility": null,
            "width": null
          }
        },
        "fd68591a4fb34497ada59c1a32133ad5": {
          "model_module": "@jupyter-widgets/controls",
          "model_name": "ProgressStyleModel",
          "model_module_version": "1.5.0",
          "state": {
            "_model_module": "@jupyter-widgets/controls",
            "_model_module_version": "1.5.0",
            "_model_name": "ProgressStyleModel",
            "_view_count": null,
            "_view_module": "@jupyter-widgets/base",
            "_view_module_version": "1.2.0",
            "_view_name": "StyleView",
            "bar_color": null,
            "description_width": ""
          }
        },
        "4067727fa54c4625a0decd5f9c3268e2": {
          "model_module": "@jupyter-widgets/base",
          "model_name": "LayoutModel",
          "model_module_version": "1.2.0",
          "state": {
            "_model_module": "@jupyter-widgets/base",
            "_model_module_version": "1.2.0",
            "_model_name": "LayoutModel",
            "_view_count": null,
            "_view_module": "@jupyter-widgets/base",
            "_view_module_version": "1.2.0",
            "_view_name": "LayoutView",
            "align_content": null,
            "align_items": null,
            "align_self": null,
            "border": null,
            "bottom": null,
            "display": null,
            "flex": null,
            "flex_flow": null,
            "grid_area": null,
            "grid_auto_columns": null,
            "grid_auto_flow": null,
            "grid_auto_rows": null,
            "grid_column": null,
            "grid_gap": null,
            "grid_row": null,
            "grid_template_areas": null,
            "grid_template_columns": null,
            "grid_template_rows": null,
            "height": null,
            "justify_content": null,
            "justify_items": null,
            "left": null,
            "margin": null,
            "max_height": null,
            "max_width": null,
            "min_height": null,
            "min_width": null,
            "object_fit": null,
            "object_position": null,
            "order": null,
            "overflow": null,
            "overflow_x": null,
            "overflow_y": null,
            "padding": null,
            "right": null,
            "top": null,
            "visibility": null,
            "width": null
          }
        },
        "1a3645cf774f4a4cbce9783c6f8d02e6": {
          "model_module": "@jupyter-widgets/controls",
          "model_name": "DescriptionStyleModel",
          "model_module_version": "1.5.0",
          "state": {
            "_model_module": "@jupyter-widgets/controls",
            "_model_module_version": "1.5.0",
            "_model_name": "DescriptionStyleModel",
            "_view_count": null,
            "_view_module": "@jupyter-widgets/base",
            "_view_module_version": "1.2.0",
            "_view_name": "StyleView",
            "description_width": ""
          }
        },
        "893ce9a06fa6430486e3506e4ba3629f": {
          "model_module": "@jupyter-widgets/controls",
          "model_name": "HBoxModel",
          "model_module_version": "1.5.0",
          "state": {
            "_dom_classes": [],
            "_model_module": "@jupyter-widgets/controls",
            "_model_module_version": "1.5.0",
            "_model_name": "HBoxModel",
            "_view_count": null,
            "_view_module": "@jupyter-widgets/controls",
            "_view_module_version": "1.5.0",
            "_view_name": "HBoxView",
            "box_style": "",
            "children": [
              "IPY_MODEL_724879d69acd4abfa5bc112c8c4f0eb7",
              "IPY_MODEL_f275b40ab62c469ca71e10519229fb70",
              "IPY_MODEL_0dabf1a9beaa48128b960710d62a4e2d"
            ],
            "layout": "IPY_MODEL_213942f3fd574211a4eb0ad0a57e89aa"
          }
        },
        "724879d69acd4abfa5bc112c8c4f0eb7": {
          "model_module": "@jupyter-widgets/controls",
          "model_name": "HTMLModel",
          "model_module_version": "1.5.0",
          "state": {
            "_dom_classes": [],
            "_model_module": "@jupyter-widgets/controls",
            "_model_module_version": "1.5.0",
            "_model_name": "HTMLModel",
            "_view_count": null,
            "_view_module": "@jupyter-widgets/controls",
            "_view_module_version": "1.5.0",
            "_view_name": "HTMLView",
            "description": "",
            "description_tooltip": null,
            "layout": "IPY_MODEL_3fab115bfe9f4e919993f90856ca2413",
            "placeholder": "​",
            "style": "IPY_MODEL_1e4315f27687443aa2eafeedeadfa8fa",
            "value": "Creating Images: 100%"
          }
        },
        "f275b40ab62c469ca71e10519229fb70": {
          "model_module": "@jupyter-widgets/controls",
          "model_name": "FloatProgressModel",
          "model_module_version": "1.5.0",
          "state": {
            "_dom_classes": [],
            "_model_module": "@jupyter-widgets/controls",
            "_model_module_version": "1.5.0",
            "_model_name": "FloatProgressModel",
            "_view_count": null,
            "_view_module": "@jupyter-widgets/controls",
            "_view_module_version": "1.5.0",
            "_view_name": "ProgressView",
            "bar_style": "success",
            "description": "",
            "description_tooltip": null,
            "layout": "IPY_MODEL_5833b7a38af94122a70b424c428be74d",
            "max": 501,
            "min": 0,
            "orientation": "horizontal",
            "style": "IPY_MODEL_5e341ce7414a4d318fc7bff6bc8d04e6",
            "value": 501
          }
        },
        "0dabf1a9beaa48128b960710d62a4e2d": {
          "model_module": "@jupyter-widgets/controls",
          "model_name": "HTMLModel",
          "model_module_version": "1.5.0",
          "state": {
            "_dom_classes": [],
            "_model_module": "@jupyter-widgets/controls",
            "_model_module_version": "1.5.0",
            "_model_name": "HTMLModel",
            "_view_count": null,
            "_view_module": "@jupyter-widgets/controls",
            "_view_module_version": "1.5.0",
            "_view_name": "HTMLView",
            "description": "",
            "description_tooltip": null,
            "layout": "IPY_MODEL_1ad4561fa68c46eeb236b5e505f17226",
            "placeholder": "​",
            "style": "IPY_MODEL_4433ad4281b6419bb0e3d1792199159b",
            "value": " 501/501 [01:13&lt;00:00,  8.06it/s]"
          }
        },
        "213942f3fd574211a4eb0ad0a57e89aa": {
          "model_module": "@jupyter-widgets/base",
          "model_name": "LayoutModel",
          "model_module_version": "1.2.0",
          "state": {
            "_model_module": "@jupyter-widgets/base",
            "_model_module_version": "1.2.0",
            "_model_name": "LayoutModel",
            "_view_count": null,
            "_view_module": "@jupyter-widgets/base",
            "_view_module_version": "1.2.0",
            "_view_name": "LayoutView",
            "align_content": null,
            "align_items": null,
            "align_self": null,
            "border": null,
            "bottom": null,
            "display": null,
            "flex": null,
            "flex_flow": null,
            "grid_area": null,
            "grid_auto_columns": null,
            "grid_auto_flow": null,
            "grid_auto_rows": null,
            "grid_column": null,
            "grid_gap": null,
            "grid_row": null,
            "grid_template_areas": null,
            "grid_template_columns": null,
            "grid_template_rows": null,
            "height": null,
            "justify_content": null,
            "justify_items": null,
            "left": null,
            "margin": null,
            "max_height": null,
            "max_width": null,
            "min_height": null,
            "min_width": null,
            "object_fit": null,
            "object_position": null,
            "order": null,
            "overflow": null,
            "overflow_x": null,
            "overflow_y": null,
            "padding": null,
            "right": null,
            "top": null,
            "visibility": null,
            "width": null
          }
        },
        "3fab115bfe9f4e919993f90856ca2413": {
          "model_module": "@jupyter-widgets/base",
          "model_name": "LayoutModel",
          "model_module_version": "1.2.0",
          "state": {
            "_model_module": "@jupyter-widgets/base",
            "_model_module_version": "1.2.0",
            "_model_name": "LayoutModel",
            "_view_count": null,
            "_view_module": "@jupyter-widgets/base",
            "_view_module_version": "1.2.0",
            "_view_name": "LayoutView",
            "align_content": null,
            "align_items": null,
            "align_self": null,
            "border": null,
            "bottom": null,
            "display": null,
            "flex": null,
            "flex_flow": null,
            "grid_area": null,
            "grid_auto_columns": null,
            "grid_auto_flow": null,
            "grid_auto_rows": null,
            "grid_column": null,
            "grid_gap": null,
            "grid_row": null,
            "grid_template_areas": null,
            "grid_template_columns": null,
            "grid_template_rows": null,
            "height": null,
            "justify_content": null,
            "justify_items": null,
            "left": null,
            "margin": null,
            "max_height": null,
            "max_width": null,
            "min_height": null,
            "min_width": null,
            "object_fit": null,
            "object_position": null,
            "order": null,
            "overflow": null,
            "overflow_x": null,
            "overflow_y": null,
            "padding": null,
            "right": null,
            "top": null,
            "visibility": null,
            "width": null
          }
        },
        "1e4315f27687443aa2eafeedeadfa8fa": {
          "model_module": "@jupyter-widgets/controls",
          "model_name": "DescriptionStyleModel",
          "model_module_version": "1.5.0",
          "state": {
            "_model_module": "@jupyter-widgets/controls",
            "_model_module_version": "1.5.0",
            "_model_name": "DescriptionStyleModel",
            "_view_count": null,
            "_view_module": "@jupyter-widgets/base",
            "_view_module_version": "1.2.0",
            "_view_name": "StyleView",
            "description_width": ""
          }
        },
        "5833b7a38af94122a70b424c428be74d": {
          "model_module": "@jupyter-widgets/base",
          "model_name": "LayoutModel",
          "model_module_version": "1.2.0",
          "state": {
            "_model_module": "@jupyter-widgets/base",
            "_model_module_version": "1.2.0",
            "_model_name": "LayoutModel",
            "_view_count": null,
            "_view_module": "@jupyter-widgets/base",
            "_view_module_version": "1.2.0",
            "_view_name": "LayoutView",
            "align_content": null,
            "align_items": null,
            "align_self": null,
            "border": null,
            "bottom": null,
            "display": null,
            "flex": null,
            "flex_flow": null,
            "grid_area": null,
            "grid_auto_columns": null,
            "grid_auto_flow": null,
            "grid_auto_rows": null,
            "grid_column": null,
            "grid_gap": null,
            "grid_row": null,
            "grid_template_areas": null,
            "grid_template_columns": null,
            "grid_template_rows": null,
            "height": null,
            "justify_content": null,
            "justify_items": null,
            "left": null,
            "margin": null,
            "max_height": null,
            "max_width": null,
            "min_height": null,
            "min_width": null,
            "object_fit": null,
            "object_position": null,
            "order": null,
            "overflow": null,
            "overflow_x": null,
            "overflow_y": null,
            "padding": null,
            "right": null,
            "top": null,
            "visibility": null,
            "width": null
          }
        },
        "5e341ce7414a4d318fc7bff6bc8d04e6": {
          "model_module": "@jupyter-widgets/controls",
          "model_name": "ProgressStyleModel",
          "model_module_version": "1.5.0",
          "state": {
            "_model_module": "@jupyter-widgets/controls",
            "_model_module_version": "1.5.0",
            "_model_name": "ProgressStyleModel",
            "_view_count": null,
            "_view_module": "@jupyter-widgets/base",
            "_view_module_version": "1.2.0",
            "_view_name": "StyleView",
            "bar_color": null,
            "description_width": ""
          }
        },
        "1ad4561fa68c46eeb236b5e505f17226": {
          "model_module": "@jupyter-widgets/base",
          "model_name": "LayoutModel",
          "model_module_version": "1.2.0",
          "state": {
            "_model_module": "@jupyter-widgets/base",
            "_model_module_version": "1.2.0",
            "_model_name": "LayoutModel",
            "_view_count": null,
            "_view_module": "@jupyter-widgets/base",
            "_view_module_version": "1.2.0",
            "_view_name": "LayoutView",
            "align_content": null,
            "align_items": null,
            "align_self": null,
            "border": null,
            "bottom": null,
            "display": null,
            "flex": null,
            "flex_flow": null,
            "grid_area": null,
            "grid_auto_columns": null,
            "grid_auto_flow": null,
            "grid_auto_rows": null,
            "grid_column": null,
            "grid_gap": null,
            "grid_row": null,
            "grid_template_areas": null,
            "grid_template_columns": null,
            "grid_template_rows": null,
            "height": null,
            "justify_content": null,
            "justify_items": null,
            "left": null,
            "margin": null,
            "max_height": null,
            "max_width": null,
            "min_height": null,
            "min_width": null,
            "object_fit": null,
            "object_position": null,
            "order": null,
            "overflow": null,
            "overflow_x": null,
            "overflow_y": null,
            "padding": null,
            "right": null,
            "top": null,
            "visibility": null,
            "width": null
          }
        },
        "4433ad4281b6419bb0e3d1792199159b": {
          "model_module": "@jupyter-widgets/controls",
          "model_name": "DescriptionStyleModel",
          "model_module_version": "1.5.0",
          "state": {
            "_model_module": "@jupyter-widgets/controls",
            "_model_module_version": "1.5.0",
            "_model_name": "DescriptionStyleModel",
            "_view_count": null,
            "_view_module": "@jupyter-widgets/base",
            "_view_module_version": "1.2.0",
            "_view_name": "StyleView",
            "description_width": ""
          }
        },
        "6ed2ad975c124ebf8ef7ec144a48150b": {
          "model_module": "@jupyter-widgets/controls",
          "model_name": "HBoxModel",
          "model_module_version": "1.5.0",
          "state": {
            "_dom_classes": [],
            "_model_module": "@jupyter-widgets/controls",
            "_model_module_version": "1.5.0",
            "_model_name": "HBoxModel",
            "_view_count": null,
            "_view_module": "@jupyter-widgets/controls",
            "_view_module_version": "1.5.0",
            "_view_name": "HBoxView",
            "box_style": "",
            "children": [
              "IPY_MODEL_21cee6d33bea4ee4a8c7ebf4817d0449",
              "IPY_MODEL_fec4ce3d833e4e54854b44821d209e59",
              "IPY_MODEL_fabfe723538741d3b0b9d8ff3d5e26c6"
            ],
            "layout": "IPY_MODEL_128d6e1024b5456a913d2d7583b7582d"
          }
        },
        "21cee6d33bea4ee4a8c7ebf4817d0449": {
          "model_module": "@jupyter-widgets/controls",
          "model_name": "HTMLModel",
          "model_module_version": "1.5.0",
          "state": {
            "_dom_classes": [],
            "_model_module": "@jupyter-widgets/controls",
            "_model_module_version": "1.5.0",
            "_model_name": "HTMLModel",
            "_view_count": null,
            "_view_module": "@jupyter-widgets/controls",
            "_view_module_version": "1.5.0",
            "_view_name": "HTMLView",
            "description": "",
            "description_tooltip": null,
            "layout": "IPY_MODEL_38c0dcba91d5463598e4eb7039a6ca9a",
            "placeholder": "​",
            "style": "IPY_MODEL_886237be03db4b8c87734ea0023d75a1",
            "value": "Combining Images: 100%"
          }
        },
        "fec4ce3d833e4e54854b44821d209e59": {
          "model_module": "@jupyter-widgets/controls",
          "model_name": "FloatProgressModel",
          "model_module_version": "1.5.0",
          "state": {
            "_dom_classes": [],
            "_model_module": "@jupyter-widgets/controls",
            "_model_module_version": "1.5.0",
            "_model_name": "FloatProgressModel",
            "_view_count": null,
            "_view_module": "@jupyter-widgets/controls",
            "_view_module_version": "1.5.0",
            "_view_name": "ProgressView",
            "bar_style": "success",
            "description": "",
            "description_tooltip": null,
            "layout": "IPY_MODEL_dac055c02fce414c8fa9218dae89efc6",
            "max": 501,
            "min": 0,
            "orientation": "horizontal",
            "style": "IPY_MODEL_bc50d21e63f54fa2a012f0fe9e98d53f",
            "value": 501
          }
        },
        "fabfe723538741d3b0b9d8ff3d5e26c6": {
          "model_module": "@jupyter-widgets/controls",
          "model_name": "HTMLModel",
          "model_module_version": "1.5.0",
          "state": {
            "_dom_classes": [],
            "_model_module": "@jupyter-widgets/controls",
            "_model_module_version": "1.5.0",
            "_model_name": "HTMLModel",
            "_view_count": null,
            "_view_module": "@jupyter-widgets/controls",
            "_view_module_version": "1.5.0",
            "_view_name": "HTMLView",
            "description": "",
            "description_tooltip": null,
            "layout": "IPY_MODEL_d8c5dc404a444349a8b029e1d21a094a",
            "placeholder": "​",
            "style": "IPY_MODEL_25cfb568544042198e60b2652a52ae40",
            "value": " 501/501 [00:01&lt;00:00, 413.17it/s]"
          }
        },
        "128d6e1024b5456a913d2d7583b7582d": {
          "model_module": "@jupyter-widgets/base",
          "model_name": "LayoutModel",
          "model_module_version": "1.2.0",
          "state": {
            "_model_module": "@jupyter-widgets/base",
            "_model_module_version": "1.2.0",
            "_model_name": "LayoutModel",
            "_view_count": null,
            "_view_module": "@jupyter-widgets/base",
            "_view_module_version": "1.2.0",
            "_view_name": "LayoutView",
            "align_content": null,
            "align_items": null,
            "align_self": null,
            "border": null,
            "bottom": null,
            "display": null,
            "flex": null,
            "flex_flow": null,
            "grid_area": null,
            "grid_auto_columns": null,
            "grid_auto_flow": null,
            "grid_auto_rows": null,
            "grid_column": null,
            "grid_gap": null,
            "grid_row": null,
            "grid_template_areas": null,
            "grid_template_columns": null,
            "grid_template_rows": null,
            "height": null,
            "justify_content": null,
            "justify_items": null,
            "left": null,
            "margin": null,
            "max_height": null,
            "max_width": null,
            "min_height": null,
            "min_width": null,
            "object_fit": null,
            "object_position": null,
            "order": null,
            "overflow": null,
            "overflow_x": null,
            "overflow_y": null,
            "padding": null,
            "right": null,
            "top": null,
            "visibility": null,
            "width": null
          }
        },
        "38c0dcba91d5463598e4eb7039a6ca9a": {
          "model_module": "@jupyter-widgets/base",
          "model_name": "LayoutModel",
          "model_module_version": "1.2.0",
          "state": {
            "_model_module": "@jupyter-widgets/base",
            "_model_module_version": "1.2.0",
            "_model_name": "LayoutModel",
            "_view_count": null,
            "_view_module": "@jupyter-widgets/base",
            "_view_module_version": "1.2.0",
            "_view_name": "LayoutView",
            "align_content": null,
            "align_items": null,
            "align_self": null,
            "border": null,
            "bottom": null,
            "display": null,
            "flex": null,
            "flex_flow": null,
            "grid_area": null,
            "grid_auto_columns": null,
            "grid_auto_flow": null,
            "grid_auto_rows": null,
            "grid_column": null,
            "grid_gap": null,
            "grid_row": null,
            "grid_template_areas": null,
            "grid_template_columns": null,
            "grid_template_rows": null,
            "height": null,
            "justify_content": null,
            "justify_items": null,
            "left": null,
            "margin": null,
            "max_height": null,
            "max_width": null,
            "min_height": null,
            "min_width": null,
            "object_fit": null,
            "object_position": null,
            "order": null,
            "overflow": null,
            "overflow_x": null,
            "overflow_y": null,
            "padding": null,
            "right": null,
            "top": null,
            "visibility": null,
            "width": null
          }
        },
        "886237be03db4b8c87734ea0023d75a1": {
          "model_module": "@jupyter-widgets/controls",
          "model_name": "DescriptionStyleModel",
          "model_module_version": "1.5.0",
          "state": {
            "_model_module": "@jupyter-widgets/controls",
            "_model_module_version": "1.5.0",
            "_model_name": "DescriptionStyleModel",
            "_view_count": null,
            "_view_module": "@jupyter-widgets/base",
            "_view_module_version": "1.2.0",
            "_view_name": "StyleView",
            "description_width": ""
          }
        },
        "dac055c02fce414c8fa9218dae89efc6": {
          "model_module": "@jupyter-widgets/base",
          "model_name": "LayoutModel",
          "model_module_version": "1.2.0",
          "state": {
            "_model_module": "@jupyter-widgets/base",
            "_model_module_version": "1.2.0",
            "_model_name": "LayoutModel",
            "_view_count": null,
            "_view_module": "@jupyter-widgets/base",
            "_view_module_version": "1.2.0",
            "_view_name": "LayoutView",
            "align_content": null,
            "align_items": null,
            "align_self": null,
            "border": null,
            "bottom": null,
            "display": null,
            "flex": null,
            "flex_flow": null,
            "grid_area": null,
            "grid_auto_columns": null,
            "grid_auto_flow": null,
            "grid_auto_rows": null,
            "grid_column": null,
            "grid_gap": null,
            "grid_row": null,
            "grid_template_areas": null,
            "grid_template_columns": null,
            "grid_template_rows": null,
            "height": null,
            "justify_content": null,
            "justify_items": null,
            "left": null,
            "margin": null,
            "max_height": null,
            "max_width": null,
            "min_height": null,
            "min_width": null,
            "object_fit": null,
            "object_position": null,
            "order": null,
            "overflow": null,
            "overflow_x": null,
            "overflow_y": null,
            "padding": null,
            "right": null,
            "top": null,
            "visibility": null,
            "width": null
          }
        },
        "bc50d21e63f54fa2a012f0fe9e98d53f": {
          "model_module": "@jupyter-widgets/controls",
          "model_name": "ProgressStyleModel",
          "model_module_version": "1.5.0",
          "state": {
            "_model_module": "@jupyter-widgets/controls",
            "_model_module_version": "1.5.0",
            "_model_name": "ProgressStyleModel",
            "_view_count": null,
            "_view_module": "@jupyter-widgets/base",
            "_view_module_version": "1.2.0",
            "_view_name": "StyleView",
            "bar_color": null,
            "description_width": ""
          }
        },
        "d8c5dc404a444349a8b029e1d21a094a": {
          "model_module": "@jupyter-widgets/base",
          "model_name": "LayoutModel",
          "model_module_version": "1.2.0",
          "state": {
            "_model_module": "@jupyter-widgets/base",
            "_model_module_version": "1.2.0",
            "_model_name": "LayoutModel",
            "_view_count": null,
            "_view_module": "@jupyter-widgets/base",
            "_view_module_version": "1.2.0",
            "_view_name": "LayoutView",
            "align_content": null,
            "align_items": null,
            "align_self": null,
            "border": null,
            "bottom": null,
            "display": null,
            "flex": null,
            "flex_flow": null,
            "grid_area": null,
            "grid_auto_columns": null,
            "grid_auto_flow": null,
            "grid_auto_rows": null,
            "grid_column": null,
            "grid_gap": null,
            "grid_row": null,
            "grid_template_areas": null,
            "grid_template_columns": null,
            "grid_template_rows": null,
            "height": null,
            "justify_content": null,
            "justify_items": null,
            "left": null,
            "margin": null,
            "max_height": null,
            "max_width": null,
            "min_height": null,
            "min_width": null,
            "object_fit": null,
            "object_position": null,
            "order": null,
            "overflow": null,
            "overflow_x": null,
            "overflow_y": null,
            "padding": null,
            "right": null,
            "top": null,
            "visibility": null,
            "width": null
          }
        },
        "25cfb568544042198e60b2652a52ae40": {
          "model_module": "@jupyter-widgets/controls",
          "model_name": "DescriptionStyleModel",
          "model_module_version": "1.5.0",
          "state": {
            "_model_module": "@jupyter-widgets/controls",
            "_model_module_version": "1.5.0",
            "_model_name": "DescriptionStyleModel",
            "_view_count": null,
            "_view_module": "@jupyter-widgets/base",
            "_view_module_version": "1.2.0",
            "_view_name": "StyleView",
            "description_width": ""
          }
        },
        "705548b17eb34a42a4ecdb2867e10966": {
          "model_module": "@jupyter-widgets/controls",
          "model_name": "HBoxModel",
          "model_module_version": "1.5.0",
          "state": {
            "_dom_classes": [],
            "_model_module": "@jupyter-widgets/controls",
            "_model_module_version": "1.5.0",
            "_model_name": "HBoxModel",
            "_view_count": null,
            "_view_module": "@jupyter-widgets/controls",
            "_view_module_version": "1.5.0",
            "_view_name": "HBoxView",
            "box_style": "",
            "children": [
              "IPY_MODEL_d25f32feecd44a98bf5e4b2e822f0c4d",
              "IPY_MODEL_abac38dc343149fa9a219da68650fa2e",
              "IPY_MODEL_e9f011e220bf4a79b0b61429f5a32306"
            ],
            "layout": "IPY_MODEL_94f4240a7d3a40f88234ecf8ab1a7d7f"
          }
        },
        "d25f32feecd44a98bf5e4b2e822f0c4d": {
          "model_module": "@jupyter-widgets/controls",
          "model_name": "HTMLModel",
          "model_module_version": "1.5.0",
          "state": {
            "_dom_classes": [],
            "_model_module": "@jupyter-widgets/controls",
            "_model_module_version": "1.5.0",
            "_model_name": "HTMLModel",
            "_view_count": null,
            "_view_module": "@jupyter-widgets/controls",
            "_view_module_version": "1.5.0",
            "_view_name": "HTMLView",
            "description": "",
            "description_tooltip": null,
            "layout": "IPY_MODEL_27136f6efc9a4f8ca10d804eacd8f24c",
            "placeholder": "​",
            "style": "IPY_MODEL_e8bac7d8dab64b69b920da6f4cae8804",
            "value": "Creating Images: 100%"
          }
        },
        "abac38dc343149fa9a219da68650fa2e": {
          "model_module": "@jupyter-widgets/controls",
          "model_name": "FloatProgressModel",
          "model_module_version": "1.5.0",
          "state": {
            "_dom_classes": [],
            "_model_module": "@jupyter-widgets/controls",
            "_model_module_version": "1.5.0",
            "_model_name": "FloatProgressModel",
            "_view_count": null,
            "_view_module": "@jupyter-widgets/controls",
            "_view_module_version": "1.5.0",
            "_view_name": "ProgressView",
            "bar_style": "success",
            "description": "",
            "description_tooltip": null,
            "layout": "IPY_MODEL_91c102cde7534a88b73795e8b4959fd3",
            "max": 501,
            "min": 0,
            "orientation": "horizontal",
            "style": "IPY_MODEL_ae19873f5eb043b2b2c0231fdb61a7a5",
            "value": 501
          }
        },
        "e9f011e220bf4a79b0b61429f5a32306": {
          "model_module": "@jupyter-widgets/controls",
          "model_name": "HTMLModel",
          "model_module_version": "1.5.0",
          "state": {
            "_dom_classes": [],
            "_model_module": "@jupyter-widgets/controls",
            "_model_module_version": "1.5.0",
            "_model_name": "HTMLModel",
            "_view_count": null,
            "_view_module": "@jupyter-widgets/controls",
            "_view_module_version": "1.5.0",
            "_view_name": "HTMLView",
            "description": "",
            "description_tooltip": null,
            "layout": "IPY_MODEL_f277433733d54d1ba95ed4d174cdd716",
            "placeholder": "​",
            "style": "IPY_MODEL_6c04e23be7c64400a7b170aa20607d9b",
            "value": " 501/501 [01:02&lt;00:00,  8.79it/s]"
          }
        },
        "94f4240a7d3a40f88234ecf8ab1a7d7f": {
          "model_module": "@jupyter-widgets/base",
          "model_name": "LayoutModel",
          "model_module_version": "1.2.0",
          "state": {
            "_model_module": "@jupyter-widgets/base",
            "_model_module_version": "1.2.0",
            "_model_name": "LayoutModel",
            "_view_count": null,
            "_view_module": "@jupyter-widgets/base",
            "_view_module_version": "1.2.0",
            "_view_name": "LayoutView",
            "align_content": null,
            "align_items": null,
            "align_self": null,
            "border": null,
            "bottom": null,
            "display": null,
            "flex": null,
            "flex_flow": null,
            "grid_area": null,
            "grid_auto_columns": null,
            "grid_auto_flow": null,
            "grid_auto_rows": null,
            "grid_column": null,
            "grid_gap": null,
            "grid_row": null,
            "grid_template_areas": null,
            "grid_template_columns": null,
            "grid_template_rows": null,
            "height": null,
            "justify_content": null,
            "justify_items": null,
            "left": null,
            "margin": null,
            "max_height": null,
            "max_width": null,
            "min_height": null,
            "min_width": null,
            "object_fit": null,
            "object_position": null,
            "order": null,
            "overflow": null,
            "overflow_x": null,
            "overflow_y": null,
            "padding": null,
            "right": null,
            "top": null,
            "visibility": null,
            "width": null
          }
        },
        "27136f6efc9a4f8ca10d804eacd8f24c": {
          "model_module": "@jupyter-widgets/base",
          "model_name": "LayoutModel",
          "model_module_version": "1.2.0",
          "state": {
            "_model_module": "@jupyter-widgets/base",
            "_model_module_version": "1.2.0",
            "_model_name": "LayoutModel",
            "_view_count": null,
            "_view_module": "@jupyter-widgets/base",
            "_view_module_version": "1.2.0",
            "_view_name": "LayoutView",
            "align_content": null,
            "align_items": null,
            "align_self": null,
            "border": null,
            "bottom": null,
            "display": null,
            "flex": null,
            "flex_flow": null,
            "grid_area": null,
            "grid_auto_columns": null,
            "grid_auto_flow": null,
            "grid_auto_rows": null,
            "grid_column": null,
            "grid_gap": null,
            "grid_row": null,
            "grid_template_areas": null,
            "grid_template_columns": null,
            "grid_template_rows": null,
            "height": null,
            "justify_content": null,
            "justify_items": null,
            "left": null,
            "margin": null,
            "max_height": null,
            "max_width": null,
            "min_height": null,
            "min_width": null,
            "object_fit": null,
            "object_position": null,
            "order": null,
            "overflow": null,
            "overflow_x": null,
            "overflow_y": null,
            "padding": null,
            "right": null,
            "top": null,
            "visibility": null,
            "width": null
          }
        },
        "e8bac7d8dab64b69b920da6f4cae8804": {
          "model_module": "@jupyter-widgets/controls",
          "model_name": "DescriptionStyleModel",
          "model_module_version": "1.5.0",
          "state": {
            "_model_module": "@jupyter-widgets/controls",
            "_model_module_version": "1.5.0",
            "_model_name": "DescriptionStyleModel",
            "_view_count": null,
            "_view_module": "@jupyter-widgets/base",
            "_view_module_version": "1.2.0",
            "_view_name": "StyleView",
            "description_width": ""
          }
        },
        "91c102cde7534a88b73795e8b4959fd3": {
          "model_module": "@jupyter-widgets/base",
          "model_name": "LayoutModel",
          "model_module_version": "1.2.0",
          "state": {
            "_model_module": "@jupyter-widgets/base",
            "_model_module_version": "1.2.0",
            "_model_name": "LayoutModel",
            "_view_count": null,
            "_view_module": "@jupyter-widgets/base",
            "_view_module_version": "1.2.0",
            "_view_name": "LayoutView",
            "align_content": null,
            "align_items": null,
            "align_self": null,
            "border": null,
            "bottom": null,
            "display": null,
            "flex": null,
            "flex_flow": null,
            "grid_area": null,
            "grid_auto_columns": null,
            "grid_auto_flow": null,
            "grid_auto_rows": null,
            "grid_column": null,
            "grid_gap": null,
            "grid_row": null,
            "grid_template_areas": null,
            "grid_template_columns": null,
            "grid_template_rows": null,
            "height": null,
            "justify_content": null,
            "justify_items": null,
            "left": null,
            "margin": null,
            "max_height": null,
            "max_width": null,
            "min_height": null,
            "min_width": null,
            "object_fit": null,
            "object_position": null,
            "order": null,
            "overflow": null,
            "overflow_x": null,
            "overflow_y": null,
            "padding": null,
            "right": null,
            "top": null,
            "visibility": null,
            "width": null
          }
        },
        "ae19873f5eb043b2b2c0231fdb61a7a5": {
          "model_module": "@jupyter-widgets/controls",
          "model_name": "ProgressStyleModel",
          "model_module_version": "1.5.0",
          "state": {
            "_model_module": "@jupyter-widgets/controls",
            "_model_module_version": "1.5.0",
            "_model_name": "ProgressStyleModel",
            "_view_count": null,
            "_view_module": "@jupyter-widgets/base",
            "_view_module_version": "1.2.0",
            "_view_name": "StyleView",
            "bar_color": null,
            "description_width": ""
          }
        },
        "f277433733d54d1ba95ed4d174cdd716": {
          "model_module": "@jupyter-widgets/base",
          "model_name": "LayoutModel",
          "model_module_version": "1.2.0",
          "state": {
            "_model_module": "@jupyter-widgets/base",
            "_model_module_version": "1.2.0",
            "_model_name": "LayoutModel",
            "_view_count": null,
            "_view_module": "@jupyter-widgets/base",
            "_view_module_version": "1.2.0",
            "_view_name": "LayoutView",
            "align_content": null,
            "align_items": null,
            "align_self": null,
            "border": null,
            "bottom": null,
            "display": null,
            "flex": null,
            "flex_flow": null,
            "grid_area": null,
            "grid_auto_columns": null,
            "grid_auto_flow": null,
            "grid_auto_rows": null,
            "grid_column": null,
            "grid_gap": null,
            "grid_row": null,
            "grid_template_areas": null,
            "grid_template_columns": null,
            "grid_template_rows": null,
            "height": null,
            "justify_content": null,
            "justify_items": null,
            "left": null,
            "margin": null,
            "max_height": null,
            "max_width": null,
            "min_height": null,
            "min_width": null,
            "object_fit": null,
            "object_position": null,
            "order": null,
            "overflow": null,
            "overflow_x": null,
            "overflow_y": null,
            "padding": null,
            "right": null,
            "top": null,
            "visibility": null,
            "width": null
          }
        },
        "6c04e23be7c64400a7b170aa20607d9b": {
          "model_module": "@jupyter-widgets/controls",
          "model_name": "DescriptionStyleModel",
          "model_module_version": "1.5.0",
          "state": {
            "_model_module": "@jupyter-widgets/controls",
            "_model_module_version": "1.5.0",
            "_model_name": "DescriptionStyleModel",
            "_view_count": null,
            "_view_module": "@jupyter-widgets/base",
            "_view_module_version": "1.2.0",
            "_view_name": "StyleView",
            "description_width": ""
          }
        },
        "8aa481d18cde4a2d9923c0e7e773c2cd": {
          "model_module": "@jupyter-widgets/controls",
          "model_name": "HBoxModel",
          "model_module_version": "1.5.0",
          "state": {
            "_dom_classes": [],
            "_model_module": "@jupyter-widgets/controls",
            "_model_module_version": "1.5.0",
            "_model_name": "HBoxModel",
            "_view_count": null,
            "_view_module": "@jupyter-widgets/controls",
            "_view_module_version": "1.5.0",
            "_view_name": "HBoxView",
            "box_style": "",
            "children": [
              "IPY_MODEL_14291c8fa6df4f4ca938a80c9d165e0a",
              "IPY_MODEL_6d21f456c15e4167bf3ac91ba82ee481",
              "IPY_MODEL_7450b5f3d5f949c5805d20087cdaa110"
            ],
            "layout": "IPY_MODEL_86dc7529b20d4dd6abde7ced2cc4f61c"
          }
        },
        "14291c8fa6df4f4ca938a80c9d165e0a": {
          "model_module": "@jupyter-widgets/controls",
          "model_name": "HTMLModel",
          "model_module_version": "1.5.0",
          "state": {
            "_dom_classes": [],
            "_model_module": "@jupyter-widgets/controls",
            "_model_module_version": "1.5.0",
            "_model_name": "HTMLModel",
            "_view_count": null,
            "_view_module": "@jupyter-widgets/controls",
            "_view_module_version": "1.5.0",
            "_view_name": "HTMLView",
            "description": "",
            "description_tooltip": null,
            "layout": "IPY_MODEL_87372ff8f58a4c689e6417d598bf1250",
            "placeholder": "​",
            "style": "IPY_MODEL_6148c7ff9caf45a5bde220f870cc604f",
            "value": "Combining Images: 100%"
          }
        },
        "6d21f456c15e4167bf3ac91ba82ee481": {
          "model_module": "@jupyter-widgets/controls",
          "model_name": "FloatProgressModel",
          "model_module_version": "1.5.0",
          "state": {
            "_dom_classes": [],
            "_model_module": "@jupyter-widgets/controls",
            "_model_module_version": "1.5.0",
            "_model_name": "FloatProgressModel",
            "_view_count": null,
            "_view_module": "@jupyter-widgets/controls",
            "_view_module_version": "1.5.0",
            "_view_name": "ProgressView",
            "bar_style": "success",
            "description": "",
            "description_tooltip": null,
            "layout": "IPY_MODEL_dc1cff69de32416eaaeea787e77a3cad",
            "max": 501,
            "min": 0,
            "orientation": "horizontal",
            "style": "IPY_MODEL_ae5d2da7096a412ca1c3f6263dd05e51",
            "value": 501
          }
        },
        "7450b5f3d5f949c5805d20087cdaa110": {
          "model_module": "@jupyter-widgets/controls",
          "model_name": "HTMLModel",
          "model_module_version": "1.5.0",
          "state": {
            "_dom_classes": [],
            "_model_module": "@jupyter-widgets/controls",
            "_model_module_version": "1.5.0",
            "_model_name": "HTMLModel",
            "_view_count": null,
            "_view_module": "@jupyter-widgets/controls",
            "_view_module_version": "1.5.0",
            "_view_name": "HTMLView",
            "description": "",
            "description_tooltip": null,
            "layout": "IPY_MODEL_129336b6957947c081efdee5f7d75ccf",
            "placeholder": "​",
            "style": "IPY_MODEL_06103d7a19cd4e4a887832356a4f2d13",
            "value": " 501/501 [00:01&lt;00:00, 433.40it/s]"
          }
        },
        "86dc7529b20d4dd6abde7ced2cc4f61c": {
          "model_module": "@jupyter-widgets/base",
          "model_name": "LayoutModel",
          "model_module_version": "1.2.0",
          "state": {
            "_model_module": "@jupyter-widgets/base",
            "_model_module_version": "1.2.0",
            "_model_name": "LayoutModel",
            "_view_count": null,
            "_view_module": "@jupyter-widgets/base",
            "_view_module_version": "1.2.0",
            "_view_name": "LayoutView",
            "align_content": null,
            "align_items": null,
            "align_self": null,
            "border": null,
            "bottom": null,
            "display": null,
            "flex": null,
            "flex_flow": null,
            "grid_area": null,
            "grid_auto_columns": null,
            "grid_auto_flow": null,
            "grid_auto_rows": null,
            "grid_column": null,
            "grid_gap": null,
            "grid_row": null,
            "grid_template_areas": null,
            "grid_template_columns": null,
            "grid_template_rows": null,
            "height": null,
            "justify_content": null,
            "justify_items": null,
            "left": null,
            "margin": null,
            "max_height": null,
            "max_width": null,
            "min_height": null,
            "min_width": null,
            "object_fit": null,
            "object_position": null,
            "order": null,
            "overflow": null,
            "overflow_x": null,
            "overflow_y": null,
            "padding": null,
            "right": null,
            "top": null,
            "visibility": null,
            "width": null
          }
        },
        "87372ff8f58a4c689e6417d598bf1250": {
          "model_module": "@jupyter-widgets/base",
          "model_name": "LayoutModel",
          "model_module_version": "1.2.0",
          "state": {
            "_model_module": "@jupyter-widgets/base",
            "_model_module_version": "1.2.0",
            "_model_name": "LayoutModel",
            "_view_count": null,
            "_view_module": "@jupyter-widgets/base",
            "_view_module_version": "1.2.0",
            "_view_name": "LayoutView",
            "align_content": null,
            "align_items": null,
            "align_self": null,
            "border": null,
            "bottom": null,
            "display": null,
            "flex": null,
            "flex_flow": null,
            "grid_area": null,
            "grid_auto_columns": null,
            "grid_auto_flow": null,
            "grid_auto_rows": null,
            "grid_column": null,
            "grid_gap": null,
            "grid_row": null,
            "grid_template_areas": null,
            "grid_template_columns": null,
            "grid_template_rows": null,
            "height": null,
            "justify_content": null,
            "justify_items": null,
            "left": null,
            "margin": null,
            "max_height": null,
            "max_width": null,
            "min_height": null,
            "min_width": null,
            "object_fit": null,
            "object_position": null,
            "order": null,
            "overflow": null,
            "overflow_x": null,
            "overflow_y": null,
            "padding": null,
            "right": null,
            "top": null,
            "visibility": null,
            "width": null
          }
        },
        "6148c7ff9caf45a5bde220f870cc604f": {
          "model_module": "@jupyter-widgets/controls",
          "model_name": "DescriptionStyleModel",
          "model_module_version": "1.5.0",
          "state": {
            "_model_module": "@jupyter-widgets/controls",
            "_model_module_version": "1.5.0",
            "_model_name": "DescriptionStyleModel",
            "_view_count": null,
            "_view_module": "@jupyter-widgets/base",
            "_view_module_version": "1.2.0",
            "_view_name": "StyleView",
            "description_width": ""
          }
        },
        "dc1cff69de32416eaaeea787e77a3cad": {
          "model_module": "@jupyter-widgets/base",
          "model_name": "LayoutModel",
          "model_module_version": "1.2.0",
          "state": {
            "_model_module": "@jupyter-widgets/base",
            "_model_module_version": "1.2.0",
            "_model_name": "LayoutModel",
            "_view_count": null,
            "_view_module": "@jupyter-widgets/base",
            "_view_module_version": "1.2.0",
            "_view_name": "LayoutView",
            "align_content": null,
            "align_items": null,
            "align_self": null,
            "border": null,
            "bottom": null,
            "display": null,
            "flex": null,
            "flex_flow": null,
            "grid_area": null,
            "grid_auto_columns": null,
            "grid_auto_flow": null,
            "grid_auto_rows": null,
            "grid_column": null,
            "grid_gap": null,
            "grid_row": null,
            "grid_template_areas": null,
            "grid_template_columns": null,
            "grid_template_rows": null,
            "height": null,
            "justify_content": null,
            "justify_items": null,
            "left": null,
            "margin": null,
            "max_height": null,
            "max_width": null,
            "min_height": null,
            "min_width": null,
            "object_fit": null,
            "object_position": null,
            "order": null,
            "overflow": null,
            "overflow_x": null,
            "overflow_y": null,
            "padding": null,
            "right": null,
            "top": null,
            "visibility": null,
            "width": null
          }
        },
        "ae5d2da7096a412ca1c3f6263dd05e51": {
          "model_module": "@jupyter-widgets/controls",
          "model_name": "ProgressStyleModel",
          "model_module_version": "1.5.0",
          "state": {
            "_model_module": "@jupyter-widgets/controls",
            "_model_module_version": "1.5.0",
            "_model_name": "ProgressStyleModel",
            "_view_count": null,
            "_view_module": "@jupyter-widgets/base",
            "_view_module_version": "1.2.0",
            "_view_name": "StyleView",
            "bar_color": null,
            "description_width": ""
          }
        },
        "129336b6957947c081efdee5f7d75ccf": {
          "model_module": "@jupyter-widgets/base",
          "model_name": "LayoutModel",
          "model_module_version": "1.2.0",
          "state": {
            "_model_module": "@jupyter-widgets/base",
            "_model_module_version": "1.2.0",
            "_model_name": "LayoutModel",
            "_view_count": null,
            "_view_module": "@jupyter-widgets/base",
            "_view_module_version": "1.2.0",
            "_view_name": "LayoutView",
            "align_content": null,
            "align_items": null,
            "align_self": null,
            "border": null,
            "bottom": null,
            "display": null,
            "flex": null,
            "flex_flow": null,
            "grid_area": null,
            "grid_auto_columns": null,
            "grid_auto_flow": null,
            "grid_auto_rows": null,
            "grid_column": null,
            "grid_gap": null,
            "grid_row": null,
            "grid_template_areas": null,
            "grid_template_columns": null,
            "grid_template_rows": null,
            "height": null,
            "justify_content": null,
            "justify_items": null,
            "left": null,
            "margin": null,
            "max_height": null,
            "max_width": null,
            "min_height": null,
            "min_width": null,
            "object_fit": null,
            "object_position": null,
            "order": null,
            "overflow": null,
            "overflow_x": null,
            "overflow_y": null,
            "padding": null,
            "right": null,
            "top": null,
            "visibility": null,
            "width": null
          }
        },
        "06103d7a19cd4e4a887832356a4f2d13": {
          "model_module": "@jupyter-widgets/controls",
          "model_name": "DescriptionStyleModel",
          "model_module_version": "1.5.0",
          "state": {
            "_model_module": "@jupyter-widgets/controls",
            "_model_module_version": "1.5.0",
            "_model_name": "DescriptionStyleModel",
            "_view_count": null,
            "_view_module": "@jupyter-widgets/base",
            "_view_module_version": "1.2.0",
            "_view_name": "StyleView",
            "description_width": ""
          }
        }
      }
    }
  },
  "nbformat": 4,
  "nbformat_minor": 0
}
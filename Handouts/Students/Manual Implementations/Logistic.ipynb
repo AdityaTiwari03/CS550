{
 "cells": [
  {
   "cell_type": "code",
   "execution_count": 1,
   "metadata": {},
   "outputs": [],
   "source": [
    "import numpy as np"
   ]
  },
  {
   "cell_type": "code",
   "execution_count": 216,
   "metadata": {},
   "outputs": [],
   "source": [
    "class LogisticRegression:\n",
    "    \n",
    "    def __init__(self, eta = 0.1, max_iter = 5000):\n",
    "        self.eta = eta\n",
    "        self.max_iter = max_iter\n",
    "\n",
    "\n",
    "    def fit(self, X, y):\n",
    "\n",
    "        self.d = X.shape[1]\n",
    "\n",
    "        np.random.seed(42)\n",
    "        \n",
    "        # Generating random weights\n",
    "        theta = np.random.rand(self.d)\n",
    "\n",
    "        for i in range(self.max_iter):\n",
    "            \n",
    "            grad = np.zeros(self.d)\n",
    "\n",
    "            for j in range(len(X)):\n",
    "                \n",
    "                x = X[j]\n",
    "                y_curr = y[j]\n",
    "\n",
    "                t = x @ theta\n",
    "\n",
    "                # Sigmoid Function\n",
    "                p = 1 / (1 + np.exp(-t, dtype=np.double))\n",
    "\n",
    "                op = int(p >= 0.5)\n",
    "                grad += (op - y_curr) * x\n",
    "            \n",
    "            # Updating weights\n",
    "            theta = theta - self.eta * grad\n",
    "        \n",
    "        # Final weights\n",
    "        self.w_est = theta\n",
    "\n",
    "        return self\n",
    "    \n",
    "    def predict(self, X):\n",
    "        if self.d != X.shape[1]:\n",
    "            raise ValueError('Number of Columns in X must be {}'.format(self.d))\n",
    "        predictions = []\n",
    "        for x in X:\n",
    "            t  = x @ self.w_est\n",
    "            # Sigmoid Function\n",
    "            p = 1 / (1 + np.exp(-t))\n",
    "            predictions.append(p >= 0.5)\n",
    "        return np.array(predictions)"
   ]
  },
  {
   "cell_type": "markdown",
   "metadata": {},
   "source": [
    "Creating a Sample Dataset"
   ]
  },
  {
   "cell_type": "code",
   "execution_count": 276,
   "metadata": {},
   "outputs": [],
   "source": [
    "# Red Class Points\n",
    "X = np.array([[1, 1], [1, 2], [2, 1], [2, 2], [3, 2], [3, 3], [4, 3], [4, 4], [5, 3], [5, 4], [6, 4], [6, 5], [7, 4], [7, 5], [8, 5], [8, 6], [9, 5], [9, 6], [10, 6], [10, 7], [11, 6], [11, 7], [12, 7], [12, 8], [13, 7], [13, 8], [14, 8], [14, 9], [15, 8], [15, 9], [16, 9], [16, 10], [17, 9], [17, 10], [18, 10], [18, 11], [19, 10], [19, 11], [20, 11], [20, 12], [21, 11], [21, 12], [22, 12], [22, 13], [23, 12], [23, 13], [24, 13], [24, 14], [25, 13], [25, 14], [26, 14], [26, 15], [27, 14], [27, 15], [28, 15], [28, 16], [29, 15], [29, 16], [30, 16], [30, 17], [31, 16], [31, 17], [32, 17], [32, 18], [33, 17], [33, 18], [34, 18], [34, 19], [35, 18], [35, 19], [36, 19], [36, 20], [37, 19], [37, 20], [38, 20], [38, 21], [39, 20], [39, 21], [40, 21], [40, 22], [41, 21], [41, 22], [42, 22], [42, 23], [43, 22], [43, 23], [44, 23], [44, 24], [45, 23], [45, 24], [46, 24]])\n",
    "\n",
    "# Blue Class Points are Red Class shifted vertically by 5\n",
    "Y = []\n",
    "for i in range(len(X)):\n",
    "    Y.append([X[i][0], X[i][1] + 5])\n",
    "Y = np.array(Y)\n"
   ]
  },
  {
   "cell_type": "code",
   "execution_count": 293,
   "metadata": {},
   "outputs": [
    {
     "data": {
      "image/png": "[encoded data removed]",
      "text/plain": [
       "<Figure size 640x480 with 1 Axes>"
      ]
     },
     "metadata": {},
     "output_type": "display_data"
    }
   ],
   "source": [
    "\n",
    "# Plotting the points\n",
    "import matplotlib.pyplot as plt\n",
    "plt.scatter(X[:, 0], X[:, 1], color = 'red', marker='o', s=50, edgecolor='k')\n",
    "plt.scatter(Y[:, 0], Y[:, 1], color = 'blue', marker='o', s=50, edgecolor='k')\n",
    "plt.show()"
   ]
  },
  {
   "cell_type": "code",
   "execution_count": 263,
   "metadata": {},
   "outputs": [],
   "source": [
    "# Training Model\n",
    "model = LogisticRegression()"
   ]
  },
  {
   "cell_type": "code",
   "execution_count": 278,
   "metadata": {},
   "outputs": [],
   "source": [
    "X_total = np.concatenate((X, Y))\n",
    "y_total = np.concatenate((np.ones(X.shape[0]), np.zeros(Y.shape[0])))\n",
    "\n",
    "# Convert to DataFrame\n",
    "import pandas as pd\n",
    "df_x = pd.DataFrame(X_total, columns = ['x1', 'x2'])\n",
    "df_x['ones'] = np.ones(X_total.shape[0])\n",
    "df_y = pd.DataFrame(y_total, columns = ['y'])"
   ]
  },
  {
   "cell_type": "code",
   "execution_count": 279,
   "metadata": {},
   "outputs": [
    {
     "data": {
      "text/plain": [
       "(182, 182)"
      ]
     },
     "execution_count": 279,
     "metadata": {},
     "output_type": "execute_result"
    }
   ],
   "source": [
    "len(df_x), len(df_y)"
   ]
  },
  {
   "cell_type": "markdown",
   "metadata": {},
   "source": [
    "## Cross Validation Function"
   ]
  },
  {
   "cell_type": "code",
   "execution_count": 280,
   "metadata": {},
   "outputs": [],
   "source": [
    "# Import StratifiedKFold\n",
    "from sklearn.model_selection import StratifiedKFold\n",
    "# Import confusion matrix, accuracy score\n",
    "from sklearn.metrics import confusion_matrix, accuracy_score\n",
    "\n",
    "def cross_validate(model, X, y, cv=2):\n",
    "\n",
    "    # Let's split data into 10 folds with stratisfied sampling\n",
    "    kf = StratifiedKFold(n_splits=cv, shuffle=True, random_state=0)\n",
    "\n",
    "    # Let's create a dictionary to store the scores\n",
    "    scores = {}\n",
    "    \n",
    "    # Let's iterate over the folds\n",
    "    i = 1\n",
    "    for train_index, test_index in kf.split(X, y):\n",
    "        \n",
    "        # Let's split the data into train and test\n",
    "        X_train, X_test = X.iloc[train_index], X.iloc[test_index]\n",
    "        y_train, y_test = y.iloc[train_index], y.iloc[test_index]\n",
    "        \n",
    "        # Let's fit the model\n",
    "        print('Training Fold {}'.format(i))\n",
    "        print('----------------')\n",
    "        print('X_train: ', X_train.shape)\n",
    "        print('y_train: ', y_train.shape)\n",
    "\n",
    "        model.fit(X_train.values, y_train.values)\n",
    "        \n",
    "        # Let's predict the test data\n",
    "        y_pred = model.predict(X_test.values)\n",
    "        \n",
    "        # Let's calculate the accuracy score\n",
    "        acc = accuracy_score(y_test, y_pred)\n",
    "\n",
    "        # Let's calculate the confusion matrix\n",
    "        cm = confusion_matrix(y_test, y_pred)\n",
    "        \n",
    "        # Let's append the score to the list\n",
    "        scores[f'Fold-{i}'] = {'accuracy': acc, 'confusion_matrix': cm}\n",
    "        i += 1\n",
    "\n",
    "    # Let's return the scores\n",
    "    return scores"
   ]
  },
  {
   "cell_type": "markdown",
   "metadata": {},
   "source": [
    "Cross Validating"
   ]
  },
  {
   "cell_type": "code",
   "execution_count": 281,
   "metadata": {},
   "outputs": [
    {
     "name": "stdout",
     "output_type": "stream",
     "text": [
      "Training Fold 1\n",
      "----------------\n",
      "X_train:  (145, 3)\n",
      "y_train:  (145, 1)\n"
     ]
    },
    {
     "name": "stderr",
     "output_type": "stream",
     "text": [
      "C:\\Users\\ishikaj\\AppData\\Local\\Temp\\ipykernel_9008\\1252405512.py:29: RuntimeWarning: overflow encountered in exp\n",
      "  p = 1 / (1 + np.exp(-t, dtype=np.double))\n",
      "C:\\Users\\ishikaj\\AppData\\Local\\Temp\\ipykernel_9008\\1252405512.py:49: RuntimeWarning: overflow encountered in exp\n",
      "  p = 1 / (1 + np.exp(-t))\n",
      "C:\\Users\\ishikaj\\AppData\\Local\\Temp\\ipykernel_9008\\1252405512.py:29: RuntimeWarning: overflow encountered in exp\n",
      "  p = 1 / (1 + np.exp(-t, dtype=np.double))\n"
     ]
    },
    {
     "name": "stdout",
     "output_type": "stream",
     "text": [
      "Training Fold 2\n",
      "----------------\n",
      "X_train:  (145, 3)\n",
      "y_train:  (145, 1)\n"
     ]
    },
    {
     "name": "stderr",
     "output_type": "stream",
     "text": [
      "C:\\Users\\ishikaj\\AppData\\Local\\Temp\\ipykernel_9008\\1252405512.py:49: RuntimeWarning: overflow encountered in exp\n",
      "  p = 1 / (1 + np.exp(-t))\n",
      "C:\\Users\\ishikaj\\AppData\\Local\\Temp\\ipykernel_9008\\1252405512.py:29: RuntimeWarning: overflow encountered in exp\n",
      "  p = 1 / (1 + np.exp(-t, dtype=np.double))\n"
     ]
    },
    {
     "name": "stdout",
     "output_type": "stream",
     "text": [
      "Training Fold 3\n",
      "----------------\n",
      "X_train:  (146, 3)\n",
      "y_train:  (146, 1)\n"
     ]
    },
    {
     "name": "stderr",
     "output_type": "stream",
     "text": [
      "C:\\Users\\ishikaj\\AppData\\Local\\Temp\\ipykernel_9008\\1252405512.py:49: RuntimeWarning: overflow encountered in exp\n",
      "  p = 1 / (1 + np.exp(-t))\n",
      "C:\\Users\\ishikaj\\AppData\\Local\\Temp\\ipykernel_9008\\1252405512.py:29: RuntimeWarning: overflow encountered in exp\n",
      "  p = 1 / (1 + np.exp(-t, dtype=np.double))\n"
     ]
    },
    {
     "name": "stdout",
     "output_type": "stream",
     "text": [
      "Training Fold 4\n",
      "----------------\n",
      "X_train:  (146, 3)\n",
      "y_train:  (146, 1)\n"
     ]
    },
    {
     "name": "stderr",
     "output_type": "stream",
     "text": [
      "C:\\Users\\ishikaj\\AppData\\Local\\Temp\\ipykernel_9008\\1252405512.py:49: RuntimeWarning: overflow encountered in exp\n",
      "  p = 1 / (1 + np.exp(-t))\n",
      "C:\\Users\\ishikaj\\AppData\\Local\\Temp\\ipykernel_9008\\1252405512.py:29: RuntimeWarning: overflow encountered in exp\n",
      "  p = 1 / (1 + np.exp(-t, dtype=np.double))\n"
     ]
    },
    {
     "name": "stdout",
     "output_type": "stream",
     "text": [
      "Training Fold 5\n",
      "----------------\n",
      "X_train:  (146, 3)\n",
      "y_train:  (146, 1)\n"
     ]
    },
    {
     "name": "stderr",
     "output_type": "stream",
     "text": [
      "C:\\Users\\ishikaj\\AppData\\Local\\Temp\\ipykernel_9008\\1252405512.py:49: RuntimeWarning: overflow encountered in exp\n",
      "  p = 1 / (1 + np.exp(-t))\n"
     ]
    }
   ],
   "source": [
    "# Let's cross validate the model\n",
    "scores = cross_validate(model, df_x, df_y, cv=5)"
   ]
  },
  {
   "cell_type": "code",
   "execution_count": 282,
   "metadata": {},
   "outputs": [
    {
     "name": "stdout",
     "output_type": "stream",
     "text": [
      "Fold:  Fold-1\n",
      "Accuracy:  1.0\n",
      "Confusion Matrix:  [[18  0]\n",
      " [ 0 19]]\n",
      "----------------\n",
      "Fold:  Fold-2\n",
      "Accuracy:  1.0\n",
      "Confusion Matrix:  [[19  0]\n",
      " [ 0 18]]\n",
      "----------------\n",
      "Fold:  Fold-3\n",
      "Accuracy:  0.9444444444444444\n",
      "Confusion Matrix:  [[17  1]\n",
      " [ 1 17]]\n",
      "----------------\n",
      "Fold:  Fold-4\n",
      "Accuracy:  1.0\n",
      "Confusion Matrix:  [[18  0]\n",
      " [ 0 18]]\n",
      "----------------\n",
      "Fold:  Fold-5\n",
      "Accuracy:  1.0\n",
      "Confusion Matrix:  [[18  0]\n",
      " [ 0 18]]\n",
      "----------------\n"
     ]
    }
   ],
   "source": [
    "for i in scores:\n",
    "    print('Fold: ', i)\n",
    "    print('Accuracy: ', scores[i]['accuracy'])\n",
    "    print('Confusion Matrix: ', scores[i]['confusion_matrix'])\n",
    "    print('----------------')"
   ]
  },
  {
   "cell_type": "code",
   "execution_count": 283,
   "metadata": {},
   "outputs": [
    {
     "name": "stderr",
     "output_type": "stream",
     "text": [
      "C:\\Users\\ishikaj\\AppData\\Local\\Temp\\ipykernel_9008\\1252405512.py:29: RuntimeWarning: overflow encountered in exp\n",
      "  p = 1 / (1 + np.exp(-t, dtype=np.double))\n"
     ]
    },
    {
     "data": {
      "text/plain": [
       "<__main__.LogisticRegression at 0x273c2009d20>"
      ]
     },
     "execution_count": 283,
     "metadata": {},
     "output_type": "execute_result"
    }
   ],
   "source": [
    "# Training Data on the whole dataset\n",
    "model = LogisticRegression()\n",
    "model.fit(df_x.values, df_y.values)"
   ]
  },
  {
   "cell_type": "code",
   "execution_count": 284,
   "metadata": {},
   "outputs": [
    {
     "data": {
      "text/plain": [
       "array([ 269.77454012, -461.04928569,  765.73199394])"
      ]
     },
     "execution_count": 284,
     "metadata": {},
     "output_type": "execute_result"
    }
   ],
   "source": [
    "model.w_est"
   ]
  },
  {
   "cell_type": "markdown",
   "metadata": {},
   "source": [
    "### Plotting the Results"
   ]
  },
  {
   "cell_type": "code",
   "execution_count": 287,
   "metadata": {},
   "outputs": [],
   "source": [
    "# Plot the line formed by W_est\n",
    "line_x = np.linspace(0, 50, 100)\n",
    "# Line is: w0 + w1*x1 + w2*y = 0\n",
    "# y = -(w0 + w1*x1)/w2\n",
    "line_y = -(model.w_est[0] + model.w_est[1]*line_x)/model.w_est[2]"
   ]
  },
  {
   "cell_type": "code",
   "execution_count": 302,
   "metadata": {},
   "outputs": [
    {
     "data": {
      "image/png": "[encoded data removed]",
      "text/plain": [
       "<Figure size 640x480 with 1 Axes>"
      ]
     },
     "metadata": {},
     "output_type": "display_data"
    }
   ],
   "source": [
    "plt.scatter(X[:, 0], X[:, 1], color = 'red', marker='o', s=50, edgecolor='k')\n",
    "plt.scatter(Y[:, 0], Y[:, 1], color = 'blue', marker='o', s=50, edgecolor='k')\n",
    "plt.plot(line_x, line_y, color = 'green', linewidth=2, linestyle='-', label='Decision Boundary')\n",
    "plt.legend()\n",
    "plt.show()"
   ]
  },
  {
   "cell_type": "code",
   "execution_count": null,
   "metadata": {},
   "outputs": [],
   "source": []
  },
  {
   "cell_type": "code",
   "execution_count": null,
   "metadata": {},
   "outputs": [],
   "source": []
  },
  {
   "cell_type": "code",
   "execution_count": null,
   "metadata": {},
   "outputs": [],
   "source": []
  }
 ],
 "metadata": {
  "kernelspec": {
   "display_name": "Python 3.10.6 ('env': venv)",
   "language": "python",
   "name": "python3"
  },
  "language_info": {
   "codemirror_mode": {
    "name": "ipython",
    "version": 3
   },
   "file_extension": ".py",
   "mimetype": "text/x-python",
   "name": "python",
   "nbconvert_exporter": "python",
   "pygments_lexer": "ipython3",
   "version": "3.10.6"
  },
  "orig_nbformat": 4,
  "vscode": {
   "interpreter": {
    "hash": "8a918036ec0161df036d7afd155a16320edc883177e4d6b60cb3133e9d07fac8"
   }
  }
 },
 "nbformat": 4,
 "nbformat_minor": 2
}

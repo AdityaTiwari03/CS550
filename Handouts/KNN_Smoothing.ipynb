{
  "nbformat": 4,
  "nbformat_minor": 0,
  "metadata": {
    "colab": {
      "name": "Copy of Untitled1.ipynb",
      "provenance": [],
      "include_colab_link": true
    },
    "kernelspec": {
      "name": "python3",
      "display_name": "Python 3"
    },
    "language_info": {
      "name": "python"
    }
  },
  "cells": [
    {
      "cell_type": "markdown",
      "metadata": {
        "id": "view-in-github",
        "colab_type": "text"
      },
      "source": [
        "<a href=\"https://colab.research.google.com/github/gagan-iitb/CS550/blob/main/Handouts/KNN_Smoothing.ipynb\" target=\"_parent\"><img src=\"https://colab.research.google.com/assets/colab-badge.svg\" alt=\"Open In Colab\"/></a>"
      ]
    },
    {
      "cell_type": "code",
      "execution_count": 1,
      "metadata": {
        "id": "KARAwzZVTodJ"
      },
      "outputs": [],
      "source": [
        "import random\n",
        "import matplotlib.pyplot as plt\n",
        "k=5"
      ]
    },
    {
      "cell_type": "markdown",
      "source": [
        "Randomly generating 40 points as input"
      ],
      "metadata": {
        "id": "wOsg0bzmhH5v"
      }
    },
    {
      "cell_type": "code",
      "source": [
        "lstx=[]\n",
        "for j in range(40):\n",
        "  lstx.append(random.randint(0,100))\n",
        "dic={}\n",
        "lsty=[]\n",
        "for j in lstx:\n",
        "  lsty.append(random.randint(0,50))\n",
        "\n",
        "for j in range(len(lstx)):\n",
        "  dic[lstx[j]]=lsty[j]\n"
      ],
      "metadata": {
        "id": "johrtIK5T_zk"
      },
      "execution_count": 2,
      "outputs": []
    },
    {
      "cell_type": "markdown",
      "source": [
        "Plot of the input points"
      ],
      "metadata": {
        "id": "1S3c4XW0hOyv"
      }
    },
    {
      "cell_type": "code",
      "source": [
        "\n",
        "plt.scatter(lstx, lsty, c =\"blue\")\n",
        "plt.show()\n"
      ],
      "metadata": {
        "colab": {
          "base_uri": "https://localhost:8080/",
          "height": 265
        },
        "id": "n12FHrI2UHDK",
        "outputId": "ba6e08de-8737-420c-90e6-8e80aaa55534"
      },
      "execution_count": 3,
      "outputs": [
        {
          "output_type": "display_data",
          "data": {
            "text/plain": [
              "<Figure size 432x288 with 1 Axes>"
            ],
            "image/png": "[encoded data removed]"
          },
          "metadata": {
            "needs_background": "light"
          }
        }
      ]
    },
    {
      "cell_type": "markdown",
      "source": [
        "Function for calculating the k nearest neighbours"
      ],
      "metadata": {
        "id": "shyTTnxDhUJu"
      }
    },
    {
      "cell_type": "code",
      "source": [
        "def fun(x,k):\n",
        "  lst1=[]\n",
        "  for j in lstx:\n",
        "    lst1.append((abs(j-x),j))\n",
        "  lst1.sort(key=lambda x:x[0])\n",
        "  lst2=[]\n",
        "  for j in range(k):\n",
        "    lst2.append(lst1[j][1])\n",
        "  return lst2\n"
      ],
      "metadata": {
        "id": "9uQpamV0VBFe"
      },
      "execution_count": 4,
      "outputs": []
    },
    {
      "cell_type": "markdown",
      "source": [
        "Smoothening function"
      ],
      "metadata": {
        "id": "YIqCWi3thZIX"
      }
    },
    {
      "cell_type": "code",
      "source": [
        "def smooth(k_near,x):\n",
        "  s=0\n",
        "  for j in k_near:\n",
        "    d=abs(j-x)\n",
        "    a=(2.7)**(-d)\n",
        "    b=dic[j]\n",
        "    s+=(a*b)\n",
        "  nr=s\n",
        "  s=0\n",
        "  for j in k_near:\n",
        "    d=abs(j-x)\n",
        "    a=(2.7)**(-d)\n",
        "    s+=a\n",
        "  dr=s\n",
        "  return (nr/dr)"
      ],
      "metadata": {
        "id": "UqG4XvF3Xk12"
      },
      "execution_count": 5,
      "outputs": []
    },
    {
      "cell_type": "code",
      "source": [
        "def smooth2(k_near, x):\n",
        "  nr=0\n",
        "  dr=0\n",
        "  for j in k_near:\n",
        "    d=abs(j-x)\n",
        "    if (d>1):\n",
        "      a=0.01\n",
        "    else:\n",
        "      a=1-d**3 \n",
        "    b=dic[j]\n",
        "    nr+=(a*b)\n",
        "    dr+=a\n",
        "  return(nr/dr)\n"
      ],
      "metadata": {
        "id": "6un_pvKvjwDJ"
      },
      "execution_count": 11,
      "outputs": []
    },
    {
      "cell_type": "markdown",
      "source": [
        "Predicting the whole graph"
      ],
      "metadata": {
        "id": "vtW700FahdRf"
      }
    },
    {
      "cell_type": "code",
      "source": [
        "\n",
        "j=0\n",
        "while j<=max(lstx):\n",
        "  x=j\n",
        "  k_near=fun(x,k)\n",
        "  y=smooth(k_near,x)\n",
        "  dic[x]=y\n",
        "  j+=0.01\n"
      ],
      "metadata": {
        "id": "O02T7ly2XSn3"
      },
      "execution_count": 15,
      "outputs": []
    },
    {
      "cell_type": "code",
      "source": [
        "lstx1=[]\n",
        "lsty1=[]\n",
        "for j in dic.keys():\n",
        "  lstx1.append(j)\n",
        "  lsty1.append(dic[j])\n",
        "lst=[]\n",
        "for j in range(len(lstx1)):\n",
        "  lst.append((lstx1[j],lsty1[j]))\n",
        "lst.sort(key=lambda x:x[0])\n",
        "lstx1=[]\n",
        "lsty1=[]\n",
        "for j in lst:\n",
        "  lstx1.append(j[0])\n",
        "  lsty1.append(j[1])\n"
      ],
      "metadata": {
        "id": "Xrn5a6IoYu1m"
      },
      "execution_count": 16,
      "outputs": []
    },
    {
      "cell_type": "markdown",
      "source": [
        "Result"
      ],
      "metadata": {
        "id": "7QQOwd8UhkyX"
      }
    },
    {
      "cell_type": "code",
      "source": [
        "\n",
        "plt.scatter(lstx, lsty, c =\"blue\")\n",
        "plt.plot(lstx1,lsty1)\n",
        "plt.show()"
      ],
      "metadata": {
        "colab": {
          "base_uri": "https://localhost:8080/",
          "height": 265
        },
        "id": "Ek9s1eyubXPp",
        "outputId": "dd658353-ac77-4b0b-d1ca-af2d1ed18a46"
      },
      "execution_count": 17,
      "outputs": [
        {
          "output_type": "display_data",
          "data": {
            "text/plain": [
              "<Figure size 432x288 with 1 Axes>"
            ],
            "image/png": "[encoded data removed]"
          },
          "metadata": {
            "needs_background": "light"
          }
        }
      ]
    },
    {
      "cell_type": "code",
      "source": [
        ""
      ],
      "metadata": {
        "id": "PKS6F3VRcw1e"
      },
      "execution_count": null,
      "outputs": []
    }
  ]
}